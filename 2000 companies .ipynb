{
 "cells": [
  {
   "cell_type": "code",
   "execution_count": null,
   "id": "51debb85-274f-4cde-8667-4a4ce2eb5ee2",
   "metadata": {},
   "outputs": [],
   "source": [
    "import pandas as pd \n",
    "import matplotlib.pyplot as plt\n",
    "import seaborn as sns"
   ]
  },
  {
   "cell_type": "markdown",
   "id": "871b36c6-2bf9-47df-b929-12f5f5a5ad9e",
   "metadata": {},
   "source": [
    "# load dataset"
   ]
  },
  {
   "cell_type": "code",
   "execution_count": null,
   "id": "1469d70a-5303-4bdd-b971-6416093f9dad",
   "metadata": {},
   "outputs": [],
   "source": [
    "df = pd.read_csv(r\"C:\\Users\\rajat\\OneDrive\\Desktop\\dataset\\forbes 200 companies 2025\\archive (4)\\Forbes_2000_Companies_2025.csv\")"
   ]
  },
  {
   "cell_type": "code",
   "execution_count": null,
   "id": "4457a480-395c-4c4e-943e-2e103a733563",
   "metadata": {},
   "outputs": [
    {
     "data": {
      "text/html": [
       "<div>\n",
       "<style scoped>\n",
       "    .dataframe tbody tr th:only-of-type {\n",
       "        vertical-align: middle;\n",
       "    }\n",
       "\n",
       "    .dataframe tbody tr th {\n",
       "        vertical-align: top;\n",
       "    }\n",
       "\n",
       "    .dataframe thead th {\n",
       "        text-align: right;\n",
       "    }\n",
       "</style>\n",
       "<table border=\"1\" class=\"dataframe\">\n",
       "  <thead>\n",
       "    <tr style=\"text-align: right;\">\n",
       "      <th></th>\n",
       "      <th>Rank</th>\n",
       "      <th>Company</th>\n",
       "      <th>Headquarters</th>\n",
       "      <th>Industry</th>\n",
       "      <th>Sales ($B)</th>\n",
       "      <th>Profit ($B)</th>\n",
       "      <th>Assets ($B)</th>\n",
       "      <th>Market Value ($B)</th>\n",
       "    </tr>\n",
       "  </thead>\n",
       "  <tbody>\n",
       "    <tr>\n",
       "      <th>0</th>\n",
       "      <td>1</td>\n",
       "      <td>JPMorganChase</td>\n",
       "      <td>United States</td>\n",
       "      <td>Banking</td>\n",
       "      <td>285.110</td>\n",
       "      <td>59.36</td>\n",
       "      <td>4.00</td>\n",
       "      <td>NaN</td>\n",
       "    </tr>\n",
       "    <tr>\n",
       "      <th>1</th>\n",
       "      <td>2</td>\n",
       "      <td>Berkshire Hathaway</td>\n",
       "      <td>United States</td>\n",
       "      <td>Insurance</td>\n",
       "      <td>371.430</td>\n",
       "      <td>89</td>\n",
       "      <td>1.00</td>\n",
       "      <td>NaN</td>\n",
       "    </tr>\n",
       "    <tr>\n",
       "      <th>2</th>\n",
       "      <td>3</td>\n",
       "      <td>ICBC</td>\n",
       "      <td>China</td>\n",
       "      <td>Banking</td>\n",
       "      <td>221.960</td>\n",
       "      <td>50.84</td>\n",
       "      <td>6.00</td>\n",
       "      <td>NaN</td>\n",
       "    </tr>\n",
       "    <tr>\n",
       "      <th>3</th>\n",
       "      <td>4</td>\n",
       "      <td>Saudi Arabian Oil Company (Saudi Aramco)</td>\n",
       "      <td>Saudi Arabia</td>\n",
       "      <td>Oil &amp; Gas Operations</td>\n",
       "      <td>480.150</td>\n",
       "      <td>104.97</td>\n",
       "      <td>645.03</td>\n",
       "      <td>1.000</td>\n",
       "    </tr>\n",
       "    <tr>\n",
       "      <th>4</th>\n",
       "      <td>5</td>\n",
       "      <td>Amazon</td>\n",
       "      <td>United States</td>\n",
       "      <td>Retail and Wholesale</td>\n",
       "      <td>637.960</td>\n",
       "      <td>59.25</td>\n",
       "      <td>624.89</td>\n",
       "      <td>2.000</td>\n",
       "    </tr>\n",
       "    <tr>\n",
       "      <th>...</th>\n",
       "      <td>...</td>\n",
       "      <td>...</td>\n",
       "      <td>...</td>\n",
       "      <td>...</td>\n",
       "      <td>...</td>\n",
       "      <td>...</td>\n",
       "      <td>...</td>\n",
       "      <td>...</td>\n",
       "    </tr>\n",
       "    <tr>\n",
       "      <th>1995</th>\n",
       "      <td>1996</td>\n",
       "      <td>Dino Polska</td>\n",
       "      <td>Poland</td>\n",
       "      <td>Food Markets</td>\n",
       "      <td>7.360</td>\n",
       "      <td>0.3781</td>\n",
       "      <td>3.16</td>\n",
       "      <td>13.840</td>\n",
       "    </tr>\n",
       "    <tr>\n",
       "      <th>1996</th>\n",
       "      <td>1997</td>\n",
       "      <td>China Aviation Oil</td>\n",
       "      <td>Singapore</td>\n",
       "      <td>Trading Companies</td>\n",
       "      <td>15.520</td>\n",
       "      <td>0.0784</td>\n",
       "      <td>1.99</td>\n",
       "      <td>0.559</td>\n",
       "    </tr>\n",
       "    <tr>\n",
       "      <th>1997</th>\n",
       "      <td>1998</td>\n",
       "      <td>Jet2</td>\n",
       "      <td>United Kingdom</td>\n",
       "      <td>Business Services &amp; Supplies</td>\n",
       "      <td>8.790</td>\n",
       "      <td>0.6288</td>\n",
       "      <td>7.95</td>\n",
       "      <td>3.930</td>\n",
       "    </tr>\n",
       "    <tr>\n",
       "      <th>1998</th>\n",
       "      <td>1998</td>\n",
       "      <td>Keiyo Bank</td>\n",
       "      <td>Japan</td>\n",
       "      <td>Banking</td>\n",
       "      <td>0.474</td>\n",
       "      <td>0.0927</td>\n",
       "      <td>42.56</td>\n",
       "      <td>0.679</td>\n",
       "    </tr>\n",
       "    <tr>\n",
       "      <th>1999</th>\n",
       "      <td>1998</td>\n",
       "      <td>PT Lippo Karawaci</td>\n",
       "      <td>Indonesia</td>\n",
       "      <td>Construction</td>\n",
       "      <td>0.716</td>\n",
       "      <td>1.18</td>\n",
       "      <td>3.34</td>\n",
       "      <td>0.366</td>\n",
       "    </tr>\n",
       "  </tbody>\n",
       "</table>\n",
       "<p>2000 rows × 8 columns</p>\n",
       "</div>"
      ],
      "text/plain": [
       "      Rank                                   Company    Headquarters  \\\n",
       "0        1                             JPMorganChase   United States   \n",
       "1        2                        Berkshire Hathaway   United States   \n",
       "2        3                                      ICBC           China   \n",
       "3        4  Saudi Arabian Oil Company (Saudi Aramco)    Saudi Arabia   \n",
       "4        5                                    Amazon   United States   \n",
       "...    ...                                       ...             ...   \n",
       "1995  1996                               Dino Polska          Poland   \n",
       "1996  1997                        China Aviation Oil       Singapore   \n",
       "1997  1998                                      Jet2  United Kingdom   \n",
       "1998  1998                                Keiyo Bank           Japan   \n",
       "1999  1998                         PT Lippo Karawaci       Indonesia   \n",
       "\n",
       "                          Industry  Sales ($B) Profit ($B)  Assets ($B)  \\\n",
       "0                          Banking     285.110       59.36         4.00   \n",
       "1                        Insurance     371.430          89         1.00   \n",
       "2                          Banking     221.960       50.84         6.00   \n",
       "3             Oil & Gas Operations     480.150      104.97       645.03   \n",
       "4             Retail and Wholesale     637.960       59.25       624.89   \n",
       "...                            ...         ...         ...          ...   \n",
       "1995                  Food Markets       7.360      0.3781         3.16   \n",
       "1996             Trading Companies      15.520      0.0784         1.99   \n",
       "1997  Business Services & Supplies       8.790      0.6288         7.95   \n",
       "1998                       Banking       0.474      0.0927        42.56   \n",
       "1999                  Construction       0.716        1.18         3.34   \n",
       "\n",
       "      Market Value ($B)  \n",
       "0                   NaN  \n",
       "1                   NaN  \n",
       "2                   NaN  \n",
       "3                 1.000  \n",
       "4                 2.000  \n",
       "...                 ...  \n",
       "1995             13.840  \n",
       "1996              0.559  \n",
       "1997              3.930  \n",
       "1998              0.679  \n",
       "1999              0.366  \n",
       "\n",
       "[2000 rows x 8 columns]"
      ]
     },
     "execution_count": 4,
     "metadata": {},
     "output_type": "execute_result"
    }
   ],
   "source": [
    "df"
   ]
  },
  {
   "cell_type": "code",
   "execution_count": null,
   "id": "ee2ba538-218c-4334-824c-af9c9978b28c",
   "metadata": {},
   "outputs": [
    {
     "data": {
      "text/html": [
       "<div>\n",
       "<style scoped>\n",
       "    .dataframe tbody tr th:only-of-type {\n",
       "        vertical-align: middle;\n",
       "    }\n",
       "\n",
       "    .dataframe tbody tr th {\n",
       "        vertical-align: top;\n",
       "    }\n",
       "\n",
       "    .dataframe thead th {\n",
       "        text-align: right;\n",
       "    }\n",
       "</style>\n",
       "<table border=\"1\" class=\"dataframe\">\n",
       "  <thead>\n",
       "    <tr style=\"text-align: right;\">\n",
       "      <th></th>\n",
       "      <th>Rank</th>\n",
       "      <th>Company</th>\n",
       "      <th>Headquarters</th>\n",
       "      <th>Industry</th>\n",
       "      <th>Sales ($B)</th>\n",
       "      <th>Profit ($B)</th>\n",
       "      <th>Assets ($B)</th>\n",
       "      <th>Market Value ($B)</th>\n",
       "    </tr>\n",
       "  </thead>\n",
       "  <tbody>\n",
       "    <tr>\n",
       "      <th>0</th>\n",
       "      <td>1</td>\n",
       "      <td>JPMorganChase</td>\n",
       "      <td>United States</td>\n",
       "      <td>Banking</td>\n",
       "      <td>285.11</td>\n",
       "      <td>59.36</td>\n",
       "      <td>4.00</td>\n",
       "      <td>NaN</td>\n",
       "    </tr>\n",
       "    <tr>\n",
       "      <th>1</th>\n",
       "      <td>2</td>\n",
       "      <td>Berkshire Hathaway</td>\n",
       "      <td>United States</td>\n",
       "      <td>Insurance</td>\n",
       "      <td>371.43</td>\n",
       "      <td>89</td>\n",
       "      <td>1.00</td>\n",
       "      <td>NaN</td>\n",
       "    </tr>\n",
       "    <tr>\n",
       "      <th>2</th>\n",
       "      <td>3</td>\n",
       "      <td>ICBC</td>\n",
       "      <td>China</td>\n",
       "      <td>Banking</td>\n",
       "      <td>221.96</td>\n",
       "      <td>50.84</td>\n",
       "      <td>6.00</td>\n",
       "      <td>NaN</td>\n",
       "    </tr>\n",
       "    <tr>\n",
       "      <th>3</th>\n",
       "      <td>4</td>\n",
       "      <td>Saudi Arabian Oil Company (Saudi Aramco)</td>\n",
       "      <td>Saudi Arabia</td>\n",
       "      <td>Oil &amp; Gas Operations</td>\n",
       "      <td>480.15</td>\n",
       "      <td>104.97</td>\n",
       "      <td>645.03</td>\n",
       "      <td>1.0</td>\n",
       "    </tr>\n",
       "    <tr>\n",
       "      <th>4</th>\n",
       "      <td>5</td>\n",
       "      <td>Amazon</td>\n",
       "      <td>United States</td>\n",
       "      <td>Retail and Wholesale</td>\n",
       "      <td>637.96</td>\n",
       "      <td>59.25</td>\n",
       "      <td>624.89</td>\n",
       "      <td>2.0</td>\n",
       "    </tr>\n",
       "  </tbody>\n",
       "</table>\n",
       "</div>"
      ],
      "text/plain": [
       "   Rank                                   Company   Headquarters  \\\n",
       "0     1                             JPMorganChase  United States   \n",
       "1     2                        Berkshire Hathaway  United States   \n",
       "2     3                                      ICBC          China   \n",
       "3     4  Saudi Arabian Oil Company (Saudi Aramco)   Saudi Arabia   \n",
       "4     5                                    Amazon  United States   \n",
       "\n",
       "               Industry  Sales ($B) Profit ($B)  Assets ($B)  \\\n",
       "0               Banking      285.11       59.36         4.00   \n",
       "1             Insurance      371.43          89         1.00   \n",
       "2               Banking      221.96       50.84         6.00   \n",
       "3  Oil & Gas Operations      480.15      104.97       645.03   \n",
       "4  Retail and Wholesale      637.96       59.25       624.89   \n",
       "\n",
       "   Market Value ($B)  \n",
       "0                NaN  \n",
       "1                NaN  \n",
       "2                NaN  \n",
       "3                1.0  \n",
       "4                2.0  "
      ]
     },
     "execution_count": 5,
     "metadata": {},
     "output_type": "execute_result"
    }
   ],
   "source": [
    "df.head()"
   ]
  },
  {
   "cell_type": "code",
   "execution_count": null,
   "id": "cd865845-e913-4c1c-b937-d4d6c0315d09",
   "metadata": {},
   "outputs": [
    {
     "data": {
      "text/plain": [
       "(2000, 8)"
      ]
     },
     "execution_count": 6,
     "metadata": {},
     "output_type": "execute_result"
    }
   ],
   "source": [
    "df.shape"
   ]
  },
  {
   "cell_type": "code",
   "execution_count": null,
   "id": "98e66d84-f8ee-4943-9835-a12ee94449bf",
   "metadata": {},
   "outputs": [
    {
     "name": "stdout",
     "output_type": "stream",
     "text": [
      "<class 'pandas.core.frame.DataFrame'>\n",
      "RangeIndex: 2000 entries, 0 to 1999\n",
      "Data columns (total 8 columns):\n",
      " #   Column             Non-Null Count  Dtype  \n",
      "---  ------             --------------  -----  \n",
      " 0   Rank               2000 non-null   int64  \n",
      " 1   Company            2000 non-null   object \n",
      " 2   Headquarters       1996 non-null   object \n",
      " 3   Industry           1996 non-null   object \n",
      " 4   Sales ($B)         1882 non-null   float64\n",
      " 5   Profit ($B)        1882 non-null   object \n",
      " 6   Assets ($B)        1882 non-null   float64\n",
      " 7   Market Value ($B)  1842 non-null   float64\n",
      "dtypes: float64(3), int64(1), object(4)\n",
      "memory usage: 125.1+ KB\n"
     ]
    }
   ],
   "source": [
    "df.info()"
   ]
  },
  {
   "cell_type": "code",
   "execution_count": null,
   "id": "f31ed7e1-9d97-4722-a678-82bff6115abc",
   "metadata": {},
   "outputs": [
    {
     "name": "stderr",
     "output_type": "stream",
     "text": [
      "C:\\Users\\rajat\\AppData\\Local\\Temp\\ipykernel_6632\\3761659359.py:1: FutureWarning: A value is trying to be set on a copy of a DataFrame or Series through chained assignment using an inplace method.\n",
      "The behavior will change in pandas 3.0. This inplace method will never work because the intermediate object on which we are setting values always behaves as a copy.\n",
      "\n",
      "For example, when doing 'df[col].method(value, inplace=True)', try using 'df.method({col: value}, inplace=True)' or df[col] = df[col].method(value) instead, to perform the operation inplace on the original object.\n",
      "\n",
      "\n",
      "  df['Headquarters'].fillna('Unknown', inplace=True)\n"
     ]
    }
   ],
   "source": [
    "df['Headquarters'].fillna('Unknown', inplace=True)"
   ]
  },
  {
   "cell_type": "code",
   "execution_count": null,
   "id": "d22509fd-a694-4ed0-afbc-121212c3acb8",
   "metadata": {},
   "outputs": [
    {
     "data": {
      "text/plain": [
       "0"
      ]
     },
     "execution_count": 9,
     "metadata": {},
     "output_type": "execute_result"
    }
   ],
   "source": [
    "df['Headquarters'].isna().sum()"
   ]
  },
  {
   "cell_type": "code",
   "execution_count": null,
   "id": "30366ac9-6c4a-43df-a319-fce8ca1a99e2",
   "metadata": {},
   "outputs": [
    {
     "name": "stderr",
     "output_type": "stream",
     "text": [
      "C:\\Users\\rajat\\AppData\\Local\\Temp\\ipykernel_6632\\1448214415.py:1: FutureWarning: A value is trying to be set on a copy of a DataFrame or Series through chained assignment using an inplace method.\n",
      "The behavior will change in pandas 3.0. This inplace method will never work because the intermediate object on which we are setting values always behaves as a copy.\n",
      "\n",
      "For example, when doing 'df[col].method(value, inplace=True)', try using 'df.method({col: value}, inplace=True)' or df[col] = df[col].method(value) instead, to perform the operation inplace on the original object.\n",
      "\n",
      "\n",
      "  df['Industry'].fillna('Unknown', inplace=True)\n"
     ]
    }
   ],
   "source": [
    "df['Industry'].fillna('Unknown', inplace=True)"
   ]
  },
  {
   "cell_type": "code",
   "execution_count": null,
   "id": "7a6753c3-6c32-4047-af5f-da517ff0b94a",
   "metadata": {},
   "outputs": [
    {
     "data": {
      "text/plain": [
       "0"
      ]
     },
     "execution_count": 11,
     "metadata": {},
     "output_type": "execute_result"
    }
   ],
   "source": [
    "df['Industry'].isna().sum()"
   ]
  },
  {
   "cell_type": "code",
   "execution_count": null,
   "id": "3e79a8de-dc20-425e-8d0f-9236af3583a3",
   "metadata": {},
   "outputs": [
    {
     "name": "stderr",
     "output_type": "stream",
     "text": [
      "C:\\Users\\rajat\\AppData\\Local\\Temp\\ipykernel_6632\\426431337.py:1: FutureWarning: A value is trying to be set on a copy of a DataFrame or Series through chained assignment using an inplace method.\n",
      "The behavior will change in pandas 3.0. This inplace method will never work because the intermediate object on which we are setting values always behaves as a copy.\n",
      "\n",
      "For example, when doing 'df[col].method(value, inplace=True)', try using 'df.method({col: value}, inplace=True)' or df[col] = df[col].method(value) instead, to perform the operation inplace on the original object.\n",
      "\n",
      "\n",
      "  df['Sales ($B)'].fillna(df['Sales ($B)'].mean(), inplace=True)\n"
     ]
    }
   ],
   "source": [
    "df['Sales ($B)'].fillna(df['Sales ($B)'].mean(), inplace=True)"
   ]
  },
  {
   "cell_type": "code",
   "execution_count": null,
   "id": "c83e8729-c557-483b-8b9c-2899a274ec83",
   "metadata": {},
   "outputs": [
    {
     "data": {
      "text/plain": [
       "0"
      ]
     },
     "execution_count": 13,
     "metadata": {},
     "output_type": "execute_result"
    }
   ],
   "source": [
    "df['Sales ($B)'].isna().sum()"
   ]
  },
  {
   "cell_type": "code",
   "execution_count": null,
   "id": "db19d596-d693-4fe8-b391-a038fc41e1fd",
   "metadata": {},
   "outputs": [
    {
     "data": {
      "text/plain": [
       "array(['59.36', '89', '50.84', '104.97', '59.25', '27.85', '46.64',\n",
       "       '39.2', '111', '92.75', '96.15', '32.3', '33.68', '33.65', '22.97',\n",
       "       '20', '22.11', '19.44', '24.65', '14.88', '62.36', '13.25',\n",
       "       '16.12', '14.29', '10.59', '12.9', '17.61', '22.88', '13.6',\n",
       "       '17.66', '17.78', '19.31', '16.72', '12.82', '11.85', '11.73',\n",
       "       '26.97', '40.32', '20.62', '12.12', '15.78', '21.81', '15.71',\n",
       "       '8.31', '8.24', '6.39', '72.88', nan, '13.58', '10.2', '6.99',\n",
       "       '10.77', '8.37', '11.6', '9.48', '8.62', '12.22', '7.48', '12.02',\n",
       "       '15.5', '9.37', '10.4', '6.44', '5.08', '6.88', '12.16', '14.81',\n",
       "       '10.07', '6.37', '5.82', '5.62', '11.04', '8.02', '4.61', '10.73',\n",
       "       '17.43', '8.46', '6.15', '7.39', '9.4', '7.89', '7.62', '5.15',\n",
       "       '5.92', '19.17', '6.21', '7.59', '14.86', '5.89', '4.6', '9.19',\n",
       "       '5.47', '8.72', '7.23', '6.79', '11.95', '8.04', '4.88', '6.01',\n",
       "       '9.22'], dtype=object)"
      ]
     },
     "execution_count": 14,
     "metadata": {},
     "output_type": "execute_result"
    }
   ],
   "source": [
    "df['Profit ($B)'].unique()[:100]"
   ]
  },
  {
   "cell_type": "code",
   "execution_count": null,
   "id": "eec5eae2-2c68-413b-9f74-3c8e68b03be4",
   "metadata": {},
   "outputs": [],
   "source": [
    "df['Profit ($B)'] = pd.to_numeric(df['Profit ($B)'], errors='coerce')"
   ]
  },
  {
   "cell_type": "code",
   "execution_count": null,
   "id": "32a21b8f-cf03-4fe7-bc51-8a4b5ee03090",
   "metadata": {},
   "outputs": [
    {
     "name": "stderr",
     "output_type": "stream",
     "text": [
      "C:\\Users\\rajat\\AppData\\Local\\Temp\\ipykernel_6632\\2815711116.py:1: FutureWarning: A value is trying to be set on a copy of a DataFrame or Series through chained assignment using an inplace method.\n",
      "The behavior will change in pandas 3.0. This inplace method will never work because the intermediate object on which we are setting values always behaves as a copy.\n",
      "\n",
      "For example, when doing 'df[col].method(value, inplace=True)', try using 'df.method({col: value}, inplace=True)' or df[col] = df[col].method(value) instead, to perform the operation inplace on the original object.\n",
      "\n",
      "\n",
      "  df['Profit ($B)'].fillna(df['Sales ($B)'].mean(), inplace=True)\n"
     ]
    }
   ],
   "source": [
    "df['Profit ($B)'].fillna(df['Sales ($B)'].mean(), inplace=True)"
   ]
  },
  {
   "cell_type": "code",
   "execution_count": null,
   "id": "6a18b664-f291-4c39-83f9-b451d98b175e",
   "metadata": {},
   "outputs": [
    {
     "data": {
      "text/plain": [
       "0"
      ]
     },
     "execution_count": 17,
     "metadata": {},
     "output_type": "execute_result"
    }
   ],
   "source": [
    "df['Profit ($B)'].isna().sum()"
   ]
  },
  {
   "cell_type": "code",
   "execution_count": null,
   "id": "327074ab-a0ff-4ff4-9597-a52d81cc9c2b",
   "metadata": {},
   "outputs": [
    {
     "data": {
      "text/plain": [
       "dtype('float64')"
      ]
     },
     "execution_count": 18,
     "metadata": {},
     "output_type": "execute_result"
    }
   ],
   "source": [
    "df['Profit ($B)'].dtype"
   ]
  },
  {
   "cell_type": "code",
   "execution_count": null,
   "id": "b00e7e8c-f654-4cfe-884f-ae768b4705b1",
   "metadata": {},
   "outputs": [
    {
     "name": "stderr",
     "output_type": "stream",
     "text": [
      "C:\\Users\\rajat\\AppData\\Local\\Temp\\ipykernel_6632\\557547201.py:1: FutureWarning: A value is trying to be set on a copy of a DataFrame or Series through chained assignment using an inplace method.\n",
      "The behavior will change in pandas 3.0. This inplace method will never work because the intermediate object on which we are setting values always behaves as a copy.\n",
      "\n",
      "For example, when doing 'df[col].method(value, inplace=True)', try using 'df.method({col: value}, inplace=True)' or df[col] = df[col].method(value) instead, to perform the operation inplace on the original object.\n",
      "\n",
      "\n",
      "  df['Assets ($B)'].fillna(df['Assets ($B)'].mean(), inplace=True)\n"
     ]
    }
   ],
   "source": [
    "df['Assets ($B)'].fillna(df['Assets ($B)'].mean(), inplace=True)"
   ]
  },
  {
   "cell_type": "code",
   "execution_count": null,
   "id": "9008ea6a-a872-4b89-871d-bad16dc5b122",
   "metadata": {},
   "outputs": [
    {
     "data": {
      "text/plain": [
       "0"
      ]
     },
     "execution_count": 20,
     "metadata": {},
     "output_type": "execute_result"
    }
   ],
   "source": [
    "df['Assets ($B)'].isna().sum()"
   ]
  },
  {
   "cell_type": "code",
   "execution_count": null,
   "id": "8ec91d94-4014-4d7d-8ce5-b022d8feb828",
   "metadata": {},
   "outputs": [
    {
     "data": {
      "text/plain": [
       "158"
      ]
     },
     "execution_count": 21,
     "metadata": {},
     "output_type": "execute_result"
    }
   ],
   "source": [
    "df['Market Value ($B)'].isna().sum()"
   ]
  },
  {
   "cell_type": "code",
   "execution_count": null,
   "id": "0491f2b2-5c9d-4707-acfb-8ac3975aa1f6",
   "metadata": {},
   "outputs": [
    {
     "name": "stderr",
     "output_type": "stream",
     "text": [
      "C:\\Users\\rajat\\AppData\\Local\\Temp\\ipykernel_6632\\17805563.py:1: FutureWarning: A value is trying to be set on a copy of a DataFrame or Series through chained assignment using an inplace method.\n",
      "The behavior will change in pandas 3.0. This inplace method will never work because the intermediate object on which we are setting values always behaves as a copy.\n",
      "\n",
      "For example, when doing 'df[col].method(value, inplace=True)', try using 'df.method({col: value}, inplace=True)' or df[col] = df[col].method(value) instead, to perform the operation inplace on the original object.\n",
      "\n",
      "\n",
      "  df['Market Value ($B)'].fillna('NaN', inplace=True)\n",
      "C:\\Users\\rajat\\AppData\\Local\\Temp\\ipykernel_6632\\17805563.py:1: FutureWarning: Setting an item of incompatible dtype is deprecated and will raise an error in a future version of pandas. Value 'NaN' has dtype incompatible with float64, please explicitly cast to a compatible dtype first.\n",
      "  df['Market Value ($B)'].fillna('NaN', inplace=True)\n"
     ]
    }
   ],
   "source": [
    "df['Market Value ($B)'].fillna('NaN', inplace=True)"
   ]
  },
  {
   "cell_type": "code",
   "execution_count": null,
   "id": "70190a41-eb79-40a9-b49c-d635c5c4d832",
   "metadata": {},
   "outputs": [
    {
     "data": {
      "text/plain": [
       "0"
      ]
     },
     "execution_count": 23,
     "metadata": {},
     "output_type": "execute_result"
    }
   ],
   "source": [
    "df['Market Value ($B)'].isna().sum()"
   ]
  },
  {
   "cell_type": "code",
   "execution_count": null,
   "id": "464707f7-7139-486f-883b-1849d0d2f52d",
   "metadata": {},
   "outputs": [
    {
     "data": {
      "text/plain": [
       "0"
      ]
     },
     "execution_count": 24,
     "metadata": {},
     "output_type": "execute_result"
    }
   ],
   "source": [
    "df.duplicated().sum()"
   ]
  },
  {
   "cell_type": "code",
   "execution_count": null,
   "id": "a50a213c-7bd3-4c03-863f-dd547be76927",
   "metadata": {},
   "outputs": [],
   "source": [
    "df['Market Value ($B)'] = df['Market Value ($B)'].astype(float)\n"
   ]
  },
  {
   "cell_type": "code",
   "execution_count": null,
   "id": "1f67013c-b4a8-468c-9b8d-267098958f8a",
   "metadata": {},
   "outputs": [
    {
     "name": "stdout",
     "output_type": "stream",
     "text": [
      "<class 'pandas.core.frame.DataFrame'>\n",
      "RangeIndex: 2000 entries, 0 to 1999\n",
      "Data columns (total 8 columns):\n",
      " #   Column             Non-Null Count  Dtype  \n",
      "---  ------             --------------  -----  \n",
      " 0   Rank               2000 non-null   int64  \n",
      " 1   Company            2000 non-null   object \n",
      " 2   Headquarters       2000 non-null   object \n",
      " 3   Industry           2000 non-null   object \n",
      " 4   Sales ($B)         2000 non-null   float64\n",
      " 5   Profit ($B)        2000 non-null   float64\n",
      " 6   Assets ($B)        2000 non-null   float64\n",
      " 7   Market Value ($B)  1842 non-null   float64\n",
      "dtypes: float64(4), int64(1), object(3)\n",
      "memory usage: 125.1+ KB\n"
     ]
    }
   ],
   "source": [
    "df.info()"
   ]
  },
  {
   "cell_type": "code",
   "execution_count": null,
   "id": "7e68e4f3-f69d-4135-b82b-a4d40a039fa7",
   "metadata": {},
   "outputs": [
    {
     "data": {
      "text/html": [
       "<div>\n",
       "<style scoped>\n",
       "    .dataframe tbody tr th:only-of-type {\n",
       "        vertical-align: middle;\n",
       "    }\n",
       "\n",
       "    .dataframe tbody tr th {\n",
       "        vertical-align: top;\n",
       "    }\n",
       "\n",
       "    .dataframe thead th {\n",
       "        text-align: right;\n",
       "    }\n",
       "</style>\n",
       "<table border=\"1\" class=\"dataframe\">\n",
       "  <thead>\n",
       "    <tr style=\"text-align: right;\">\n",
       "      <th></th>\n",
       "      <th>Rank</th>\n",
       "      <th>Sales ($B)</th>\n",
       "      <th>Profit ($B)</th>\n",
       "      <th>Assets ($B)</th>\n",
       "      <th>Market Value ($B)</th>\n",
       "    </tr>\n",
       "  </thead>\n",
       "  <tbody>\n",
       "    <tr>\n",
       "      <th>count</th>\n",
       "      <td>2000.000000</td>\n",
       "      <td>2000.000000</td>\n",
       "      <td>2000.000000</td>\n",
       "      <td>2000.000000</td>\n",
       "      <td>1842.000000</td>\n",
       "    </tr>\n",
       "    <tr>\n",
       "      <th>mean</th>\n",
       "      <td>1000.331000</td>\n",
       "      <td>26.825928</td>\n",
       "      <td>3.931006</td>\n",
       "      <td>76.842438</td>\n",
       "      <td>35.241922</td>\n",
       "    </tr>\n",
       "    <tr>\n",
       "      <th>std</th>\n",
       "      <td>577.430053</td>\n",
       "      <td>47.683095</td>\n",
       "      <td>8.951509</td>\n",
       "      <td>123.903577</td>\n",
       "      <td>67.271962</td>\n",
       "    </tr>\n",
       "    <tr>\n",
       "      <th>min</th>\n",
       "      <td>1.000000</td>\n",
       "      <td>-21.470000</td>\n",
       "      <td>-21.650000</td>\n",
       "      <td>0.181000</td>\n",
       "      <td>0.175000</td>\n",
       "    </tr>\n",
       "    <tr>\n",
       "      <th>25%</th>\n",
       "      <td>500.750000</td>\n",
       "      <td>6.297500</td>\n",
       "      <td>0.537675</td>\n",
       "      <td>15.927500</td>\n",
       "      <td>7.765000</td>\n",
       "    </tr>\n",
       "    <tr>\n",
       "      <th>50%</th>\n",
       "      <td>1000.500000</td>\n",
       "      <td>14.205000</td>\n",
       "      <td>1.095000</td>\n",
       "      <td>37.660000</td>\n",
       "      <td>16.660000</td>\n",
       "    </tr>\n",
       "    <tr>\n",
       "      <th>75%</th>\n",
       "      <td>1500.250000</td>\n",
       "      <td>26.825928</td>\n",
       "      <td>2.820000</td>\n",
       "      <td>76.842438</td>\n",
       "      <td>34.637500</td>\n",
       "    </tr>\n",
       "    <tr>\n",
       "      <th>max</th>\n",
       "      <td>1998.000000</td>\n",
       "      <td>680.990000</td>\n",
       "      <td>111.000000</td>\n",
       "      <td>996.850000</td>\n",
       "      <td>916.550000</td>\n",
       "    </tr>\n",
       "  </tbody>\n",
       "</table>\n",
       "</div>"
      ],
      "text/plain": [
       "              Rank   Sales ($B)  Profit ($B)  Assets ($B)  Market Value ($B)\n",
       "count  2000.000000  2000.000000  2000.000000  2000.000000        1842.000000\n",
       "mean   1000.331000    26.825928     3.931006    76.842438          35.241922\n",
       "std     577.430053    47.683095     8.951509   123.903577          67.271962\n",
       "min       1.000000   -21.470000   -21.650000     0.181000           0.175000\n",
       "25%     500.750000     6.297500     0.537675    15.927500           7.765000\n",
       "50%    1000.500000    14.205000     1.095000    37.660000          16.660000\n",
       "75%    1500.250000    26.825928     2.820000    76.842438          34.637500\n",
       "max    1998.000000   680.990000   111.000000   996.850000         916.550000"
      ]
     },
     "execution_count": 27,
     "metadata": {},
     "output_type": "execute_result"
    }
   ],
   "source": [
    "df.describe()"
   ]
  },
  {
   "cell_type": "code",
   "execution_count": null,
   "id": "46647dc8-edb5-47a2-abb7-e3a0308d1cb6",
   "metadata": {},
   "outputs": [
    {
     "ename": "TypeError",
     "evalue": "Could not convert [\"JPMorganChaseBerkshire HathawayICBCSaudi Arabian Oil Company (Saudi Aramco)AmazonBank of AmericaChina Construction BankAgricultural Bank of ChinaAlphabetMicrosoftAppleBank of ChinaExxonMobilToyota MotorHSBC HoldingsWells FargoUnitedHealth GroupWalmartSamsung ElectronicsGoldman Sachs GroupMeta PlatformsCitigroupShell PlcMorgan StanleyAllianzRBCPing An Insurance GroupPetroChinaSantanderChevronVerizon CommunicationsChina MobileAlibaba GroupMitsubishi UFJ FinancialAT&TBNP ParibasTencent HoldingsTaiwan SemiconductorChina Merchants BankDeutsche TelekomTotalEnergiesJohnson & JohnsonComcastAXA GroupReliance IndustriesTD Bank GroupNVIDIANestléLVMH Louis Vuitton Moet HennessyAmerican ExpressSinopecBBVA-Banco Bilbao VizcayaHDFC BankVolkswagen GroupState Bank of IndiaSumitomo Mitsui FinancialBank of CommunicationsSonyPostal Savings Bank Of China (PSBC)Procter & GambleIntesa Sanpaolo AssicuraSiemensCommonwealth BankUBSCredit AgricoleOracleThe Home DepotBroadcomTeslaZurich Insurance GroupThe Walt Disney CompanyMercedes-Benz GroupPfizerCVS HealthIndustrial BankMerck & Co.ChubbMunich ReNippon Telegraph & TelRoche HoldingBMW GroupItaú Unibanco HoldingLife Insurance Corp. of IndiaBMOCNOOCPepsiCoBYDEnelChina Life InsuranceMizuho FinancialRTXAnheuser-Busch InBevCostco WholesaleCisco SystemsIBMProgressiveMitsubishiElevance HealthPetrobrasNovartisCITICBank of Nova ScotiaGeneral MotorsCoca-ColaConocoPhillipsEquinorCapital OneAbbVieAstraZenecaUS BancorpChina Citic BankIberdrolaDBSGenerali GroupICICI BankUniCreditHonda MotorCaterpillarAIRBUSCignaContemporary Amperex TechnologyTokio Marine HoldingsGE AerospaceCharles SchwabBHP GroupVisaFord MotorMetLifeCanadian Imperial BankSoftbankSanofiNAB - National Australia BankDeutsche BankBarclaysRio TintoChina State Construction EngineeringHon Hai PrecisionEli LillyVINCIWestpac Banking GroupShanghai Pudong DevelopmentHyundai MotorLloyds Banking GroupAbbott LaboratoriesUnileverPNC Financial ServicesSalesforceThermo Fisher ScientificJohn DeereANZ Group HoldingsMitsuiItochuPDD HoldingsAIA GroupSK HynixNatWest GroupBank of New York MellonNovo NordiskENGIEAccentureSociété GénéraleCaixaBankChina TelecomSAPING GroupEnbridgeManulifeCharter CommunicationsChina Shenhua EnergyNextEra EnergyJD.comUnited Parcel ServiceBristol Myers SquibbDuke EnergyHitachiE.ONLindeApollo Global ManagementPhilip Morris InternationalStellantisNordea BankL'OréalDell TechnologiesBritish American TobaccoMidea GroupPrudential FinancialAllstateBanco do BrasilNetflixTravelersBlackRockHoneywell InternationalLockheed MartinQualcommMcKessonQatar National BankSouthern CompanyInternational Holding CompanyUberChina Pacific InsuranceStandard CharteredAmgenPICCHCA HealthcareEniLowe'sKKRTruist FinancialSchneider ElectricMedtronicKDDIFedExOversea-Chinese BankingASML HoldingSwiss ReMS&AD InsuranceMastercardChina Everbright BankDeutsche PostOil & Natural GasMarathon PetroleumEmirates NBDAl Rajhi BankMcDonald'sMondelez InternationalKBC GroupUnited Overseas BankMicron TechnologyUnion PacificXiaomiJapan Post HoldingsFubon FinancialGilead SciencesDai-ichi Life InsuranceVolvo GroupGSKBanco BradescoAmerican International GroupPayPalFirst Abu Dhabi BankDanaherGeneral DynamicsTargetDiscover Financial ServicesThe Saudi National BankCenteneMeituanKB Financial GroupValeFairfax FinancialZijin Mining GroupChina Minsheng BankCommerzbankA.P. Moller-MaerskInditexDNB BankAflacTalanxNational GridSaint-GobainKrogerAir LiquideOrangeChina UnicomTJX CosEssilorLuxotticaMarsh McLennanDanske BankChina Resources LandFiservErste Group BankSun Life FinancialNorthrop GrummanKweichow MoutaiSuncor EnergyPhillips 66Canadian Natural ResourcesKIANikeRWE GroupDaimler Truck HoldingDelta Air LinesBank Of JiangsuPTTMacquarie Group LimitedAutomatic Data ProcessingCencoraABBHolcimCRHNational Bank of CanadaAxis BankAmerican ElectricAmeriprise FinancialSEB ABSLBCathay FinancialEOG ResourcesAmérica MóvilApplied MaterialsSompoOccidental PetroleumPower Corp of CanadaPG&EBASFVodafoneExelonShinhan Financial GroupGE VernovaAdvanced Micro Devices (AMD)Constellation EnergyBrookfield CorporationSumitomoUnited Airlines HoldingsMarubeniState StreetBharti AirtelNewmontPaccarBAE SystemsHuaxia BankKraft Heinz CompanyDensoCosco ShippingAltria GroupRoyal Ahold Delhaize N.V.Citic SecuritiesEatonOneokRolls-Royce HoldingsStrykerStarbucksHartford Financial Services0.003SAIC MotorTata MotorsNippon SteelBanorteMerck KGaAAdobePoste ItalianeCouche TardS&P GlobalBank of NingboChina Railway GroupGree Electric AppliancesCK HutchisonTescoBank Rakyat Indonesia (BRI)Takeda PharmaceuticalWaste ManagementBanco Btg PactualBooking HoldingsBank of BeijingDiageoChina Yangtze PowerPanasonicSeven & I HoldingsNomuraIntercontinentalExchangeDanoneSvenska HandelsbankenFannie MaeSwedbankD.R. HortonFreddie MacSaudi TelecomNTPCCarrier GlobalKinder MorganChina Communications ConstructionMitsubishi Heavy IndustriesCardinal HealthTexas InstrumentsPrudentialFreeport-McMoRanCumminsBank Of ShanghaiHewlett Packard EnterpriseORLEN Spolka AkcyjnaArch Capital GroupArcelorMittalSempraArcher Daniels MidlandDominion EnergyCTBC Financial HoldingKotak Mahindra BankAonMitsubishi ElectricRichemontEcopetrolBecton DickinsonSynchrony FinancialIntuitM&T BankLarsen & ToubroValero EnergyTAQAHumanaLennarTC EnergyKorea Electric PowerBaiduBaker Hughes CompanyOrixFirst Citizens Bank (NC)Boston ScientificBank MandiriTata Consultancy ServicesVeolia EnvironnementHana Financial GroupSwiss Life HoldingJohnson Controls InternationalHPCheniere EnergyHaier Smart HomePrologisBlackstoneHermès InternationalIndian OilBPEmerson ElectricFemsaChina Railway ConstructionCorebridge FinancialToyota IndustriesShin-Etsu ChemicalToyota TsushoAvivaEtisalatFifth Third BankImperial BrandsRegeneron PharmaceuticalsBlockPower Construction Corporation of ChinaParker-HannifinVistra EnergyMaybankFast RetailingRaymond James FinancialCSLCSXGrupo MexicoRoyal Caribbean GroupConsolidated EdisonAmerican TowerEnBW Energie Baden-WurttembergSyscoBoeingMarriott InternationalLondon Stock ExchangeSuzuki MotorDaiwa House IndustrySherwin-WilliamsBank of BarodaSumitomo Mitsui TrustLuxshare Precision IndustryJapan TobaccoCanadian Pacific Kansas CityCenovus EnergyXcel EnergyHyundai MobisCRRCBank of NanjingChina Tower Corp.Kuwait Finance HouseRepsolInvestor ABCarnival CorporationNN GroupDiamondback EnergyKomatsuFirstRandJBSAir Products & ChemicalsInternational AirlinesNorthern TrustCME GroupHeidelbergCementDeutsche BoerseCanadian National RailwayBank Central AsiaBank LeumiHenkelMercadoLibreNorfolk SouthernL3Harris TechnologiesIntact FinancialIntelRepublic ServicesShaanxi Coal IndustryENEOS HoldingsWilliamsWoodside Energy GroupBridgestoneMichelin GroupDaikin IndustriesNaturgy Energy GroupKeurig Dr PepperNucorNetEaseCompass GroupAbu Dhabi Commercial BankGallagherHuntington BankLam ResearchQuanta ComputerKansai Electric PowerDSVStandard Bank GroupThalesSun Hung Kai PropertiesPoly Developments & Holdings GroupBouyguesGlencore InternationalOTP BankGeneral MillsEdison InternationalWanhua Chemical GroupAmphenolEast Japan RailwayRenaultMarkelHaleonPKO Bank PolskiOMV GroupMuyuan FoodstuffGeely Automobile HoldingsCoal IndiaPunjab National BankCoca-Cola Europacific PartnersS.F. HoldingWilmar InternationalReckitt Benckiser GroupFortescue Metals GroupBaoshan Iron & SteelTrane TechnologiesMediaTekGE HealthCare TechnologiesQBE Insurance GroupBank HapoalimBarrick GoldLenovo GroupPower FinanceBajaj FinservNu HoldingsRecruit HoldingsBanco de SabadellCanonChina Coal EnergyWeichai PowerBT GroupWuliangye YibinMitsui FudosanUnited RentalsAnalog DevicesPublicis GroupeBanco BPMAtlas CopcoLoewsCentral Japan RailwayInfosysEquitable HoldingsMahindra & MahindraTyson FoodsEmaar PropertiesChina Zheshang BankCitizens Financial GroupEcolabColgate-PalmoliveRiyad BankGeorge WestonWoori Financial GroupPublic Service Enterprise GroupNaspersFujifilm HoldingsLincoln NationalNational Bank of KuwaitCanara BankChina Hongqiao GroupAutoZoneCBRE GroupRegions FinancialSwisscomCapgeminiContinental Automotive SystemsKeringSchweizerische NationalbankHessWesfarmersW. R. BerkleyFujitsuSubaru CorporationGrupa PZUUnion Bank of IndiaChina National Nuclear PowerEntergyDollar GeneralNXP SemiconductorsBank Of HangzhouCortevaPrincipal Financial GroupLeonardoLyondellBasell IndustriesCognizantSSEDevon EnergyInpexSafranAssociated British FoodsDTE EnergySamsung C&TSamsung Life InsuranceFidelity National FinancialEverest Re GroupTurkish AirlinesNECBayerLegal & General GroupNutrienBOE Technology GroupTokyo ElectronAgnico Eagle MinesFerrovialSiemens EnergyTelefónicaIllinois Tool WorksACS Actividades de Construccion y ServiciosHindalco IndustriesBharat PetroleumCMOC GroupRELXAirBnBAsr NederlandInfineon TechnologiesAeonO'Reilly AutomotiveGD Power DevelopmentKimberly-ClarkFirstEnergyHalliburtonTE ConnectivityIndustrial Bank of KoreaRoss StoresServiceNowCEZ GroupChina Energy EngineeringNokiaAsahi Group HoldingsCIMB Group HoldingsFerguson EnterprisesTarga ResourcesDaiichi SankyoOtsuka HoldingWoolworthsWEC Energy GroupPoscoAegonWelltowerCNH IndustrialSekisui HouseNippon YusenCincinnati FinancialKuaishou TechnologyHuaneng Power InternationalPernod RicardNRG EnergyMapfreSaudi British BankUniversal Music GroupHengli PetrochemicalWarner Bros. DiscoveryMetallurgical Corp of ChinaKenvueIntuitive SurgicalDeutsche LufthansaUnum GroupBank of IrelandCarrefourAdidasIQVIAHeinekenUnipol GruppoReinsurance Group of AmericaVakifBankAerCap HoldingsFoxTelstraCGN PowerKubotaTenet HealthcareAnglo AmericanResona HoldingsLongfor Group HoldingsT&D HoldingsMeritz Financial GroupEvergreen Marine Corp. (Taiwan)Mitsubishi Estate3i GroupIsbankAgeasYPFAIB GroupAlbertsonsGreat Wall MotorTrip.com GroupEiffageNissan MotorKLAInner Mongolia YiliTokyo Electric PowerNew China Life InsuranceVedanta LimitedEdp-energias De PortugalNintendoBrookfield Wealth SolutionsAssa AbloyChina Resources PowerRogers CommunicationsYankuang Energy GroupPulteGroupQuanta ServicesWW GraingerKeyenceSpotify TechnologyCompagnie de l'OdetHong Kong ExchangesBancolombiaInteractive Brokers GroupGlobal PaymentsLi AutoVICI PropertiesSamsung Fire & MarineMTRTenaga NasionalFreseniusSumitomo ElectricEXORRoper TechnologiesRaiffeisen Bank InternationalFortis (Canada)Eversource EnergyDowCLP HoldingsAlconCoinbaseEquinixChongqing Changan AutoSinopharm GroupTransDigm GroupAluminum Corp of ChinaChubu Electric PowerSaudi ElectricityChina Merchants Shekou Industrial Zone HoldingsChina Taiping InsurancePPGMizrahi Tefahot BankHCLTechSingapore AirlinesSimon Property GroupPalo Alto NetworksSikaTELUSKuehne & Nagel InternationalRenaissanceRe HoldingsHanwha AerospaceNASDAQHikvisionBPER BancaBunge GlobalEletrobrásAptivPublic BankSampoOmnicom GroupEast Money InformationKasikornbankFidelity National Information (FIS)AmerenHuishang BankMolina HealthcareGuotai Junan SecuritiesCenterPoint EnergyNidecBeijing-Shanghai High-Speed RailwayMitsui OSK LineseBayWestern DigitalThomson ReutersRyanair HoldingsHilton Worldwide HoldingsDubai Islamic BankAkbankDuPont De NemoursShanghai Rural Commercial BankZTEVolvo CarMagna InternationalASE Technology HoldingBanca MPSZoetisRealty IncomeShopifyCentricaChipotle Mexican GrillGrupo InbursaTenarisCredicorpExpedia GroupMotorola SolutionsHanwhaSM InvestmentsJardine MathesonCintasAlinma BankMashreq BankTDKAshtead GroupAnhui Conch CementMediobancaITCH&M - Hennes & MauritzChina Reinsurance GroupKorea Shipbuilding & Offshore EngineeringHuatai SecuritiesLive Nation EntertainmentOtis WorldwideMurata ManufacturingPPLDaqin RailwayGrasim IndustriesWH GroupSuper Micro ComputerAmerican Airlines GroupSTMicroelectronicsLas Vegas SandsKoç HoldingDaiwa SecuritiesSaudi Arabian MiningJulius Baer GroupJoint Stock Commercial Bank for Foreign Trade of VietnamMitsubishi UFJ LeaseVerbundSouthwest AirlinesBiogenBDO UnibankCP AllSanlamThe Hershey CompanyMega Financial HoldingSt. James's PlaceArista NetworksPower Grid of IndiaAnta Sports ProductsSmurfit WestrockWalgreens Boots AllianceAbu Dhabi Islamic BankChina VankeVienna Insurance GroupAbsa GroupAlly FinancialKGI Financial HoldingSandvikBank Of ChengduMoody'sLG ChemGenuine PartsKellanovaChongqing Rural BankVenture GlobalBCEHAL TrustSKSK InnovationCDWCMS EnergyCK Asset HoldingsSteel DynamicsSemiconductor Manufacturing InternationalWestinghouse Air Brake TechnologiesXiamen C&DTata SteelBank PekaoIdemitsu KosanHalkbankInternational PaperFlexRenesas ElectronicsChina Merchants SecuritiesLululemon AthleticaCorningJiangxi CopperTD SYNNEXRobinhood MarketsEricssonPhoenix Group HoldingsDelta ElectronicsNaverJSW SteelSCB X Public CompanyEurobank ErgasiasWiproJFE HoldingsSeres GroupPublic StorageIndian BankBest BuyAESRakutenLG ElectronicsSumitomo RealtySchindler HoldingSDIC Power HoldingsEssityRongsheng PetrochemicalKorea GasSichuan Road & BridgeFerrariTractor SupplyGrupo GaliciaLeidosSungrow Power SupplyLegend HoldingDb InsuranceHelvetia HoldingLegrandGalp EnergiaGAIL IndiaPhilipsYuanta Financial HoldingGreenland Holdings GroupBangkok BankDassault AviationIsrael Discount BankRheinmetallDSM-FirmenichEuronextGrupo BimboMartin Marietta MaterialsAisin SeikiCountry Garden HoldingsVonoviaMonster BeverageRestaurant Brands InternationalAenaAmerican Water WorksPrysmianMGM ResortsWen's Foodstuff GroupHMMSingTelKeyCorpTelenorGuosen SecuritiesColes GroupSany Heavy IndustryBank of IndiaKoneSnamVertex PharmaceuticalsCoupangSBI HoldingsAnnaly Capital ManagementBanque Saudi FransiShanghai International PortLonza GroupFlutter EntertainmentJeronimo MartinsTohoku Electric PowerGivaudanSynopsysQatar Islamic BankAsustek ComputerWaste ConnectionsE.Sun FinancialMolson Coors BrewingPenske AutomotiveLPL Financial HoldingsAttijariwafa BankDassault SystemesUni-PresidentArab National BankMazda MotorXCMG Construction MachineryEast West BancorpYum! BrandsBanca MediolanumTechtronic IndustriesTeva PharmaceuticalLithia MotorsNVRCGIIndian Railway FinanceConstellation SoftwareTCLDoverChina Bohai BankCommercial Bank For Investment & Development Of VietnamChina National ChemicalSunshine Insurance GroupCemexChina Galaxy SecuritiesFortinetTelkom IndonesiaBankinterFosun InternationalAppLovinHowmet AerospaceChina Three Gorges Renewables (Group)Vestas Wind SystemsLabcorp HoldingsBeiersdorfGF SecuritiesDarden RestaurantsEMCOR GroupTokyo GasShanghai PharmaceuticalsPembina PipelineM&GFastenalArca ContinentalSwire PacificAmetekExtra Space StorageAtmos EnergyItaúsaSabanci HoldingExperianKajimaJefferies FinancialUCBKrung Thai BankNippon PaintShaanxi Construction Engineering GroupDiDi GlobalNational Bank of GreeceHD HYUNDAIKE HoldingsBuilders FirstSourceAldar PropertiesXylemNongfu SpringChunghwa TelecomPaychexVulcan MaterialsNedbankAdani EnterprisesShin Kong FinancialCNPC CapitalAntarChileShanghai ConstructionFirst Financial HoldingIsuzu MotorsZhejiang Zheneng Electric PowerBanco Comercial PortuguesDick's Sporting GoodsHenderson LandBank of ChangshaZimmer BiometUlta BeautyWPPCopartDigital Realty TrustBank Negara IndonesiaTernaCarMaxAvalonBay CommunitiesCarlsbergJabil CircuitHua Nan FinancialMOL Hungarian OilSuncorp GroupSun Pharma IndustriesWorkdayChina National BuildingElectronic ArtsiA Financial CorporationAir CanadaObayashiIngersoll RandChina Huarong Asset ManagementAmadeus IT GroupDollar TreeShriram FinanceGarminKorean AirWEGMitsubishi ChemicalWTWT Rowe PriceUniversal Health ServicesShenzhen Mindray Bio-Medical ElectronicsAlstomEdwards LifesciencesQuinencoQuest DiagnosticsShanxi Xinghuacun Fen Wine FactoryGreentown China HoldingsWuchan Zhongda GroupHydro OneAll Nippon AirwaysVoya FinancialParamountJ SainsburyUnited MicroelectronicsJackson FinancialCadence DesignEquity ResidentialBâloise GroupChina Resources Pharmaceutical GroupAntofagastaCoca-Cola HBCModon Holding PSCAutodeskWolters KluwerTop Frontier Investment HoldingsCathay Pacific AirwaysStoneX GroupTextronAmcorAssurantMetroInternational Flavors & FragrancesKyoceraTaiwan Cooperative FinancialRockwell AutomationHoyaUS FoodsPerformance Food GroupEvergyMonolithic Power SystemsDaVitaAgilent TechnologiesVibra EnergiaBandai Namco HoldingsNiSourceYum China HoldingsCoterra EnergyAsahi KaseiAdani Power LimitedLuzhou Lao JiaoThe Estée Lauder CompaniesBrown & BrownHexagonNARI Technology DevelopmentCrown Castle InternationalGartnerSantosConstellation BrandsChina Southern AirlinesResMedOlam GroupFluorSodexoAir France-KLMPartners Group HoldingMSCIReliance SteelVietin BankKaspi.kz JSCPiraeus Financial HoldingsIndusInd BankAdyenHuadian Power InternationalAdani Ports & Special Economic ZonePan Pacific International HoldingsBooz Allen Hamilton HoldingBCI-Banco CreditoSeagate TechnologyOrstedEQTON SemiconductorWilliams-SonomaVertiv HoldingsAccionaBaxter InternationalKyushu Electric PowerCsc FinancialInterGlobe AviationWistronGrupo CarsoHormel FoodsAmerican Financial GroupMicroStrategyChina CSSC HoldingsSK TelecomThyssenKrupp GroupBJ's Wholesale ClubKaoFirst HorizonDoorDashViatrisHalyk BankJones Lang LaSalleFalabellaCJ CorporationChina International CapitalCellnex TelecomWestlake CorporationEchostarJiangsu Hengrui MedicineAstellas PharmaOld Dominion Freight LineCorpayJapan Exchange GroupA2AOld MutualVerisk AnalyticsNorsk HydroTowngasTeck ResourcesPegatronForviaStorebrandFord OtosanGuangdong Haid GroupOsaka GasJDE Peet'sMarfrig Global FoodsBayan ResourcesIDBI BankToll BrothersLiberty GlobalCasey's General StoresBank AlbiladCarvanaWest Japan RailwayNextLongi Green Energy TechnologyInsurance Australia GroupAdvantestJacobs SolutionsCarlyle GroupSunac China HoldingsPinterestBawag GroupExpeditors InternationalGrupo De Inversiones SuramericanaBank of ChongqingSabespFortiveTerumoIDEXX LaboratoriesBeijing EnterprisesWestern Alliance Bancorp.RaizenPackaging Corp of AmericaDatang International PowerWebster FinancialFortumInvestecJyske BankWSPZions BancorparGEN-XScorTeliaENN Natural GasWuxi ApptecBank Of GuiyangXPOvintivChina Eastern AirlinesLatam AirlinesBorougeSinoPac FinancialSS&C TechnologiesSTRABAGDollaramaFinecoBankFoshan Haitian Flavouring and FoodTelecom ItaliaCarlisle CosAjinomotoBroadridge FinancialNetAppQilu BankShenwan Hongyuan GroupNAURA Technology GroupKirin HoldingsEQT ABGrupo AvalOrigin EnergyKTGlobe LifeShanghai Electric GroupIndustries QatarMirae Asset Financial GroupAres ManagementYamaha MotorAdvanced Info ServiceHBISGoodman GroupDongfeng Motor GroupSojitzCharoen Pokphand GroupTUILindt & SprungliWESCO InternationalBank of SuzhouGold FieldsTBEAMarks & SpencerGoDaddyToray IndustriesOriental LandBank of GreeceBajaj AutoKingspan Group PLCKorea Investment HoldingsYuexiu PropertyJiangsu Eastern ShenghongRede D'Oro LuizHyundai Marine & FireEvolution Gaming Group ABComericaMetropolitan Bank & TrustZoom Video CommunicationsSandoz GroupFanucVeeva SystemsLKQTongweiChina International MarineKobe SteelDongguan Rural Commercial BankHong Leong FinancialMacy'sChina Cinda Asset ManagementHyundai GlovisKawasaki Heavy IndustriesSMCAlliant EnergyTokyo CenturyEvonik IndustriesAutoNationBAIC MotorENN Energy HoldingsShandong Gold MiningAristocrat LeisureZhongyuan BankVipshop HoldingsShenzhen Transsion HoldingTaishin Financial HoldingsTrimbleRHB BankEpirocPalantir TechnologiesIHIUnicaja BancoBanca TransilvaniaIngram Micro HoldingChina Merchants Port GroupVentasICON (Ireland)MTU Aero Engines AGPopularKerry GroupBBMGMcCormickAlpha BankSinotruk Hong KongArrow ElectronicsKlepierreAngloGold AshantiSGSMarvell TechnologyQantas AirwaysBanque Cantonale VaudoiseZTO Express (Cayman)AECOMTechnipFMCTeledyne TechnologiesWintrust FinancialMilitary Commercial Joint Stock BankSeazen GroupBramblesCredito EmilianoVeriSignOld Republic InternationalTaiseiSoFiSmithfield FoodsMettler-Toledo InternationalNorwegian Cruise Line HoldingsCheck Point SoftwareBunzlFirst SolarJ.B. Hunt Transport ServicesOwens CorningUPM-KymmeneFuyao Glass Industry GroupBrenntagVeraltoTourmaline OilBank of TianjinExpand EnergyValeoGapChina Nuclear Engineering CorporationGS HoldingsChina Communications ServicesZIM Integrated Shipping ServicesACWA PowerConcordia Financial GroupFirst PacificGuangzhou Automobile GroupE-martXiamen XiangyuChow Tai Fook JewelleryStanley Black & DeckerFICOBank of QingdaoEl Puerto de LiverpoolAvery DennisonDocuSignUS SteelRoyalty PharmaGalaxy EntertainmentBallSegroSchaefflerMurphy USAChugoku Electric PowerDISCO Corp.SkanskaAxis Capital HoldingsMigdal InsuranceSBA CommunicationsThai BeverageASM InternationalJiangsu Yanghe BreweryBank of East AsiaKPNKinross GoldAmman Mineral InternasionalConagra BrandsTianshan MaterialSamsung SDIShimao Property HoldingsCBOE Global MarketsColoplastLumen TechnologiesSecomEquifaxSnap-onChina Shipbuilding IndustryAurubisLG DisplayUnibail-Rodamco-WestfieldBNK Financial GroupChina Merchants Expressway Network & Technology HoldingsTransurban GroupAlcoaC.H. RobinsonSouth StateVietnam Technological & Commercial Joint Stock BankNingxia Baofeng Energy GroupMascoCommercial Bank of QatarHeicoPhoenix HoldingsHyatt HotelsOoredoo Q.P.S.CKawasaki Kisen KaishaBrown-FormanAPADeckers OutdoorArab BankPGE Polska Grupa EnergetycznaChina Longyuan PowerBanca Popolare di SondrioTerniumCJ CheiljedangRithm CapitalSumitomo ChemicalCF Industries HoldingsShionogiCommercial Bank DubaiShenzhen Inovance TechnologyAGNC InvestmentStifel FinancialSuzanoChina Development Bank Financial LeasingUnited TherapeuticsLennox InternationalST EngineeringFranklin ResourcesPorsche Automobil HoldingCrowdStrikeHubbellBank of GuizhouChiba BankEastmanWuestenrot & WuerttembergischeCovestroJapan AirlinesDr. Sulaiman Al-Habib Medical Services GroupWheaton Precious MetalsScentre GroupFranco-NevadaPradaTapestryMTN GroupVingroupHyundai SteelBrookfield Renewable HoldingsBurlington StoresBrighthouse FinancialFukuoka Financial GroupCleveland-CliffsEndoGoodyearSumitomo ForestryGeberitHunan Valin SteelChina JinmaoPinnacle WestDexcomNews CorpBajaj Holdings & InvestmentLens TechnologyAkzo NobelAnsysGemdaleSuntory Beverage & FoodYang Ming Marine TransportAdmiral GroupZhuhai Huafa PropertiesManila ElectricGerdau (Cosigua)HF SinclairNitto DenkoHyundai EngineeringEmpireSiam CementFormosa PetrochemicalQuilterCholamandalam Investment and FinanceChina Power International DevelopmentShizuoka Financial GroupAnhui Construction Engineering GroupGenmabKeysight TechnologiesLiberty BroadbandGuangzhou Rural Commercial BankSK SquareSynovusBolidenChurch & DwightAlfa LavalSavola GroupBharat ElectronicsChewyChang Hwa BankGrupo BolivarCAPITECGenworth FinancialXiamen International Trade GroupCullen/Frost BankersCaesars EntertainmentMitsubishi MotorsAlexandria Real Estate EquitiesBank OZKTMBThanachart BankS-OilTitan (India)Bank of MaharashtraCencosudElectric Power DevelopmentSamvardhana Motherson InternationalShengjing BankJohnson MattheyMIXUE GroupSamsung SecuritiesAvis Budget GroupMebuki Financial GroupLotte ChemicalEssex Property TrustLearOld National BankRalph LaurenCommercial International BankIron MountainGeneral Insurance Corporation Of IndiaHotai MotorWiseAtlassianThe Mosaic CompanyWorld Fuel ServicesZhejiang Huayou CobaltAvenue SupermartsCampbell SoupWatersJiangsu Changshu Rural Commercial BankAviChina Industry & TechnologyHarbin BankNomura Research InstituteBOK FinancialZhongsheng Group HoldingsRPM InternationalHuaqin TechnologyInvitation HomesBAC Holding InternationalInner Mongolia Baotou SteelChina SteelCosmo Energy HoldingsWatscoIveco GroupTata Power CompanyDaou DataHikari TsushinPTT Global ChemicalEmeraLundbergsChina Tourism Group Duty FreeCapitaLand Integrated Commercial TrustHangzhou Binjiang Real Estate GroupSnowflakeInvescoFlagstar FinancialTradeweb MarketsCTPNesteKnorr-BremseRajesh ExportsMetro GroupHokuhoku Financial GroupComfort Systems USAVietnam Prosperity Joint-sock Commercial BankPBF EnergyAsian PaintsMoncler SpAFar East HorizonCanadian Tire CorporationMomentum Metropolitan HoldingsZhejiang ExpresswayUltrapar ParticipacoesNovonesis A/SCadence BankDaou TechnologyUnited Natural FoodsSonova HoldingAyala CorpTrygAxon EnterpriseAsia Commercial BankMobilyPinnacle Financial PartnersChina Resources Gas GroupWT MicroelectronicsRobloxGroup 1 AutomotiveNEXONShanghai Commercial & Savings BankCompanhia Energetica de Minas GeraisJM SmuckerBank of ZhengzhouPower Assets HoldingsBureau VeritasKraftonDCCHanwha OceanCompal ElectronicsGen DigitalChina Merchants Port HoldingsKiwoom SecuritiesZheshang Development GroupJapan Securities FinanceHachijuni BankCloudflareGlobalfoundriesHansoh Pharmaceutical GroupNishi-nippon Financial HoldingsSecuritasAltice USAHeraWeyerhaeuserAvoltaChailease HoldingWPG HoldingsKyushu Financial GroupTingyi HoldingSofinaChandra Asri PetrochemicalNorth Pacific BankRollinsTake-Two Interactive SoftwareBarry CallebautE-L FinancialLIC Housing FinanceCPFL EnergiaDai Nippon PrintingCambricon TechnologiesColumbia Banking SystemIEIT SystemsYamaguchi FinancialShenzhen OverseasLink REITRexelKongsberg GruppenInternational Container Terminal ServicesInterpublic GroupComputershareHirogin HoldingsJiangxi BankPop Mart International GroupRandstad N.V.Gaming And Leisure PropertiesYunnan CopperErie IndemnityB3Adecco GroupDoosanCeconomyFocus Media Information TechnologyHuntington Ingalls IndustriesHarel Insurance Investments & Financial ServicesToppan PrintingKyoto Financial GroupPublic PowerInterContinental HotelsLatour Ab InvestmentSasolZhongji InnolightDatadogSinotrans Ltd.CoStar GroupClal Insurance EnterprisesBG Financial GroupSBI Sumishin Net BankLotte ShoppingMedipal HoldingsCloroxTaiwan Business BankUnicharmBIM Birlesik MagazalarBank of JiujiangBayWaHologicKION GroupQingdao Rural Commercial BankChugin Financial GroupCoca-Cola Bottling ConsolidatedAramarkOrient SecuritiesZscalerShimizuTaylor MorrisonHygon Information TechnologyVoestalpineDaishi Hokuetsu Financial GroupAlnylam PharmaceuticalsCentral Bank of IndiaBank of LanzhouAmpolCrown HoldingsPentairBausch Health CompaniesEve EnergyZall Smart Commerce GroupHubSpotPermian ResourcesFIBI HoldingsPrioAvnetDomino's PizzaGrupo ElektraOshkoshSaab GroupDaito Trust ConstructionLuzerner KantonalbankRyder SystemAnhui Gujing DistilleryGunma BankNorthern Star ResourcesSaudi Investment BankF.N.B.Microchip Technology77 BankYunnan Baiyao GroupCommerce BancsharesElia System OperatorKeppel LtdMid-america Apartment CommunitiesBeijing ShougangEasyJetJointown Pharmaceutical GroupGoertekAlaska Air GroupUMB FinancialOiBank of Xi'anZhejiang Chint ElectricsiM Financial GroupBank MuscatJB Financial GroupBendigo & Adelaide BankCoreWeaveAVIC CapitalEastroc Beverage (Group)UniqaAutolivSatellite ChemicalStarwood Property TrustBank of QueenslandValley National BancorpBlom BankF5Basler KantonalbankSterisBanque Centrale PopulaireAlmaraiEicher MotorsParklandSLMAGCELMWeihai City Commercial BankWhirlpoolInhibrx BiosciencesAeroports de ParisSiriusXM HoldingsSprouts Farmers MarketsOlympusAsbury Automotive GroupFirst National Of NebraskaTongling Nonferrous MetalsSGHLS CorpInventecIyogin HoldingsEssential UtilitiesARC ResourcesNH Investment & SecuritiesViva Energy GroupMBH Bank Plc.KonamiTrade DeskBeazleyShanghai Tunnel EngineeringKeskoAirports of ThailandXiamen BankCelaneseTech MahindraBeiGeneBank Of GansuChina Mengniu DairyYara InternationalFederal BankAlfresa HoldingsSKF GroupTalen EnergyBuzzi UnicemProsperity BancsharesHengyi PetrochemicalEquatorial EnergiaCiplaNew World DevelopmentShenzhou International Group HoldingsAmericanasFactSet Research SystemsRicohKimco RealtyMasTecSolventumWarner Music GroupEMS-Chemie HoldingAg Anadolu Grubu Holding Anonim SirketiNippon Express HoldingsIndorama VenturesEternalCP AxtraDigital China GroupHaidilao International HoldingWebuildWill SemiconductorShandong Hi-Speed Road & Bridge GroupLion Finance GroupKGHM Polska MiedzWan Hai LinesNavientDLFJinshang BankAmBank GroupSan-In Godo BankBraskemTMX GroupYunnan YuntianhuaPandoraMercuries & AssociatesGrupo Catalana OccidenteAozora BankManpowerNingbo Jintian Copper (Group)InchcapeSt. Galler KantonalbankZalandoSaipemNitori HoldingsStora EnsoAier Eye Hospital GroupYes BankNew Hope LiuheHyakugo BankIHH HealthcareTeleperformanceNova Ljubljanska BankaHuaibei Mining HoldingsAlRayan BankJuroku Financial GroupPT Adaro Energy IndonesiaCelltrionDentsuShiga BankAltaGasHulicFirst Quantum MineralsStraumann HoldingQinghai Salt Lake IndustryCelesticaBangchakDCI IndonesiaJust GroupDelivery HeroGraphic PackagingSSABInternational Distributions ServicesHanwaWärtsiläUbiquitiBidArab BankingAmbuja CementsChina Fortune Land DevelopmentKingfisherSymrisePrologis Property MexicoSpareBank 1 SR-BankSumec CorporationBolsa de Valores de ColombiaJio Financial ServicesTyler TechnologiesDeutsche PfandbriefbankSamsaraElbit SystemsW. P. CareyGFL EnvironmentalSkechers USANational Bank of Ras Al-Khaimah (P.S.C.)RattanIndia PowerChina Gas HoldingsUnisplendourSichuan Biokin PharmaceuticalSigma HealthcareEFG InternationalKohl'sCIFI Holdings GroupBXPGoneo GroupBank of Cyprus HoldingsEva AirwaysBEKB-BCBEAlior BankSime DarbyLiberty Media Corporation Series A Liberty Formula OneUmicoreAVIC Chengdu AircraftChina Resources Beer (Holdings)Hertz Global HoldingsNexi S.p.A.Hancock HoldingAccorSuzukenLogitech InternationalTrentRedditNanto BankNOVBanco DaviviendaLG Innotek Co.Aichi Financial GroupAssociated Banc-CorpU-Haul HoldingHainan Airlines HoldingPt Adaro Andalan IndonesiaBath & Body WorksBerry Global GroupKakaoBankAllegionHisense Kelon Electrical HoldingsJiangxi Zhengbang TechnologyOgaki Kyoritsu BankTokyo Kiraboshi Financial GroupDino PolskaChina Aviation OilJet2Keiyo BankPT Lippo Karawaci\"\n 'United StatesUnited StatesChinaSaudi ArabiaUnited StatesUnited StatesChinaChinaUnited StatesUnited StatesUnited StatesChinaUnited StatesJapanUnited KingdomUnited StatesUnited StatesUnited StatesSouth KoreaUnited StatesUnited StatesUnited StatesUnited KingdomUnited StatesGermanyCanadaChinaChinaSpainUnited StatesUnited StatesHong KongChinaJapanUnited StatesFranceChinaTaiwanChinaGermanyFranceUnited StatesUnited StatesFranceIndiaCanadaUnited StatesSwitzerlandFranceUnited StatesChinaSpainIndiaGermanyIndiaJapanChinaJapanChinaUnited StatesItalyGermanyAustraliaSwitzerlandFranceUnited StatesUnited StatesUnited StatesUnited StatesSwitzerlandUnited StatesGermanyUnited StatesUnited StatesChinaUnited StatesSwitzerlandGermanyJapanSwitzerlandGermanyBrazilIndiaCanadaHong KongUnited StatesChinaItalyChinaJapanUnited StatesBelgiumUnited StatesUnited StatesUnited StatesUnited StatesJapanUnited StatesBrazilSwitzerlandHong KongCanadaUnited StatesUnited StatesUnited StatesNorwayUnited StatesUnited StatesUnited KingdomUnited StatesChinaSpainSingaporeItalyIndiaItalyJapanUnited StatesFranceUnited StatesChinaJapanUnited StatesUnited StatesAustraliaUnited StatesUnited StatesUnited StatesCanadaJapanFranceAustraliaGermanyUnited KingdomUnited KingdomChinaTaiwanUnited StatesFranceAustraliaChinaSouth KoreaUnited KingdomUnited StatesUnited KingdomUnited StatesUnited StatesUnited StatesUnited StatesAustraliaJapanJapanIrelandHong KongSouth KoreaUnited KingdomUnited StatesDenmarkFranceIrelandFranceSpainChinaGermanyNetherlandsCanadaCanadaUnited StatesChinaUnited StatesChinaUnited StatesUnited StatesUnited StatesJapanGermanyUnited KingdomUnited StatesUnited StatesNetherlandsFinlandFranceUnited StatesUnited KingdomChinaUnited StatesUnited StatesBrazilUnited StatesUnited StatesUnited StatesUnited StatesUnited StatesUnited StatesUnited StatesQatarUnited StatesUnited Arab EmiratesUnited StatesChinaUnited KingdomUnited StatesChinaUnited StatesItalyUnited StatesUnited StatesUnited StatesFranceIrelandJapanUnited StatesSingaporeNetherlandsSwitzerlandJapanUnited StatesChinaGermanyIndiaUnited StatesUnited Arab EmiratesSaudi ArabiaUnited StatesUnited StatesBelgiumSingaporeUnited StatesUnited StatesChinaJapanTaiwanUnited StatesJapanSwedenUnited KingdomBrazilUnited StatesUnited StatesUnited Arab EmiratesUnited StatesUnited StatesUnited StatesUnited StatesSaudi ArabiaUnited StatesChinaSouth KoreaBrazilCanadaChinaChinaGermanyDenmarkSpainNorwayUnited StatesGermanyUnited KingdomFranceUnited StatesFranceFranceHong KongUnited StatesFranceUnited StatesDenmarkHong KongUnited StatesAustriaCanadaUnited StatesChinaCanadaUnited StatesCanadaSouth KoreaUnited StatesGermanyGermanyUnited StatesChinaThailandAustraliaUnited StatesUnited StatesSwitzerlandSwitzerlandIrelandCanadaIndiaUnited StatesUnited StatesSwedenUnited StatesTaiwanUnited StatesMexicoUnited StatesJapanUnited StatesCanadaUnited StatesGermanyUnited KingdomUnited StatesSouth KoreaUnited StatesUnited StatesUnited StatesCanadaJapanUnited StatesJapanUnited StatesIndiaUnited StatesUnited StatesUnknownChinaUnited StatesJapanChinaUnited StatesNetherlandsChinaIrelandUnited StatesUnited KingdomUnited StatesUnited StatesUnited StatesUnited StatesChinaIndiaJapanMexicoUnknownUnited StatesItalyCanadaUnited StatesChinaChinaChinaHong KongUnited KingdomIndonesiaJapanUnited StatesBrazilUnited StatesChinaUnited KingdomChinaJapanJapanJapanUnited StatesFranceSwedenUnited StatesSwedenUnited StatesUnited StatesSaudi ArabiaIndiaUnited StatesUnited StatesChinaJapanUnited StatesUnited StatesUnited KingdomUnited StatesUnited StatesChinaUnited StatesPolandBermudaLuxembourgUnited StatesUnited StatesUnited StatesTaiwanIndiaIrelandJapanSwitzerlandColombiaUnited StatesUnited StatesUnited StatesUnited StatesIndiaUnited StatesUnited Arab EmiratesUnited StatesUnited StatesCanadaSouth KoreaChinaUnited StatesJapanUnited StatesUnited StatesIndonesiaIndiaFranceSouth KoreaSwitzerlandIrelandUnited StatesUnited StatesChinaUnited StatesUnited StatesFranceIndiaUnited KingdomUnited StatesMexicoChinaUnited StatesJapanJapanJapanUnited KingdomUnited Arab EmiratesUnited StatesUnited KingdomUnited StatesUnited StatesChinaUnited StatesUnited StatesMalaysiaJapanUnited StatesAustraliaUnited StatesMexicoUnited StatesUnited StatesUnited StatesGermanyUnited StatesUnited StatesUnited StatesUnited KingdomJapanJapanUnited StatesIndiaJapanChinaJapanCanadaCanadaUnited StatesSouth KoreaChinaChinaChinaKuwaitSpainSwedenUnited StatesNetherlandsUnited StatesJapanSouth AfricaBrazilUnited StatesUnited KingdomUnited StatesUnited StatesGermanyGermanyCanadaIndonesiaIsraelGermanyArgentinaUnited StatesUnited StatesCanadaUnited StatesUnited StatesChinaJapanUnited StatesAustraliaJapanFranceJapanSpainUnited StatesUnited StatesChinaUnited KingdomUnited Arab EmiratesUnited StatesUnited StatesUnited StatesTaiwanJapanDenmarkSouth AfricaFranceHong KongChinaFranceSwitzerlandHungaryUnited StatesUnited StatesChinaUnited StatesJapanFranceUnited StatesUnited KingdomPolandAustriaChinaHong KongIndiaIndiaUnited KingdomChinaSingaporeUnited KingdomAustraliaChinaIrelandTaiwanUnited StatesAustraliaIsraelCanadaHong KongIndiaIndiaCayman IslandsJapanSpainJapanChinaChinaUnited KingdomChinaJapanUnited StatesUnited StatesFranceItalySwedenUnited StatesJapanIndiaUnited StatesIndiaUnited StatesUnited Arab EmiratesChinaUnited StatesUnited StatesUnited StatesSaudi ArabiaCanadaSouth KoreaUnited StatesSouth AfricaJapanUnited StatesKuwaitIndiaChinaUnited StatesUnited StatesUnited StatesSwitzerlandFranceUnknownFranceSwitzerlandUnited StatesAustraliaUnited StatesJapanJapanPolandIndiaChinaUnited StatesUnited StatesNetherlandsChinaUnited StatesUnited StatesItalyUnited KingdomUnited StatesUnited KingdomUnited StatesJapanFranceUnited KingdomUnited StatesSouth KoreaSouth KoreaUnited StatesBermudaTurkeyJapanGermanyUnited KingdomCanadaChinaJapanCanadaSpainGermanySpainUnited StatesSpainIndiaIndiaChinaUnited KingdomUnited StatesNetherlandsGermanyJapanUnited StatesChinaUnited StatesUnited StatesUnited StatesIrelandSouth KoreaUnited StatesUnited StatesCzech RepublicChinaFinlandJapanMalaysiaUnited KingdomUnited StatesJapanJapanAustraliaUnited StatesSouth KoreaNetherlandsUnited StatesUnited KingdomJapanJapanUnited StatesChinaChinaFranceUnited StatesSpainSaudi ArabiaNetherlandsChinaUnited StatesChinaUnited StatesUnited StatesGermanyUnited StatesIrelandFranceGermanyUnited StatesNetherlandsItalyUnited StatesTurkeyIrelandUnited StatesAustraliaChinaJapanUnited StatesUnited KingdomJapanChinaJapanSouth KoreaTaiwanJapanUnited KingdomTurkeyBelgiumArgentinaIrelandUnited StatesChinaChinaFranceJapanUnited StatesChinaJapanChinaIndiaPortugalJapanBermudaSwedenHong KongCanadaChinaUnited StatesUnited StatesUnited StatesJapanLuxembourgFranceHong KongColombiaUnited StatesUnited StatesChinaUnited StatesSouth KoreaHong KongMalaysiaGermanyJapanNetherlandsUnited StatesAustriaCanadaUnited StatesUnited StatesHong KongSwitzerlandUnited StatesUnited StatesChinaChinaUnited StatesChinaJapanSaudi ArabiaChinaHong KongUnited StatesIsraelIndiaSingaporeUnited StatesUnited StatesSwitzerlandCanadaSwitzerlandBermudaSouth KoreaUnited StatesChinaItalyUnited StatesBrazilIrelandMalaysiaFinlandUnited StatesChinaThailandUnited StatesUnited StatesChinaUnited StatesChinaUnited StatesJapanChinaJapanUnited StatesUnited StatesCanadaIrelandUnited StatesUnited Arab EmiratesTurkeyUnited StatesChinaChinaSwedenCanadaTaiwanItalyUnited StatesUnited StatesCanadaUnited KingdomUnited StatesMexicoLuxembourgPeruUnited StatesUnited StatesSouth KoreaPhilippinesBermudaUnited StatesSaudi ArabiaUnited Arab EmiratesJapanUnited KingdomChinaItalyIndiaSwedenChinaSouth KoreaChinaUnited StatesUnited StatesJapanUnited StatesChinaIndiaHong KongUnited StatesUnited StatesSwitzerlandUnited StatesTurkeyJapanSaudi ArabiaSwitzerlandVietnamJapanAustriaUnited StatesUnited StatesPhilippinesThailandSouth AfricaUnited StatesTaiwanUnited KingdomUnited StatesIndiaChinaIrelandUnited StatesUnited Arab EmiratesChinaAustriaSouth AfricaUnited StatesTaiwanSwedenChinaUnited StatesSouth KoreaUnited StatesUnited StatesChinaUnited StatesCanadaNetherlandsSouth KoreaSouth KoreaUnited StatesUnited StatesHong KongUnited StatesChinaUnited StatesChinaIndiaPolandJapanTurkeyUnited StatesUnited StatesJapanChinaCanadaUnited StatesChinaUnited StatesUnited StatesSwedenUnited KingdomTaiwanSouth KoreaIndiaThailandGreeceIndiaJapanChinaUnited StatesIndiaUnited StatesUnited StatesJapanSouth KoreaJapanSwitzerlandChinaSwedenChinaSouth KoreaChinaItalyUnited StatesArgentinaUnited StatesChinaChinaSouth KoreaSwitzerlandFrancePortugalIndiaNetherlandsTaiwanChinaThailandFranceIsraelGermanySwitzerlandNetherlandsMexicoUnited StatesJapanChinaGermanyUnited StatesCanadaSpainUnited StatesItalyUnited StatesChinaSouth KoreaSingaporeUnited StatesNorwayChinaAustraliaChinaIndiaFinlandItalyUnited StatesUnited StatesJapanUnited StatesSaudi ArabiaChinaSwitzerlandUnited StatesPortugalJapanSwitzerlandUnited StatesQatarTaiwanCanadaTaiwanUnited StatesUnited StatesUnited StatesMoroccoFranceTaiwanSaudi ArabiaJapanChinaUnited StatesUnited StatesItalyHong KongIsraelUnited StatesUnited StatesCanadaIndiaCanadaChinaUnited StatesChinaVietnamChinaChinaMexicoChinaUnited StatesIndonesiaSpainChinaUnited StatesUnited StatesChinaDenmarkUnited StatesGermanyChinaUnited StatesUnited StatesJapanChinaCanadaUnited KingdomUnited StatesMexicoHong KongUnited StatesUnited StatesUnited StatesBrazilTurkeyIrelandJapanUnited StatesBelgiumThailandJapanChinaChinaGreeceSouth KoreaChinaUnited StatesUnited Arab EmiratesUnited StatesChinaTaiwanUnited StatesUnited StatesSouth AfricaIndiaTaiwanChinaChileChinaTaiwanJapanChinaPortugalUnited StatesHong KongChinaUnited StatesUnited StatesUnited KingdomUnited StatesUnited StatesIndonesiaItalyUnited StatesUnited StatesDenmarkUnited StatesTaiwanHungaryAustraliaIndiaUnited StatesChinaUnited StatesCanadaCanadaJapanUnited StatesChinaSpainUnited StatesIndiaSwitzerlandSouth KoreaBrazilJapanUnited KingdomUnited StatesUnited StatesChinaFranceUnited StatesChileUnited StatesChinaChinaChinaCanadaJapanUnited StatesUnited StatesUnited KingdomTaiwanUnited StatesUnited StatesUnited StatesSwitzerlandHong KongUnited KingdomSwitzerlandUnited Arab EmiratesUnited StatesNetherlandsPhilippinesHong KongUnited StatesUnited StatesUnited KingdomUnited StatesCanadaUnited StatesJapanTaiwanUnited StatesJapanUnited StatesUnited StatesUnited StatesUnited StatesUnited StatesUnited StatesBrazilJapanUnited StatesChinaUnited StatesJapanIndiaChinaUnited StatesUnited StatesSwedenChinaUnited StatesUnited StatesAustraliaUnited StatesChinaUnited StatesSingaporeUnited StatesFranceFranceSwitzerlandUnited StatesUnited StatesVietnamKazakhstanGreeceIndiaNetherlandsChinaIndiaJapanUnited StatesChileIrelandDenmarkUnited StatesUnited StatesUnited StatesUnited StatesSpainUnited StatesJapanChinaIndiaTaiwanMexicoUnited StatesUnited StatesUnited StatesChinaSouth KoreaGermanyUnited StatesJapanUnited StatesUnited StatesUnited StatesKazakhstanUnited StatesChileSouth KoreaChinaSpainUnited StatesUnited StatesChinaJapanUnited StatesUnited StatesJapanItalySouth AfricaUnited StatesNorwayHong KongCanadaTaiwanFranceNorwayTurkeyChinaJapanNetherlandsBrazilIndonesiaIndiaUnited StatesUnited KingdomUnited StatesSaudi ArabiaUnited StatesJapanUnited KingdomChinaAustraliaJapanUnited StatesUnited StatesChinaUnited StatesAustriaUnited StatesColombiaChinaBrazilUnited StatesJapanUnited StatesHong KongUnited StatesBrazilUnited StatesChinaUnited StatesFinlandUnited KingdomDenmarkCanadaUnited StatesNetherlandsFranceSwedenChinaChinaChinaBrazilUnited StatesChinaChileUnited Arab EmiratesTaiwanUnited StatesAustriaCanadaItalyChinaItalyUnited StatesJapanUnited StatesUnited StatesChinaChinaChinaJapanSwedenColombiaAustraliaSouth KoreaUnited StatesChinaQatarSouth KoreaUnited StatesJapanThailandChinaAustraliaChinaJapanThailandGermanySwitzerlandUnited StatesChinaSouth AfricaChinaUnited KingdomUnited StatesJapanJapanGreeceIndiaIrelandSouth KoreaHong KongChinaBrazilSouth KoreaSwedenUnited StatesPhilippinesUnited StatesSwitzerlandJapanUnited StatesUnited StatesChinaChinaJapanChinaMalaysiaUnited StatesChinaSouth KoreaJapanJapanUnited StatesJapanGermanyUnited StatesChinaChinaChinaAustraliaChinaChinaChinaTaiwanUnited StatesMalaysiaSwedenUnited StatesJapanSpainRomaniaUnited StatesChinaUnited StatesIrelandGermanyUnited StatesIrelandChinaUnited StatesGreeceChinaUnited StatesFranceSouth AfricaSwitzerlandUnited StatesAustraliaSwitzerlandChinaUnited StatesUnited KingdomUnited StatesUnited StatesVietnamChinaAustraliaItalyUnited StatesUnited StatesJapanUnited StatesUnited StatesUnited StatesUnited StatesIsraelUnited KingdomUnited StatesUnited StatesUnited StatesFinlandChinaGermanyUnited StatesCanadaChinaUnited StatesFranceUnited StatesChinaSouth KoreaChinaIsraelSaudi ArabiaJapanHong KongChinaSouth KoreaChinaHong KongUnited StatesUnited StatesChinaMexicoUnited StatesUnited StatesUnited StatesUnited StatesHong KongUnited StatesUnited KingdomGermanyUnited StatesJapanJapanSwedenBermudaIsraelUnited StatesThailandNetherlandsChinaHong KongNetherlandsCanadaIndonesiaUnited StatesChinaSouth KoreaHong KongUnited StatesDenmarkUnited StatesJapanUnited StatesUnited StatesChinaGermanySouth KoreaFranceSouth KoreaChinaAustraliaUnited StatesUnited StatesUnited StatesVietnamChinaUnited StatesQatarUnited StatesIsraelUnited StatesQatarJapanUnited StatesUnited StatesUnited StatesJordanPolandChinaItalyLuxembourgSouth KoreaUnited StatesJapanUnited StatesJapanUnited Arab EmiratesChinaUnited StatesUnited StatesBrazilChinaUnited StatesUnited StatesSingaporeUnited StatesGermanyUnited StatesUnited StatesChinaJapanUnited StatesGermanyGermanyJapanSaudi ArabiaCanadaAustraliaCanadaItalyUnited StatesSouth AfricaVietnamSouth KoreaUnited StatesUnited StatesUnited StatesJapanUnited StatesIrelandUnited StatesJapanSwitzerlandChinaHong KongUnited StatesUnited StatesUnited StatesIndiaChinaNetherlandsUnited StatesChinaJapanTaiwanUnited KingdomChinaPhilippinesBrazilUnited StatesJapanSouth KoreaCanadaThailandTaiwanUnited KingdomIndiaHong KongJapanChinaDenmarkUnited StatesUnited StatesChinaSouth KoreaUnited StatesSwedenUnited StatesSwedenSaudi ArabiaIndiaUnited StatesTaiwanColombiaSouth AfricaUnited StatesChinaUnited StatesUnited StatesJapanUnited StatesUnited StatesThailandSouth KoreaIndiaIndiaChileJapanIndiaChinaUnited KingdomChinaSouth KoreaUnited StatesJapanSouth KoreaUnited StatesUnited StatesUnited StatesUnited StatesEgyptUnited StatesIndiaTaiwanUnited KingdomUnited StatesUnited StatesUnited StatesChinaIndiaUnited StatesUnited StatesChinaChinaChinaJapanUnited StatesChinaUnited StatesChinaUnited StatesColombiaChinaTaiwanJapanUnited StatesItalyIndiaSouth KoreaJapanThailandCanadaSwedenChinaSingaporeChinaUnited StatesUnited StatesUnited StatesUnited StatesNetherlandsFinlandGermanyIndiaGermanyJapanUnited StatesVietnamUnited StatesIndiaItalyHong KongCanadaSouth AfricaChinaBrazilDenmarkUnited StatesSouth KoreaUnited StatesSwitzerlandPhilippinesDenmarkUnited StatesVietnamSaudi ArabiaUnited StatesHong KongTaiwanUnited StatesUnited StatesJapanTaiwanBrazilUnited StatesChinaHong KongFranceSouth KoreaIrelandSouth KoreaTaiwanUnited StatesHong KongSouth KoreaChinaJapanJapanUnited StatesUnited StatesChinaJapanSwedenUnited StatesItalyUnited StatesSwitzerlandTaiwanTaiwanJapanChinaBelgiumIndonesiaJapanUnited StatesUnited StatesSwitzerlandCanadaIndiaBrazilJapanChinaUnited StatesChinaJapanChinaHong KongFranceNorwayPhilippinesUnited StatesAustraliaJapanChinaChinaNetherlandsUnited StatesChinaUnited StatesBrazilSwitzerlandSouth KoreaGermanyChinaUnited StatesIsraelJapanJapanGreeceUnited KingdomSwedenSouth AfricaChinaUnited StatesChinaUnited StatesIsraelPanamaJapanSouth KoreaJapanUnited StatesTaiwanJapanTurkeyHong KongGermanyUnited StatesGermanyChinaJapanUnited StatesUnited StatesChinaUnited StatesJapanUnited StatesChinaAustriaJapanUnited StatesIndiaChinaAustraliaUnited StatesUnited KingdomCanadaChinaChinaUnited StatesUnited StatesIsraelBrazilUnited StatesUnited StatesMexicoUnited StatesSwedenJapanSwitzerlandUnited StatesChinaJapanAustraliaSaudi ArabiaUnited StatesUnited StatesJapanChinaUnited StatesBelgiumSingaporeUnited StatesChinaUnited KingdomChinaChinaUnited StatesUnited StatesBrazilChinaChinaSouth KoreaOmanSouth KoreaAustraliaUnited StatesChinaChinaAustriaSwedenChinaUnited StatesAustraliaUnited StatesLebanonUnited StatesSwitzerlandIrelandMoroccoSaudi ArabiaIndiaCanadaUnited StatesJapanSaudi ArabiaChinaUnited StatesUnited StatesFranceUnited StatesUnited StatesJapanUnited StatesUnited StatesChinaAustraliaSouth KoreaTaiwanJapanUnited StatesCanadaSouth KoreaAustraliaHungaryJapanUnited StatesIrelandChinaFinlandThailandChinaUnited StatesIndiaCayman IslandsChinaHong KongNorwayIndiaJapanSwedenUnited StatesItalyUnited StatesChinaBrazilIndiaHong KongChinaBrazilUnited StatesJapanUnited StatesUnited StatesUnited StatesUnited StatesSwitzerlandTurkeyJapanThailandIndiaThailandChinaChinaItalyChinaChinaUnited KingdomPolandTaiwanUnited StatesIndiaChinaMalaysiaJapanBrazilCanadaChinaDenmarkTaiwanSpainJapanUnited StatesChinaUnited KingdomSwitzerlandGermanyItalyJapanFinlandChinaIndiaChinaJapanMalaysiaFranceSloveniaChinaQatarJapanIndonesiaSouth KoreaJapanJapanCanadaJapanCanadaSwitzerlandChinaCanadaThailandIndonesiaUnited KingdomGermanyUnited StatesSwedenUnited KingdomJapanFinlandUnited StatesSouth AfricaBahrainIndiaChinaUnited KingdomGermanyMexicoNorwayChinaColombiaIndiaUnited StatesGermanyUnited StatesIsraelUnited StatesCanadaUnited StatesUnited Arab EmiratesIndiaHong KongChinaChinaAustraliaSwitzerlandUnited StatesChinaUnited StatesChinaCyprusTaiwanSwitzerlandPolandMalaysiaUnited StatesBelgiumChinaHong KongUnited StatesItalyUnited StatesFranceJapanSwitzerlandIndiaUnited StatesJapanUnited StatesColombiaUnknownJapanUnited StatesUnited StatesChinaIndonesiaUnited StatesUnited StatesSouth KoreaIrelandChinaChinaJapanJapanPolandSingaporeUnited KingdomJapanIndonesia'\n 'BankingInsuranceBankingOil & Gas OperationsRetail and WholesaleBankingBankingBankingIT Software & ServicesIT Software & ServicesTechnology Hardware & EquipmentBankingOil & Gas OperationsConsumer DurablesBankingBankingInsuranceRetailingTechnology Hardware & EquipmentDiversified FinancialsIT Software & ServicesBankingOil & Gas OperationsDiversified FinancialsInsuranceBankingInsuranceOil & Gas OperationsBankingOil & Gas OperationsTelecommunications ServicesTelecommunications ServicesRetailingBankingTelecommunications ServicesBankingIT Software & ServicesSemiconductorsBankingTelecommunications ServicesOil & Gas OperationsDrugs & BiotechnologyMediaInsuranceOil & Gas OperationsBankingSemiconductorsFoodHousehold & Personal ProductsBusiness Services & SuppliesOil & Gas OperationsBankingBankingConsumer DurablesBankingBankingBankingTechnology Hardware & EquipmentBankingHousehold & Personal ProductsInsuranceCapital GoodsBankingDiversified FinancialsBankingIT Software & ServicesRetailingSemiconductorsConsumer DurablesInsuranceMediaConsumer DurablesDrugs & BiotechnologyRetailingBankingDrugs & BiotechnologyInsuranceInsuranceTelecommunications ServicesDrugs & BiotechnologyConsumer DurablesBankingInsuranceBankingOil & Gas OperationsFoodConsumer DurablesUtilitiesInsuranceBankingAerospace & DefenseFoodRetailingIT Software & ServicesIT Software & ServicesInsuranceTrading CompaniesDrugs & BiotechnologyOil & Gas OperationsDrugs & BiotechnologyBusiness Services & SuppliesBankingConsumer DurablesFoodOil & Gas OperationsOil & Gas OperationsBankingDrugs & BiotechnologyDrugs & BiotechnologyBankingBankingUtilitiesBankingInsuranceBankingBankingConsumer DurablesEngineeringAerospace & DefenseInsuranceCapital GoodsInsuranceAerospace & DefenseDiversified FinancialsMaterialsBankingConsumer DurablesInsuranceBankingTelecommunications ServicesDrugs & BiotechnologyBankingDiversified FinancialsDiversified FinancialsMaterialsConstructionTechnology Hardware & EquipmentDrugs & BiotechnologyConstructionBankingBankingConsumer DurablesBankingHealth Care Equipment & ServicesHousehold & Personal ProductsBankingIT Software & ServicesDrugs & BiotechnologyCapital GoodsBankingChemicalsFood MarketsRetailingInsuranceSemiconductorsBankingDiversified FinancialsDrugs & BiotechnologyUtilitiesIT Software & ServicesBankingBankingTelecommunications ServicesIT Software & ServicesBankingOil & Gas OperationsInsuranceMediaMaterialsUtilitiesRetailingTransportationDrugs & BiotechnologyUtilitiesCapital GoodsUtilitiesChemicalsDiversified FinancialsFoodConsumer DurablesBankingHousehold & Personal ProductsTechnology Hardware & EquipmentFoodConsumer DurablesInsuranceInsuranceBankingIT Software & ServicesInsuranceDiversified FinancialsTrading CompaniesAerospace & DefenseSemiconductorsHealth Care Equipment & ServicesBankingUtilitiesConglomeratesTransportationInsuranceBankingDrugs & BiotechnologyInsuranceHealth Care Equipment & ServicesOil & Gas OperationsRetailingDiversified FinancialsBankingCapital GoodsHealth Care Equipment & ServicesTelecommunications ServicesTransportationBankingSemiconductorsInsuranceInsuranceBankingBankingTransportationOil & Gas OperationsOil & Gas OperationsBankingBankingHotelsFoodBankingBankingSemiconductorsTransportationTechnology Hardware & EquipmentInsuranceInsuranceDrugs & BiotechnologyInsuranceCapital GoodsDrugs & BiotechnologyBankingInsuranceBusiness Services & SuppliesBankingHealth Care Equipment & ServicesAerospace & DefenseRetailingBusiness Services & SuppliesBankingDrugs & BiotechnologyTransportationBankingMaterialsInsuranceMaterialsBankingBankingTransportationRetailingBankingInsuranceInsuranceUtilitiesConstructionFood MarketsChemicalsTelecommunications ServicesTelecommunications ServicesRetailingHealth Care Equipment & ServicesInsuranceBankingConstructionBankingBankingInsuranceAerospace & DefenseFoodOil & Gas OperationsOil & Gas OperationsOil & Gas OperationsConsumer DurablesHousehold & Personal ProductsUtilitiesConsumer DurablesTransportationBankingOil & Gas OperationsDiversified FinancialsIT Software & ServicesHealth Care Equipment & ServicesCapital GoodsConstructionConstructionBankingBankingUtilitiesDiversified FinancialsBankingOil & Gas OperationsInsuranceOil & Gas OperationsTelecommunications ServicesCapital GoodsInsuranceOil & Gas OperationsInsuranceUtilitiesCapital GoodsTelecommunications ServicesUtilitiesBankingCapital GoodsSemiconductorsUtilitiesDiversified FinancialsTrading CompaniesTransportationFoodDiversified FinancialsTelecommunications ServicesMaterialsCapital GoodsUnknownBankingFoodConsumer DurablesTransportationFoodFood MarketsDiversified FinancialsCapital GoodsOil & Gas OperationsAerospace & DefenseHealth Care Equipment & ServicesHotelsInsuranceConglomeratesConsumer DurablesConsumer DurablesMaterialsBankingUnknownIT Software & ServicesBankingRetailingBusiness Services & SuppliesBankingConstructionCapital GoodsRetailingFood MarketsBankingDrugs & BiotechnologyBusiness Services & SuppliesDiversified FinancialsIT Software & ServicesBankingFoodUtilitiesConsumer DurablesFood MarketsDiversified FinancialsDiversified FinancialsFoodBankingBusiness Services & SuppliesBankingConstructionBusiness Services & SuppliesTelecommunications ServicesUtilitiesCapital GoodsOil & Gas OperationsConstructionAerospace & DefenseHealth Care Equipment & ServicesSemiconductorsInsuranceMaterialsConsumer DurablesBankingIT Software & ServicesOil & Gas OperationsInsuranceMaterialsOil & Gas OperationsFoodUtilitiesBankingBankingInsuranceCapital GoodsConsumer DurablesOil & Gas OperationsHealth Care Equipment & ServicesBusiness Services & SuppliesIT Software & ServicesBankingConstructionOil & Gas OperationsUtilitiesInsuranceConstructionOil & Gas OperationsUtilitiesIT Software & ServicesOil & Gas OperationsBusiness Services & SuppliesBankingHealth Care Equipment & ServicesBankingIT Software & ServicesUtilitiesBankingInsuranceCapital GoodsTechnology Hardware & EquipmentOil & Gas OperationsConsumer DurablesDiversified FinancialsDiversified FinancialsHousehold & Personal ProductsOil & Gas OperationsOil & Gas OperationsTechnology Hardware & EquipmentFoodConstructionDiversified FinancialsCapital GoodsChemicalsTrading CompaniesInsuranceTelecommunications ServicesBankingFoodDrugs & BiotechnologyBankingConstructionTechnology Hardware & EquipmentUtilitiesBankingRetailingDiversified FinancialsDrugs & BiotechnologyTransportationMaterialsHotelsUtilitiesDiversified FinancialsUtilitiesFood MarketsAerospace & DefenseHotelsIT Software & ServicesConsumer DurablesConstructionChemicalsBankingBankingTechnology Hardware & EquipmentFoodTransportationOil & Gas OperationsUtilitiesConsumer DurablesCapital GoodsBankingTelecommunications ServicesBankingOil & Gas OperationsDiversified FinancialsHotelsInsuranceOil & Gas OperationsCapital GoodsBankingFoodConstructionTransportationDiversified FinancialsDiversified FinancialsConstructionDiversified FinancialsTransportationBankingBankingHousehold & Personal ProductsRetailingTransportationAerospace & DefenseInsuranceSemiconductorsBusiness Services & SuppliesMaterialsOil & Gas OperationsOil & Gas OperationsOil & Gas OperationsConsumer DurablesConsumer DurablesCapital GoodsUtilitiesFoodMaterialsIT Software & ServicesHotelsBankingInsuranceBankingCapital GoodsTechnology Hardware & EquipmentUtilitiesTransportationBankingAerospace & DefenseConstructionConstructionConstructionTrading CompaniesBankingFoodUtilitiesChemicalsTechnology Hardware & EquipmentTransportationConsumer DurablesInsuranceDrugs & BiotechnologyBankingOil & Gas OperationsFoodConsumer DurablesMaterialsBankingFoodTransportationFoodHousehold & Personal ProductsMaterialsMaterialsCapital GoodsSemiconductorsHealth Care Equipment & ServicesInsuranceBankingMaterialsTechnology Hardware & EquipmentBusiness Services & SuppliesInsuranceBankingIT Software & ServicesBankingTechnology Hardware & EquipmentMaterialsConsumer DurablesTelecommunications ServicesFoodConstructionBusiness Services & SuppliesSemiconductorsMediaBankingCapital GoodsInsuranceTransportationIT Software & ServicesInsuranceConsumer DurablesFoodConstructionBankingBankingChemicalsHousehold & Personal ProductsBankingFood MarketsBankingUtilitiesIT Software & ServicesHealth Care Equipment & ServicesInsuranceBankingBankingMaterialsRetailingConstructionBankingTelecommunications ServicesIT Software & ServicesUnknownHousehold & Personal ProductsBankingOil & Gas OperationsRetailingInsuranceIT Software & ServicesConsumer DurablesInsuranceBankingUtilitiesUtilitiesRetailingSemiconductorsBankingFoodDiversified FinancialsAerospace & DefenseChemicalsIT Software & ServicesUtilitiesOil & Gas OperationsOil & Gas OperationsAerospace & DefenseFoodUtilitiesConstructionInsuranceInsuranceInsuranceTransportationIT Software & ServicesDrugs & BiotechnologyInsuranceChemicalsTechnology Hardware & EquipmentCapital GoodsMaterialsConstructionCapital GoodsTelecommunications ServicesConsumer DurablesConstructionMaterialsOil & Gas OperationsTrading CompaniesBusiness Services & SuppliesBusiness Services & SuppliesInsuranceSemiconductorsFood MarketsRetailingUtilitiesHousehold & Personal ProductsUtilitiesOil & Gas OperationsSemiconductorsBusiness Services & SuppliesRetailingIT Software & ServicesUtilitiesConstructionTechnology Hardware & EquipmentFoodBankingTrading CompaniesOil & Gas OperationsDrugs & BiotechnologyDrugs & BiotechnologyFood MarketsUtilitiesMaterialsInsuranceDiversified FinancialsCapital GoodsConstructionTransportationInsuranceMediaUtilitiesFoodUtilitiesInsuranceBankingBusiness Services & SuppliesChemicalsMediaConstructionHousehold & Personal ProductsHealth Care Equipment & ServicesTransportationInsuranceBankingRetailingHousehold & Personal ProductsDrugs & BiotechnologyFoodInsuranceInsuranceBankingBusiness Services & SuppliesMediaTelecommunications ServicesUtilitiesCapital GoodsHealth Care Equipment & ServicesMaterialsBankingConstructionInsuranceDiversified FinancialsTransportationConstructionDiversified FinancialsBankingInsuranceOil & Gas OperationsBankingFood MarketsConsumer DurablesBusiness Services & SuppliesConstructionConsumer DurablesTechnology Hardware & EquipmentFoodUtilitiesInsuranceMaterialsUtilitiesIT Software & ServicesDiversified FinancialsConsumer DurablesUtilitiesTelecommunications ServicesMaterialsConstructionConstructionTrading CompaniesTechnology Hardware & EquipmentIT Software & ServicesTransportationDiversified FinancialsBankingDiversified FinancialsBusiness Services & SuppliesConsumer DurablesDiversified FinancialsInsuranceTransportationUtilitiesHealth Care Equipment & ServicesConsumer DurablesDiversified FinancialsIT Software & ServicesBankingUtilitiesUtilitiesChemicalsUtilitiesHealth Care Equipment & ServicesDiversified FinancialsDiversified FinancialsConsumer DurablesHealth Care Equipment & ServicesAerospace & DefenseTrading CompaniesUtilitiesUtilitiesConstructionInsuranceChemicalsBankingIT Software & ServicesTransportationBusiness Services & SuppliesIT Software & ServicesChemicalsTelecommunications ServicesTransportationInsuranceAerospace & DefenseDiversified FinancialsTechnology Hardware & EquipmentBankingFoodUtilitiesCapital GoodsBankingInsuranceMediaIT Software & ServicesBankingIT Software & ServicesUtilitiesBankingDrugs & BiotechnologyDiversified FinancialsUtilitiesCapital GoodsTransportationTransportationRetailingTechnology Hardware & EquipmentIT Software & ServicesTransportationHotelsBankingBankingChemicalsBankingTechnology Hardware & EquipmentConsumer DurablesConsumer DurablesSemiconductorsBankingDrugs & BiotechnologyDiversified FinancialsIT Software & ServicesOil & Gas OperationsHotelsBankingMaterialsBankingBusiness Services & SuppliesTechnology Hardware & EquipmentChemicalsRetailingConglomeratesBusiness Services & SuppliesBankingBankingTechnology Hardware & EquipmentBusiness Services & SuppliesConstructionBankingFoodRetailingInsuranceCapital GoodsDiversified FinancialsMediaConstructionTechnology Hardware & EquipmentUtilitiesTransportationConstructionFoodTechnology Hardware & EquipmentTransportationSemiconductorsHotelsOil & Gas OperationsDiversified FinancialsMaterialsDiversified FinancialsBankingBusiness Services & SuppliesUtilitiesTransportationDrugs & BiotechnologyBankingFood MarketsInsuranceFoodBankingInsuranceTechnology Hardware & EquipmentUtilitiesHousehold & Personal ProductsMaterialsRetailingBankingConstructionInsuranceBankingBankingInsuranceCapital GoodsBankingBusiness Services & SuppliesChemicalsTrading CompaniesFoodBankingOil & Gas OperationsTelecommunications ServicesDiversified FinancialsDiversified FinancialsOil & Gas OperationsIT Software & ServicesUtilitiesConstructionMaterialsSemiconductorsCapital GoodsTransportationMaterialsBankingOil & Gas OperationsBankingMaterialsTechnology Hardware & EquipmentSemiconductorsDiversified FinancialsHousehold & Personal ProductsTechnology Hardware & EquipmentMaterialsTrading CompaniesDiversified FinancialsTechnology Hardware & EquipmentInsuranceTechnology Hardware & EquipmentIT Software & ServicesMaterialsBankingBankingIT Software & ServicesMaterialsConsumer DurablesDiversified FinancialsBankingRetailingUtilitiesRetailingConsumer DurablesConstructionCapital GoodsUtilitiesHousehold & Personal ProductsTrading CompaniesOil & Gas OperationsConstructionConsumer DurablesRetailingBankingIT Software & ServicesSemiconductorsDiversified FinancialsInsuranceInsuranceTechnology Hardware & EquipmentOil & Gas OperationsOil & Gas OperationsHealth Care Equipment & ServicesDiversified FinancialsConstructionBankingAerospace & DefenseBankingAerospace & DefenseChemicalsDiversified FinancialsFoodConstructionConsumer DurablesConstructionConstructionFoodHotelsTransportationUtilitiesCapital GoodsHotelsFoodTransportationTelecommunications ServicesBankingTelecommunications ServicesDiversified FinancialsFood MarketsCapital GoodsBankingConstructionOil & Gas OperationsDrugs & BiotechnologyRetailingDiversified FinancialsDiversified FinancialsBankingTransportationDrugs & BiotechnologyHotelsFood MarketsUtilitiesFoodIT Software & ServicesBankingTechnology Hardware & EquipmentBusiness Services & SuppliesBankingFoodRetailingDiversified FinancialsBankingIT Software & ServicesFood MarketsBankingConsumer DurablesCapital GoodsBankingHotelsBankingConsumer DurablesDrugs & BiotechnologyRetailingConstructionIT Software & ServicesBusiness Services & SuppliesIT Software & ServicesTechnology Hardware & EquipmentCapital GoodsBankingBankingConstructionInsuranceConstructionDiversified FinancialsIT Software & ServicesTelecommunications ServicesBankingInsuranceIT Software & ServicesAerospace & DefenseUtilitiesCapital GoodsHealth Care Equipment & ServicesHousehold & Personal ProductsDiversified FinancialsHotelsBusiness Services & SuppliesOil & Gas OperationsDrugs & BiotechnologyOil & Gas OperationsDiversified FinancialsTrading CompaniesFoodFoodCapital GoodsDiversified FinancialsUtilitiesDiversified FinancialsBankingBusiness Services & SuppliesConstructionDiversified FinancialsDrugs & BiotechnologyBankingChemicalsConstructionIT Software & ServicesBankingCapital GoodsConstructionRetailingConstructionCapital GoodsFoodTelecommunications ServicesBusiness Services & SuppliesConstructionBankingTrading CompaniesInsuranceBankingDiversified FinancialsConstructionBankingConsumer DurablesUtilitiesBankingRetailingConstructionBankingHealth Care Equipment & ServicesRetailingMediaRetailingDiversified FinancialsBankingUtilitiesRetailingDiversified FinancialsFoodCapital GoodsBankingOil & Gas OperationsInsuranceDrugs & BiotechnologyIT Software & ServicesConstructionIT Software & ServicesDiversified FinancialsTransportationConstructionCapital GoodsDiversified FinancialsIT Software & ServicesRetailingBusiness Services & SuppliesTechnology Hardware & EquipmentTransportationCapital GoodsChemicalsInsuranceDiversified FinancialsHealth Care Equipment & ServicesHealth Care Equipment & ServicesCapital GoodsHealth Care Equipment & ServicesBankingHealth Care Equipment & ServicesFoodConstructionTrading CompaniesUtilitiesTransportationInsuranceMediaFood MarketsSemiconductorsInsuranceIT Software & ServicesDiversified FinancialsInsuranceDrugs & BiotechnologyMaterialsFoodDiversified FinancialsIT Software & ServicesBusiness Services & SuppliesOil & Gas OperationsTransportationDiversified FinancialsAerospace & DefenseMaterialsInsuranceFood MarketsFoodSemiconductorsBankingCapital GoodsHealth Care Equipment & ServicesFood MarketsTransportationUtilitiesSemiconductorsHealth Care Equipment & ServicesHealth Care Equipment & ServicesRetailingConsumer DurablesOil & Gas OperationsHotelsOil & Gas OperationsChemicalsUtilitiesFoodHousehold & Personal ProductsInsuranceTechnology Hardware & EquipmentCapital GoodsDiversified FinancialsIT Software & ServicesOil & Gas OperationsFoodTransportationHealth Care Equipment & ServicesFoodConstructionHotelsTransportationDiversified FinancialsBusiness Services & SuppliesMaterialsBankingBusiness Services & SuppliesBankingBankingBankingUtilitiesTransportationRetailingBusiness Services & SuppliesBankingTechnology Hardware & EquipmentUtilitiesOil & Gas OperationsSemiconductorsRetailingTechnology Hardware & EquipmentConstructionHealth Care Equipment & ServicesUtilitiesDiversified FinancialsTransportationTechnology Hardware & EquipmentRetailingFoodInsuranceIT Software & ServicesCapital GoodsTelecommunications ServicesMaterialsRetailingHousehold & Personal ProductsBankingTransportationDrugs & BiotechnologyBankingConstructionRetailingFoodDiversified FinancialsTelecommunications ServicesChemicalsTelecommunications ServicesDrugs & BiotechnologyDrugs & BiotechnologyTransportationBusiness Services & SuppliesDiversified FinancialsUtilitiesInsuranceBusiness Services & SuppliesMaterialsOil & Gas OperationsMaterialsTechnology Hardware & EquipmentConsumer DurablesBankingConsumer DurablesFoodOil & Gas OperationsFoodFoodMaterialsBankingConstructionTelecommunications ServicesRetailingBankingRetailingTransportationRetailingSemiconductorsInsuranceTechnology Hardware & EquipmentBusiness Services & SuppliesDiversified FinancialsConstructionIT Software & ServicesBankingTransportationInsuranceBankingUtilitiesTechnology Hardware & EquipmentHealth Care Equipment & ServicesHealth Care Equipment & ServicesOil & Gas OperationsBankingRetailingMaterialsUtilitiesBankingUtilitiesDiversified FinancialsBankingConstructionBankingDrugs & BiotechnologyInsuranceTelecommunications ServicesOil & Gas OperationsDrugs & BiotechnologyBankingDiversified FinancialsOil & Gas OperationsTransportationTransportationChemicalsBankingIT Software & ServicesConstructionRetailingBankingFoodTelecommunications ServicesConstructionFoodIT Software & ServicesTechnology Hardware & EquipmentBankingDiversified FinancialsCapital GoodsFoodDiversified FinancialsBankingOil & Gas OperationsTelecommunications ServicesInsuranceCapital GoodsMaterialsDiversified FinancialsDiversified FinancialsConsumer DurablesTelecommunications ServicesMaterialsDiversified FinancialsConsumer DurablesMaterialsFoodBusiness Services & SuppliesFoodTrading CompaniesBankingMaterialsCapital GoodsRetailingBusiness Services & SuppliesHousehold & Personal ProductsMediaBankingConsumer DurablesConstructionDiversified FinancialsConstructionUtilitiesHealth Care Equipment & ServicesInsuranceIT Software & ServicesBankingBankingIT Software & ServicesDrugs & BiotechnologyCapital GoodsIT Software & ServicesConsumer DurablesFoodMaterialsMaterialsBankingBankingRetailingDiversified FinancialsTransportationConsumer DurablesCapital GoodsUtilitiesBusiness Services & SuppliesChemicalsRetailingConsumer DurablesOil & Gas OperationsMaterialsHotelsBankingRetailingTechnology Hardware & EquipmentDiversified FinancialsIT Software & ServicesBankingCapital GoodsIT Software & ServicesCapital GoodsBankingBankingIT Software & ServicesTransportationDiversified FinancialsBusiness Services & SuppliesAerospace & DefenseBankingFoodConstructionFoodBankingCapital GoodsTrading CompaniesConstructionMaterialsBusiness Services & SuppliesSemiconductorsTransportationBankingTransportationConstructionOil & Gas OperationsAerospace & DefenseBankingBankingConstructionTransportationBankingIT Software & ServicesInsuranceConstructionBusiness Services & SuppliesFoodHealth Care Equipment & ServicesHotelsIT Software & ServicesTrading CompaniesSemiconductorsTransportationMaterialsMaterialsConsumer DurablesTrading CompaniesCapital GoodsOil & Gas OperationsBankingOil & Gas OperationsConsumer DurablesRetailingConstructionConglomeratesConstructionTransportationUtilitiesBankingFoodConsumer DurablesRetailingTransportationConsumer DurablesConsumer DurablesIT Software & ServicesBankingRetailingMaterialsIT Software & ServicesMaterialsDiversified FinancialsHotelsMaterialsDiversified FinancialsConsumer DurablesRetailingUtilitiesCapital GoodsConstructionInsuranceInsuranceDiversified FinancialsFoodCapital GoodsFoodBankingTelecommunications ServicesMaterialsMaterialsFoodConstructionCapital GoodsConstructionDiversified FinancialsHealth Care Equipment & ServicesTelecommunications ServicesBusiness Services & SuppliesBusiness Services & SuppliesConsumer DurablesCapital GoodsMaterialsTechnology Hardware & EquipmentDiversified FinancialsBankingTransportationTransportationMaterialsBusiness Services & SuppliesBankingBankingChemicalsConstructionDiversified FinancialsAerospace & DefenseInsuranceHotelsTelecommunications ServicesTransportationFoodOil & Gas OperationsHousehold & Personal ProductsBankingUtilitiesUtilitiesBankingMaterialsTransportationDiversified FinancialsChemicalsChemicalsDrugs & BiotechnologyBankingCapital GoodsDiversified FinancialsDiversified FinancialsMaterialsBusiness Services & SuppliesDrugs & BiotechnologyCapital GoodsAerospace & DefenseDiversified FinancialsConsumer DurablesIT Software & ServicesCapital GoodsBankingBankingChemicalsInsuranceChemicalsTransportationHealth Care Equipment & ServicesMaterialsDiversified FinancialsMaterialsHousehold & Personal ProductsRetailingTelecommunications ServicesConstructionMaterialsUtilitiesRetailingInsuranceBankingMaterialsDrugs & BiotechnologyConsumer DurablesConstructionConstructionMaterialsConstructionUtilitiesHealth Care Equipment & ServicesMediaDiversified FinancialsConsumer DurablesChemicalsIT Software & ServicesConstructionFoodTransportationInsuranceConstructionUtilitiesMaterialsOil & Gas OperationsTechnology Hardware & EquipmentConstructionFood MarketsChemicalsOil & Gas OperationsDiversified FinancialsBusiness Services & SuppliesUtilitiesBankingConstructionDrugs & BiotechnologyTechnology Hardware & EquipmentTelecommunications ServicesBankingDiversified FinancialsBankingMaterialsHousehold & Personal ProductsCapital GoodsFoodAerospace & DefenseRetailingBankingBankingInsuranceInsuranceTransportationBankingHotelsConsumer DurablesDiversified FinancialsBankingBankingOil & Gas OperationsConsumer DurablesBankingRetailingUtilitiesConsumer DurablesBankingChemicalsFood MarketsDiversified FinancialsBusiness Services & SuppliesBankingChemicalsDiversified FinancialsAutomotive (Automotive and Suppliers)BankingHousehold & Personal ProductsBankingDiversified FinancialsInsuranceTrading CompaniesBusiness Services & SuppliesIT Software & ServicesChemicalsTrading CompaniesMaterialsRetailingFoodHealth Care Equipment & ServicesBankingAerospace & DefenseBankingIT Software & ServicesBankingRetailingChemicalsTechnology Hardware & EquipmentDiversified FinancialsBusiness Services & SuppliesMaterialsMaterialsOil & Gas OperationsConstructionConsumer DurablesUtilitiesTrading CompaniesUtilitiesOil & Gas OperationsUtilitiesDiversified FinancialsRetailingDiversified FinancialsConstructionIT Software & ServicesDiversified FinancialsBankingDiversified FinancialsConstructionOil & Gas OperationsConsumer DurablesConsumer DurablesFood MarketsBankingConstructionBankingOil & Gas OperationsChemicalsHousehold & Personal ProductsBusiness Services & SuppliesRetailingInsuranceTransportationRetailingChemicalsBankingDiversified FinancialsFood MarketsHealth Care Equipment & ServicesConstructionInsuranceAerospace & DefenseBankingTelecommunications ServicesBankingOil & Gas OperationsTrading CompaniesIT Software & ServicesRetailingIT Software & ServicesBankingUtilitiesFoodBankingUtilitiesBusiness Services & SuppliesIT Software & ServicesOil & Gas OperationsCapital GoodsTechnology Hardware & EquipmentIT Software & ServicesTransportationDiversified FinancialsTrading CompaniesDiversified FinancialsBankingIT Software & ServicesSemiconductorsDrugs & BiotechnologyBankingBusiness Services & SuppliesTelecommunications ServicesUtilitiesDiversified FinancialsRetailingBusiness Services & SuppliesTrading CompaniesBankingFoodDiversified FinancialsChemicalsBankingBusiness Services & SuppliesIT Software & ServicesFoodInsuranceBusiness Services & SuppliesUtilitiesBusiness Services & SuppliesSemiconductorsBankingTechnology Hardware & EquipmentBankingMediaDiversified FinancialsTrading CompaniesCapital GoodsTransportationMediaIT Software & ServicesBankingBankingMediaBusiness Services & SuppliesDiversified FinancialsMaterialsInsuranceDiversified FinancialsBusiness Services & SuppliesTechnology Hardware & EquipmentRetailingConglomeratesAerospace & DefenseInsuranceBusiness Services & SuppliesBankingUtilitiesHotelsDiversified FinancialsChemicalsSemiconductorsIT Software & ServicesTransportationIT Software & ServicesInsuranceBankingBankingRetailingHealth Care Equipment & ServicesHousehold & Personal ProductsBankingHousehold & Personal ProductsFood MarketsBankingTrading CompaniesHealth Care Equipment & ServicesCapital GoodsBankingBankingFoodHotelsDiversified FinancialsBusiness Services & SuppliesConstructionConstructionIT Software & ServicesMaterialsBankingDrugs & BiotechnologyBankingBankingOil & Gas OperationsMaterialsCapital GoodsDrugs & BiotechnologyCapital GoodsTransportationIT Software & ServicesOil & Gas OperationsBankingOil & Gas OperationsTrading CompaniesHotelsRetailingConsumer DurablesAerospace & DefenseConstructionBankingTransportationFoodBankingMaterialsBankingBankingSemiconductorsBankingDrugs & BiotechnologyBankingUtilitiesConstructionDiversified FinancialsMaterialsTransportationHealth Care Equipment & ServicesTechnology Hardware & EquipmentTransportationBankingTelecommunications ServicesBankingCapital GoodsBankingBankingBankingBankingIT Software & ServicesBusiness Services & SuppliesFoodInsuranceConsumer DurablesChemicalsDiversified FinancialsBankingBankingBankingIT Software & ServicesBankingHealth Care Equipment & ServicesBankingFoodConsumer DurablesTrading CompaniesBusiness Services & SuppliesConsumer DurablesIT Software & ServicesBankingConsumer DurablesDrugs & BiotechnologyTransportationMediaFood MarketsHealth Care Equipment & ServicesRetailingBankingMaterialsTrading CompaniesCapital GoodsTechnology Hardware & EquipmentBankingUtilitiesOil & Gas OperationsDiversified FinancialsOil & Gas OperationsBankingIT Software & ServicesIT Software & ServicesInsuranceConstructionFood MarketsTransportationBankingChemicalsIT Software & ServicesDrugs & BiotechnologyBankingFoodChemicalsBankingHealth Care Equipment & ServicesMaterialsUtilitiesConstructionBankingHousehold & Personal ProductsUtilitiesDrugs & BiotechnologyConstructionHousehold & Personal ProductsRetailingBusiness Services & SuppliesTechnology Hardware & EquipmentDiversified FinancialsConstructionHealth Care Equipment & ServicesBusiness Services & SuppliesChemicalsFoodTransportationChemicalsTransportationFood MarketsTechnology Hardware & EquipmentHotelsConstructionSemiconductorsConstructionBankingMaterialsTransportationBusiness Services & SuppliesConstructionBankingBankingBankingChemicalsDiversified FinancialsTransportationConsumer DurablesInsuranceInsuranceDiversified FinancialsBusiness Services & SuppliesMaterialsTrading CompaniesBankingRetailingConstructionRetailingMaterialsHealth Care Equipment & ServicesBankingFoodBankingHealth Care Equipment & ServicesBusiness Services & SuppliesBankingMaterialsDiversified FinancialsBankingMaterialsDrugs & BiotechnologyMediaBankingOil & Gas OperationsConstructionMaterialsHealth Care Equipment & ServicesChemicalsTechnology Hardware & EquipmentRetailingBusiness Services & SuppliesInsuranceIT Software & ServicesMaterialsMaterialsTransportationTrading CompaniesCapital GoodsTechnology Hardware & EquipmentHotelsBankingConstructionConstructionRetailingChemicalsDiversified FinancialsBankingCapital GoodsDiversified FinancialsDiversified FinancialsIT Software & ServicesBankingIT Software & ServicesAerospace & DefenseDiversified FinancialsBusiness Services & SuppliesHousehold & Personal ProductsBankingUtilitiesOil & Gas OperationsTechnology Hardware & EquipmentDrugs & BiotechnologyDrugs & BiotechnologyDiversified FinancialsRetailingConstructionDiversified FinancialsCapital GoodsBankingTransportationBankingBankingTrading CompaniesMediaMaterialsTechnology Hardware & EquipmentFoodBusiness Services & SuppliesBankingBankingHotelsDrugs & BiotechnologyTechnology Hardware & EquipmentRetailingIT Software & ServicesBankingOil & Gas OperationsBankingUnknownBankingBankingBusiness Services & SuppliesTransportationMaterialsRetailingConglomeratesBankingConsumer DurablesConsumer DurablesFoodBankingBankingFood MarketsTrading CompaniesBusiness Services & SuppliesBankingConstruction'] to numeric",
     "output_type": "error",
     "traceback": [
      "\u001b[1;31m---------------------------------------------------------------------------\u001b[0m",
      "\u001b[1;31mTypeError\u001b[0m                                 Traceback (most recent call last)",
      "Cell \u001b[1;32mIn[28], line 1\u001b[0m\n\u001b[1;32m----> 1\u001b[0m df\u001b[38;5;241m.\u001b[39mmean()\n",
      "File \u001b[1;32m~\\anaconda3\\Lib\\site-packages\\pandas\\core\\frame.py:11693\u001b[0m, in \u001b[0;36mDataFrame.mean\u001b[1;34m(self, axis, skipna, numeric_only, **kwargs)\u001b[0m\n\u001b[0;32m  11685\u001b[0m \u001b[38;5;129m@doc\u001b[39m(make_doc(\u001b[38;5;124m\"\u001b[39m\u001b[38;5;124mmean\u001b[39m\u001b[38;5;124m\"\u001b[39m, ndim\u001b[38;5;241m=\u001b[39m\u001b[38;5;241m2\u001b[39m))\n\u001b[0;32m  11686\u001b[0m \u001b[38;5;28;01mdef\u001b[39;00m \u001b[38;5;21mmean\u001b[39m(\n\u001b[0;32m  11687\u001b[0m     \u001b[38;5;28mself\u001b[39m,\n\u001b[1;32m   (...)\u001b[0m\n\u001b[0;32m  11691\u001b[0m     \u001b[38;5;241m*\u001b[39m\u001b[38;5;241m*\u001b[39mkwargs,\n\u001b[0;32m  11692\u001b[0m ):\n\u001b[1;32m> 11693\u001b[0m     result \u001b[38;5;241m=\u001b[39m \u001b[38;5;28msuper\u001b[39m()\u001b[38;5;241m.\u001b[39mmean(axis, skipna, numeric_only, \u001b[38;5;241m*\u001b[39m\u001b[38;5;241m*\u001b[39mkwargs)\n\u001b[0;32m  11694\u001b[0m     \u001b[38;5;28;01mif\u001b[39;00m \u001b[38;5;28misinstance\u001b[39m(result, Series):\n\u001b[0;32m  11695\u001b[0m         result \u001b[38;5;241m=\u001b[39m result\u001b[38;5;241m.\u001b[39m__finalize__(\u001b[38;5;28mself\u001b[39m, method\u001b[38;5;241m=\u001b[39m\u001b[38;5;124m\"\u001b[39m\u001b[38;5;124mmean\u001b[39m\u001b[38;5;124m\"\u001b[39m)\n",
      "File \u001b[1;32m~\\anaconda3\\Lib\\site-packages\\pandas\\core\\generic.py:12420\u001b[0m, in \u001b[0;36mNDFrame.mean\u001b[1;34m(self, axis, skipna, numeric_only, **kwargs)\u001b[0m\n\u001b[0;32m  12413\u001b[0m \u001b[38;5;28;01mdef\u001b[39;00m \u001b[38;5;21mmean\u001b[39m(\n\u001b[0;32m  12414\u001b[0m     \u001b[38;5;28mself\u001b[39m,\n\u001b[0;32m  12415\u001b[0m     axis: Axis \u001b[38;5;241m|\u001b[39m \u001b[38;5;28;01mNone\u001b[39;00m \u001b[38;5;241m=\u001b[39m \u001b[38;5;241m0\u001b[39m,\n\u001b[1;32m   (...)\u001b[0m\n\u001b[0;32m  12418\u001b[0m     \u001b[38;5;241m*\u001b[39m\u001b[38;5;241m*\u001b[39mkwargs,\n\u001b[0;32m  12419\u001b[0m ) \u001b[38;5;241m-\u001b[39m\u001b[38;5;241m>\u001b[39m Series \u001b[38;5;241m|\u001b[39m \u001b[38;5;28mfloat\u001b[39m:\n\u001b[1;32m> 12420\u001b[0m     \u001b[38;5;28;01mreturn\u001b[39;00m \u001b[38;5;28mself\u001b[39m\u001b[38;5;241m.\u001b[39m_stat_function(\n\u001b[0;32m  12421\u001b[0m         \u001b[38;5;124m\"\u001b[39m\u001b[38;5;124mmean\u001b[39m\u001b[38;5;124m\"\u001b[39m, nanops\u001b[38;5;241m.\u001b[39mnanmean, axis, skipna, numeric_only, \u001b[38;5;241m*\u001b[39m\u001b[38;5;241m*\u001b[39mkwargs\n\u001b[0;32m  12422\u001b[0m     )\n",
      "File \u001b[1;32m~\\anaconda3\\Lib\\site-packages\\pandas\\core\\generic.py:12377\u001b[0m, in \u001b[0;36mNDFrame._stat_function\u001b[1;34m(self, name, func, axis, skipna, numeric_only, **kwargs)\u001b[0m\n\u001b[0;32m  12373\u001b[0m nv\u001b[38;5;241m.\u001b[39mvalidate_func(name, (), kwargs)\n\u001b[0;32m  12375\u001b[0m validate_bool_kwarg(skipna, \u001b[38;5;124m\"\u001b[39m\u001b[38;5;124mskipna\u001b[39m\u001b[38;5;124m\"\u001b[39m, none_allowed\u001b[38;5;241m=\u001b[39m\u001b[38;5;28;01mFalse\u001b[39;00m)\n\u001b[1;32m> 12377\u001b[0m \u001b[38;5;28;01mreturn\u001b[39;00m \u001b[38;5;28mself\u001b[39m\u001b[38;5;241m.\u001b[39m_reduce(\n\u001b[0;32m  12378\u001b[0m     func, name\u001b[38;5;241m=\u001b[39mname, axis\u001b[38;5;241m=\u001b[39maxis, skipna\u001b[38;5;241m=\u001b[39mskipna, numeric_only\u001b[38;5;241m=\u001b[39mnumeric_only\n\u001b[0;32m  12379\u001b[0m )\n",
      "File \u001b[1;32m~\\anaconda3\\Lib\\site-packages\\pandas\\core\\frame.py:11562\u001b[0m, in \u001b[0;36mDataFrame._reduce\u001b[1;34m(self, op, name, axis, skipna, numeric_only, filter_type, **kwds)\u001b[0m\n\u001b[0;32m  11558\u001b[0m     df \u001b[38;5;241m=\u001b[39m df\u001b[38;5;241m.\u001b[39mT\n\u001b[0;32m  11560\u001b[0m \u001b[38;5;66;03m# After possibly _get_data and transposing, we are now in the\u001b[39;00m\n\u001b[0;32m  11561\u001b[0m \u001b[38;5;66;03m#  simple case where we can use BlockManager.reduce\u001b[39;00m\n\u001b[1;32m> 11562\u001b[0m res \u001b[38;5;241m=\u001b[39m df\u001b[38;5;241m.\u001b[39m_mgr\u001b[38;5;241m.\u001b[39mreduce(blk_func)\n\u001b[0;32m  11563\u001b[0m out \u001b[38;5;241m=\u001b[39m df\u001b[38;5;241m.\u001b[39m_constructor_from_mgr(res, axes\u001b[38;5;241m=\u001b[39mres\u001b[38;5;241m.\u001b[39maxes)\u001b[38;5;241m.\u001b[39miloc[\u001b[38;5;241m0\u001b[39m]\n\u001b[0;32m  11564\u001b[0m \u001b[38;5;28;01mif\u001b[39;00m out_dtype \u001b[38;5;129;01mis\u001b[39;00m \u001b[38;5;129;01mnot\u001b[39;00m \u001b[38;5;28;01mNone\u001b[39;00m \u001b[38;5;129;01mand\u001b[39;00m out\u001b[38;5;241m.\u001b[39mdtype \u001b[38;5;241m!=\u001b[39m \u001b[38;5;124m\"\u001b[39m\u001b[38;5;124mboolean\u001b[39m\u001b[38;5;124m\"\u001b[39m:\n",
      "File \u001b[1;32m~\\anaconda3\\Lib\\site-packages\\pandas\\core\\internals\\managers.py:1500\u001b[0m, in \u001b[0;36mBlockManager.reduce\u001b[1;34m(self, func)\u001b[0m\n\u001b[0;32m   1498\u001b[0m res_blocks: \u001b[38;5;28mlist\u001b[39m[Block] \u001b[38;5;241m=\u001b[39m []\n\u001b[0;32m   1499\u001b[0m \u001b[38;5;28;01mfor\u001b[39;00m blk \u001b[38;5;129;01min\u001b[39;00m \u001b[38;5;28mself\u001b[39m\u001b[38;5;241m.\u001b[39mblocks:\n\u001b[1;32m-> 1500\u001b[0m     nbs \u001b[38;5;241m=\u001b[39m blk\u001b[38;5;241m.\u001b[39mreduce(func)\n\u001b[0;32m   1501\u001b[0m     res_blocks\u001b[38;5;241m.\u001b[39mextend(nbs)\n\u001b[0;32m   1503\u001b[0m index \u001b[38;5;241m=\u001b[39m Index([\u001b[38;5;28;01mNone\u001b[39;00m])  \u001b[38;5;66;03m# placeholder\u001b[39;00m\n",
      "File \u001b[1;32m~\\anaconda3\\Lib\\site-packages\\pandas\\core\\internals\\blocks.py:404\u001b[0m, in \u001b[0;36mBlock.reduce\u001b[1;34m(self, func)\u001b[0m\n\u001b[0;32m    398\u001b[0m \u001b[38;5;129m@final\u001b[39m\n\u001b[0;32m    399\u001b[0m \u001b[38;5;28;01mdef\u001b[39;00m \u001b[38;5;21mreduce\u001b[39m(\u001b[38;5;28mself\u001b[39m, func) \u001b[38;5;241m-\u001b[39m\u001b[38;5;241m>\u001b[39m \u001b[38;5;28mlist\u001b[39m[Block]:\n\u001b[0;32m    400\u001b[0m     \u001b[38;5;66;03m# We will apply the function and reshape the result into a single-row\u001b[39;00m\n\u001b[0;32m    401\u001b[0m     \u001b[38;5;66;03m#  Block with the same mgr_locs; squeezing will be done at a higher level\u001b[39;00m\n\u001b[0;32m    402\u001b[0m     \u001b[38;5;28;01massert\u001b[39;00m \u001b[38;5;28mself\u001b[39m\u001b[38;5;241m.\u001b[39mndim \u001b[38;5;241m==\u001b[39m \u001b[38;5;241m2\u001b[39m\n\u001b[1;32m--> 404\u001b[0m     result \u001b[38;5;241m=\u001b[39m func(\u001b[38;5;28mself\u001b[39m\u001b[38;5;241m.\u001b[39mvalues)\n\u001b[0;32m    406\u001b[0m     \u001b[38;5;28;01mif\u001b[39;00m \u001b[38;5;28mself\u001b[39m\u001b[38;5;241m.\u001b[39mvalues\u001b[38;5;241m.\u001b[39mndim \u001b[38;5;241m==\u001b[39m \u001b[38;5;241m1\u001b[39m:\n\u001b[0;32m    407\u001b[0m         res_values \u001b[38;5;241m=\u001b[39m result\n",
      "File \u001b[1;32m~\\anaconda3\\Lib\\site-packages\\pandas\\core\\frame.py:11481\u001b[0m, in \u001b[0;36mDataFrame._reduce.<locals>.blk_func\u001b[1;34m(values, axis)\u001b[0m\n\u001b[0;32m  11479\u001b[0m         \u001b[38;5;28;01mreturn\u001b[39;00m np\u001b[38;5;241m.\u001b[39marray([result])\n\u001b[0;32m  11480\u001b[0m \u001b[38;5;28;01melse\u001b[39;00m:\n\u001b[1;32m> 11481\u001b[0m     \u001b[38;5;28;01mreturn\u001b[39;00m op(values, axis\u001b[38;5;241m=\u001b[39maxis, skipna\u001b[38;5;241m=\u001b[39mskipna, \u001b[38;5;241m*\u001b[39m\u001b[38;5;241m*\u001b[39mkwds)\n",
      "File \u001b[1;32m~\\anaconda3\\Lib\\site-packages\\pandas\\core\\nanops.py:147\u001b[0m, in \u001b[0;36mbottleneck_switch.__call__.<locals>.f\u001b[1;34m(values, axis, skipna, **kwds)\u001b[0m\n\u001b[0;32m    145\u001b[0m         result \u001b[38;5;241m=\u001b[39m alt(values, axis\u001b[38;5;241m=\u001b[39maxis, skipna\u001b[38;5;241m=\u001b[39mskipna, \u001b[38;5;241m*\u001b[39m\u001b[38;5;241m*\u001b[39mkwds)\n\u001b[0;32m    146\u001b[0m \u001b[38;5;28;01melse\u001b[39;00m:\n\u001b[1;32m--> 147\u001b[0m     result \u001b[38;5;241m=\u001b[39m alt(values, axis\u001b[38;5;241m=\u001b[39maxis, skipna\u001b[38;5;241m=\u001b[39mskipna, \u001b[38;5;241m*\u001b[39m\u001b[38;5;241m*\u001b[39mkwds)\n\u001b[0;32m    149\u001b[0m \u001b[38;5;28;01mreturn\u001b[39;00m result\n",
      "File \u001b[1;32m~\\anaconda3\\Lib\\site-packages\\pandas\\core\\nanops.py:404\u001b[0m, in \u001b[0;36m_datetimelike_compat.<locals>.new_func\u001b[1;34m(values, axis, skipna, mask, **kwargs)\u001b[0m\n\u001b[0;32m    401\u001b[0m \u001b[38;5;28;01mif\u001b[39;00m datetimelike \u001b[38;5;129;01mand\u001b[39;00m mask \u001b[38;5;129;01mis\u001b[39;00m \u001b[38;5;28;01mNone\u001b[39;00m:\n\u001b[0;32m    402\u001b[0m     mask \u001b[38;5;241m=\u001b[39m isna(values)\n\u001b[1;32m--> 404\u001b[0m result \u001b[38;5;241m=\u001b[39m func(values, axis\u001b[38;5;241m=\u001b[39maxis, skipna\u001b[38;5;241m=\u001b[39mskipna, mask\u001b[38;5;241m=\u001b[39mmask, \u001b[38;5;241m*\u001b[39m\u001b[38;5;241m*\u001b[39mkwargs)\n\u001b[0;32m    406\u001b[0m \u001b[38;5;28;01mif\u001b[39;00m datetimelike:\n\u001b[0;32m    407\u001b[0m     result \u001b[38;5;241m=\u001b[39m _wrap_results(result, orig_values\u001b[38;5;241m.\u001b[39mdtype, fill_value\u001b[38;5;241m=\u001b[39miNaT)\n",
      "File \u001b[1;32m~\\anaconda3\\Lib\\site-packages\\pandas\\core\\nanops.py:720\u001b[0m, in \u001b[0;36mnanmean\u001b[1;34m(values, axis, skipna, mask)\u001b[0m\n\u001b[0;32m    718\u001b[0m count \u001b[38;5;241m=\u001b[39m _get_counts(values\u001b[38;5;241m.\u001b[39mshape, mask, axis, dtype\u001b[38;5;241m=\u001b[39mdtype_count)\n\u001b[0;32m    719\u001b[0m the_sum \u001b[38;5;241m=\u001b[39m values\u001b[38;5;241m.\u001b[39msum(axis, dtype\u001b[38;5;241m=\u001b[39mdtype_sum)\n\u001b[1;32m--> 720\u001b[0m the_sum \u001b[38;5;241m=\u001b[39m _ensure_numeric(the_sum)\n\u001b[0;32m    722\u001b[0m \u001b[38;5;28;01mif\u001b[39;00m axis \u001b[38;5;129;01mis\u001b[39;00m \u001b[38;5;129;01mnot\u001b[39;00m \u001b[38;5;28;01mNone\u001b[39;00m \u001b[38;5;129;01mand\u001b[39;00m \u001b[38;5;28mgetattr\u001b[39m(the_sum, \u001b[38;5;124m\"\u001b[39m\u001b[38;5;124mndim\u001b[39m\u001b[38;5;124m\"\u001b[39m, \u001b[38;5;28;01mFalse\u001b[39;00m):\n\u001b[0;32m    723\u001b[0m     count \u001b[38;5;241m=\u001b[39m cast(np\u001b[38;5;241m.\u001b[39mndarray, count)\n",
      "File \u001b[1;32m~\\anaconda3\\Lib\\site-packages\\pandas\\core\\nanops.py:1686\u001b[0m, in \u001b[0;36m_ensure_numeric\u001b[1;34m(x)\u001b[0m\n\u001b[0;32m   1683\u001b[0m inferred \u001b[38;5;241m=\u001b[39m lib\u001b[38;5;241m.\u001b[39minfer_dtype(x)\n\u001b[0;32m   1684\u001b[0m \u001b[38;5;28;01mif\u001b[39;00m inferred \u001b[38;5;129;01min\u001b[39;00m [\u001b[38;5;124m\"\u001b[39m\u001b[38;5;124mstring\u001b[39m\u001b[38;5;124m\"\u001b[39m, \u001b[38;5;124m\"\u001b[39m\u001b[38;5;124mmixed\u001b[39m\u001b[38;5;124m\"\u001b[39m]:\n\u001b[0;32m   1685\u001b[0m     \u001b[38;5;66;03m# GH#44008, GH#36703 avoid casting e.g. strings to numeric\u001b[39;00m\n\u001b[1;32m-> 1686\u001b[0m     \u001b[38;5;28;01mraise\u001b[39;00m \u001b[38;5;167;01mTypeError\u001b[39;00m(\u001b[38;5;124mf\u001b[39m\u001b[38;5;124m\"\u001b[39m\u001b[38;5;124mCould not convert \u001b[39m\u001b[38;5;132;01m{\u001b[39;00mx\u001b[38;5;132;01m}\u001b[39;00m\u001b[38;5;124m to numeric\u001b[39m\u001b[38;5;124m\"\u001b[39m)\n\u001b[0;32m   1687\u001b[0m \u001b[38;5;28;01mtry\u001b[39;00m:\n\u001b[0;32m   1688\u001b[0m     x \u001b[38;5;241m=\u001b[39m x\u001b[38;5;241m.\u001b[39mastype(np\u001b[38;5;241m.\u001b[39mcomplex128)\n",
      "\u001b[1;31mTypeError\u001b[0m: Could not convert [\"JPMorganChaseBerkshire HathawayICBCSaudi Arabian Oil Company (Saudi Aramco)AmazonBank of AmericaChina Construction BankAgricultural Bank of ChinaAlphabetMicrosoftAppleBank of ChinaExxonMobilToyota MotorHSBC HoldingsWells FargoUnitedHealth GroupWalmartSamsung ElectronicsGoldman Sachs GroupMeta PlatformsCitigroupShell PlcMorgan StanleyAllianzRBCPing An Insurance GroupPetroChinaSantanderChevronVerizon CommunicationsChina MobileAlibaba GroupMitsubishi UFJ FinancialAT&TBNP ParibasTencent HoldingsTaiwan SemiconductorChina Merchants BankDeutsche TelekomTotalEnergiesJohnson & JohnsonComcastAXA GroupReliance IndustriesTD Bank GroupNVIDIANestléLVMH Louis Vuitton Moet HennessyAmerican ExpressSinopecBBVA-Banco Bilbao VizcayaHDFC BankVolkswagen GroupState Bank of IndiaSumitomo Mitsui FinancialBank of CommunicationsSonyPostal Savings Bank Of China (PSBC)Procter & GambleIntesa Sanpaolo AssicuraSiemensCommonwealth BankUBSCredit AgricoleOracleThe Home DepotBroadcomTeslaZurich Insurance GroupThe Walt Disney CompanyMercedes-Benz GroupPfizerCVS HealthIndustrial BankMerck & Co.ChubbMunich ReNippon Telegraph & TelRoche HoldingBMW GroupItaú Unibanco HoldingLife Insurance Corp. of IndiaBMOCNOOCPepsiCoBYDEnelChina Life InsuranceMizuho FinancialRTXAnheuser-Busch InBevCostco WholesaleCisco SystemsIBMProgressiveMitsubishiElevance HealthPetrobrasNovartisCITICBank of Nova ScotiaGeneral MotorsCoca-ColaConocoPhillipsEquinorCapital OneAbbVieAstraZenecaUS BancorpChina Citic BankIberdrolaDBSGenerali GroupICICI BankUniCreditHonda MotorCaterpillarAIRBUSCignaContemporary Amperex TechnologyTokio Marine HoldingsGE AerospaceCharles SchwabBHP GroupVisaFord MotorMetLifeCanadian Imperial BankSoftbankSanofiNAB - National Australia BankDeutsche BankBarclaysRio TintoChina State Construction EngineeringHon Hai PrecisionEli LillyVINCIWestpac Banking GroupShanghai Pudong DevelopmentHyundai MotorLloyds Banking GroupAbbott LaboratoriesUnileverPNC Financial ServicesSalesforceThermo Fisher ScientificJohn DeereANZ Group HoldingsMitsuiItochuPDD HoldingsAIA GroupSK HynixNatWest GroupBank of New York MellonNovo NordiskENGIEAccentureSociété GénéraleCaixaBankChina TelecomSAPING GroupEnbridgeManulifeCharter CommunicationsChina Shenhua EnergyNextEra EnergyJD.comUnited Parcel ServiceBristol Myers SquibbDuke EnergyHitachiE.ONLindeApollo Global ManagementPhilip Morris InternationalStellantisNordea BankL'OréalDell TechnologiesBritish American TobaccoMidea GroupPrudential FinancialAllstateBanco do BrasilNetflixTravelersBlackRockHoneywell InternationalLockheed MartinQualcommMcKessonQatar National BankSouthern CompanyInternational Holding CompanyUberChina Pacific InsuranceStandard CharteredAmgenPICCHCA HealthcareEniLowe'sKKRTruist FinancialSchneider ElectricMedtronicKDDIFedExOversea-Chinese BankingASML HoldingSwiss ReMS&AD InsuranceMastercardChina Everbright BankDeutsche PostOil & Natural GasMarathon PetroleumEmirates NBDAl Rajhi BankMcDonald'sMondelez InternationalKBC GroupUnited Overseas BankMicron TechnologyUnion PacificXiaomiJapan Post HoldingsFubon FinancialGilead SciencesDai-ichi Life InsuranceVolvo GroupGSKBanco BradescoAmerican International GroupPayPalFirst Abu Dhabi BankDanaherGeneral DynamicsTargetDiscover Financial ServicesThe Saudi National BankCenteneMeituanKB Financial GroupValeFairfax FinancialZijin Mining GroupChina Minsheng BankCommerzbankA.P. Moller-MaerskInditexDNB BankAflacTalanxNational GridSaint-GobainKrogerAir LiquideOrangeChina UnicomTJX CosEssilorLuxotticaMarsh McLennanDanske BankChina Resources LandFiservErste Group BankSun Life FinancialNorthrop GrummanKweichow MoutaiSuncor EnergyPhillips 66Canadian Natural ResourcesKIANikeRWE GroupDaimler Truck HoldingDelta Air LinesBank Of JiangsuPTTMacquarie Group LimitedAutomatic Data ProcessingCencoraABBHolcimCRHNational Bank of CanadaAxis BankAmerican ElectricAmeriprise FinancialSEB ABSLBCathay FinancialEOG ResourcesAmérica MóvilApplied MaterialsSompoOccidental PetroleumPower Corp of CanadaPG&EBASFVodafoneExelonShinhan Financial GroupGE VernovaAdvanced Micro Devices (AMD)Constellation EnergyBrookfield CorporationSumitomoUnited Airlines HoldingsMarubeniState StreetBharti AirtelNewmontPaccarBAE SystemsHuaxia BankKraft Heinz CompanyDensoCosco ShippingAltria GroupRoyal Ahold Delhaize N.V.Citic SecuritiesEatonOneokRolls-Royce HoldingsStrykerStarbucksHartford Financial Services0.003SAIC MotorTata MotorsNippon SteelBanorteMerck KGaAAdobePoste ItalianeCouche TardS&P GlobalBank of NingboChina Railway GroupGree Electric AppliancesCK HutchisonTescoBank Rakyat Indonesia (BRI)Takeda PharmaceuticalWaste ManagementBanco Btg PactualBooking HoldingsBank of BeijingDiageoChina Yangtze PowerPanasonicSeven & I HoldingsNomuraIntercontinentalExchangeDanoneSvenska HandelsbankenFannie MaeSwedbankD.R. HortonFreddie MacSaudi TelecomNTPCCarrier GlobalKinder MorganChina Communications ConstructionMitsubishi Heavy IndustriesCardinal HealthTexas InstrumentsPrudentialFreeport-McMoRanCumminsBank Of ShanghaiHewlett Packard EnterpriseORLEN Spolka AkcyjnaArch Capital GroupArcelorMittalSempraArcher Daniels MidlandDominion EnergyCTBC Financial HoldingKotak Mahindra BankAonMitsubishi ElectricRichemontEcopetrolBecton DickinsonSynchrony FinancialIntuitM&T BankLarsen & ToubroValero EnergyTAQAHumanaLennarTC EnergyKorea Electric PowerBaiduBaker Hughes CompanyOrixFirst Citizens Bank (NC)Boston ScientificBank MandiriTata Consultancy ServicesVeolia EnvironnementHana Financial GroupSwiss Life HoldingJohnson Controls InternationalHPCheniere EnergyHaier Smart HomePrologisBlackstoneHermès InternationalIndian OilBPEmerson ElectricFemsaChina Railway ConstructionCorebridge FinancialToyota IndustriesShin-Etsu ChemicalToyota TsushoAvivaEtisalatFifth Third BankImperial BrandsRegeneron PharmaceuticalsBlockPower Construction Corporation of ChinaParker-HannifinVistra EnergyMaybankFast RetailingRaymond James FinancialCSLCSXGrupo MexicoRoyal Caribbean GroupConsolidated EdisonAmerican TowerEnBW Energie Baden-WurttembergSyscoBoeingMarriott InternationalLondon Stock ExchangeSuzuki MotorDaiwa House IndustrySherwin-WilliamsBank of BarodaSumitomo Mitsui TrustLuxshare Precision IndustryJapan TobaccoCanadian Pacific Kansas CityCenovus EnergyXcel EnergyHyundai MobisCRRCBank of NanjingChina Tower Corp.Kuwait Finance HouseRepsolInvestor ABCarnival CorporationNN GroupDiamondback EnergyKomatsuFirstRandJBSAir Products & ChemicalsInternational AirlinesNorthern TrustCME GroupHeidelbergCementDeutsche BoerseCanadian National RailwayBank Central AsiaBank LeumiHenkelMercadoLibreNorfolk SouthernL3Harris TechnologiesIntact FinancialIntelRepublic ServicesShaanxi Coal IndustryENEOS HoldingsWilliamsWoodside Energy GroupBridgestoneMichelin GroupDaikin IndustriesNaturgy Energy GroupKeurig Dr PepperNucorNetEaseCompass GroupAbu Dhabi Commercial BankGallagherHuntington BankLam ResearchQuanta ComputerKansai Electric PowerDSVStandard Bank GroupThalesSun Hung Kai PropertiesPoly Developments & Holdings GroupBouyguesGlencore InternationalOTP BankGeneral MillsEdison InternationalWanhua Chemical GroupAmphenolEast Japan RailwayRenaultMarkelHaleonPKO Bank PolskiOMV GroupMuyuan FoodstuffGeely Automobile HoldingsCoal IndiaPunjab National BankCoca-Cola Europacific PartnersS.F. HoldingWilmar InternationalReckitt Benckiser GroupFortescue Metals GroupBaoshan Iron & SteelTrane TechnologiesMediaTekGE HealthCare TechnologiesQBE Insurance GroupBank HapoalimBarrick GoldLenovo GroupPower FinanceBajaj FinservNu HoldingsRecruit HoldingsBanco de SabadellCanonChina Coal EnergyWeichai PowerBT GroupWuliangye YibinMitsui FudosanUnited RentalsAnalog DevicesPublicis GroupeBanco BPMAtlas CopcoLoewsCentral Japan RailwayInfosysEquitable HoldingsMahindra & MahindraTyson FoodsEmaar PropertiesChina Zheshang BankCitizens Financial GroupEcolabColgate-PalmoliveRiyad BankGeorge WestonWoori Financial GroupPublic Service Enterprise GroupNaspersFujifilm HoldingsLincoln NationalNational Bank of KuwaitCanara BankChina Hongqiao GroupAutoZoneCBRE GroupRegions FinancialSwisscomCapgeminiContinental Automotive SystemsKeringSchweizerische NationalbankHessWesfarmersW. R. BerkleyFujitsuSubaru CorporationGrupa PZUUnion Bank of IndiaChina National Nuclear PowerEntergyDollar GeneralNXP SemiconductorsBank Of HangzhouCortevaPrincipal Financial GroupLeonardoLyondellBasell IndustriesCognizantSSEDevon EnergyInpexSafranAssociated British FoodsDTE EnergySamsung C&TSamsung Life InsuranceFidelity National FinancialEverest Re GroupTurkish AirlinesNECBayerLegal & General GroupNutrienBOE Technology GroupTokyo ElectronAgnico Eagle MinesFerrovialSiemens EnergyTelefónicaIllinois Tool WorksACS Actividades de Construccion y ServiciosHindalco IndustriesBharat PetroleumCMOC GroupRELXAirBnBAsr NederlandInfineon TechnologiesAeonO'Reilly AutomotiveGD Power DevelopmentKimberly-ClarkFirstEnergyHalliburtonTE ConnectivityIndustrial Bank of KoreaRoss StoresServiceNowCEZ GroupChina Energy EngineeringNokiaAsahi Group HoldingsCIMB Group HoldingsFerguson EnterprisesTarga ResourcesDaiichi SankyoOtsuka HoldingWoolworthsWEC Energy GroupPoscoAegonWelltowerCNH IndustrialSekisui HouseNippon YusenCincinnati FinancialKuaishou TechnologyHuaneng Power InternationalPernod RicardNRG EnergyMapfreSaudi British BankUniversal Music GroupHengli PetrochemicalWarner Bros. DiscoveryMetallurgical Corp of ChinaKenvueIntuitive SurgicalDeutsche LufthansaUnum GroupBank of IrelandCarrefourAdidasIQVIAHeinekenUnipol GruppoReinsurance Group of AmericaVakifBankAerCap HoldingsFoxTelstraCGN PowerKubotaTenet HealthcareAnglo AmericanResona HoldingsLongfor Group HoldingsT&D HoldingsMeritz Financial GroupEvergreen Marine Corp. (Taiwan)Mitsubishi Estate3i GroupIsbankAgeasYPFAIB GroupAlbertsonsGreat Wall MotorTrip.com GroupEiffageNissan MotorKLAInner Mongolia YiliTokyo Electric PowerNew China Life InsuranceVedanta LimitedEdp-energias De PortugalNintendoBrookfield Wealth SolutionsAssa AbloyChina Resources PowerRogers CommunicationsYankuang Energy GroupPulteGroupQuanta ServicesWW GraingerKeyenceSpotify TechnologyCompagnie de l'OdetHong Kong ExchangesBancolombiaInteractive Brokers GroupGlobal PaymentsLi AutoVICI PropertiesSamsung Fire & MarineMTRTenaga NasionalFreseniusSumitomo ElectricEXORRoper TechnologiesRaiffeisen Bank InternationalFortis (Canada)Eversource EnergyDowCLP HoldingsAlconCoinbaseEquinixChongqing Changan AutoSinopharm GroupTransDigm GroupAluminum Corp of ChinaChubu Electric PowerSaudi ElectricityChina Merchants Shekou Industrial Zone HoldingsChina Taiping InsurancePPGMizrahi Tefahot BankHCLTechSingapore AirlinesSimon Property GroupPalo Alto NetworksSikaTELUSKuehne & Nagel InternationalRenaissanceRe HoldingsHanwha AerospaceNASDAQHikvisionBPER BancaBunge GlobalEletrobrásAptivPublic BankSampoOmnicom GroupEast Money InformationKasikornbankFidelity National Information (FIS)AmerenHuishang BankMolina HealthcareGuotai Junan SecuritiesCenterPoint EnergyNidecBeijing-Shanghai High-Speed RailwayMitsui OSK LineseBayWestern DigitalThomson ReutersRyanair HoldingsHilton Worldwide HoldingsDubai Islamic BankAkbankDuPont De NemoursShanghai Rural Commercial BankZTEVolvo CarMagna InternationalASE Technology HoldingBanca MPSZoetisRealty IncomeShopifyCentricaChipotle Mexican GrillGrupo InbursaTenarisCredicorpExpedia GroupMotorola SolutionsHanwhaSM InvestmentsJardine MathesonCintasAlinma BankMashreq BankTDKAshtead GroupAnhui Conch CementMediobancaITCH&M - Hennes & MauritzChina Reinsurance GroupKorea Shipbuilding & Offshore EngineeringHuatai SecuritiesLive Nation EntertainmentOtis WorldwideMurata ManufacturingPPLDaqin RailwayGrasim IndustriesWH GroupSuper Micro ComputerAmerican Airlines GroupSTMicroelectronicsLas Vegas SandsKoç HoldingDaiwa SecuritiesSaudi Arabian MiningJulius Baer GroupJoint Stock Commercial Bank for Foreign Trade of VietnamMitsubishi UFJ LeaseVerbundSouthwest AirlinesBiogenBDO UnibankCP AllSanlamThe Hershey CompanyMega Financial HoldingSt. James's PlaceArista NetworksPower Grid of IndiaAnta Sports ProductsSmurfit WestrockWalgreens Boots AllianceAbu Dhabi Islamic BankChina VankeVienna Insurance GroupAbsa GroupAlly FinancialKGI Financial HoldingSandvikBank Of ChengduMoody'sLG ChemGenuine PartsKellanovaChongqing Rural BankVenture GlobalBCEHAL TrustSKSK InnovationCDWCMS EnergyCK Asset HoldingsSteel DynamicsSemiconductor Manufacturing InternationalWestinghouse Air Brake TechnologiesXiamen C&DTata SteelBank PekaoIdemitsu KosanHalkbankInternational PaperFlexRenesas ElectronicsChina Merchants SecuritiesLululemon AthleticaCorningJiangxi CopperTD SYNNEXRobinhood MarketsEricssonPhoenix Group HoldingsDelta ElectronicsNaverJSW SteelSCB X Public CompanyEurobank ErgasiasWiproJFE HoldingsSeres GroupPublic StorageIndian BankBest BuyAESRakutenLG ElectronicsSumitomo RealtySchindler HoldingSDIC Power HoldingsEssityRongsheng PetrochemicalKorea GasSichuan Road & BridgeFerrariTractor SupplyGrupo GaliciaLeidosSungrow Power SupplyLegend HoldingDb InsuranceHelvetia HoldingLegrandGalp EnergiaGAIL IndiaPhilipsYuanta Financial HoldingGreenland Holdings GroupBangkok BankDassault AviationIsrael Discount BankRheinmetallDSM-FirmenichEuronextGrupo BimboMartin Marietta MaterialsAisin SeikiCountry Garden HoldingsVonoviaMonster BeverageRestaurant Brands InternationalAenaAmerican Water WorksPrysmianMGM ResortsWen's Foodstuff GroupHMMSingTelKeyCorpTelenorGuosen SecuritiesColes GroupSany Heavy IndustryBank of IndiaKoneSnamVertex PharmaceuticalsCoupangSBI HoldingsAnnaly Capital ManagementBanque Saudi FransiShanghai International PortLonza GroupFlutter EntertainmentJeronimo MartinsTohoku Electric PowerGivaudanSynopsysQatar Islamic BankAsustek ComputerWaste ConnectionsE.Sun FinancialMolson Coors BrewingPenske AutomotiveLPL Financial HoldingsAttijariwafa BankDassault SystemesUni-PresidentArab National BankMazda MotorXCMG Construction MachineryEast West BancorpYum! BrandsBanca MediolanumTechtronic IndustriesTeva PharmaceuticalLithia MotorsNVRCGIIndian Railway FinanceConstellation SoftwareTCLDoverChina Bohai BankCommercial Bank For Investment & Development Of VietnamChina National ChemicalSunshine Insurance GroupCemexChina Galaxy SecuritiesFortinetTelkom IndonesiaBankinterFosun InternationalAppLovinHowmet AerospaceChina Three Gorges Renewables (Group)Vestas Wind SystemsLabcorp HoldingsBeiersdorfGF SecuritiesDarden RestaurantsEMCOR GroupTokyo GasShanghai PharmaceuticalsPembina PipelineM&GFastenalArca ContinentalSwire PacificAmetekExtra Space StorageAtmos EnergyItaúsaSabanci HoldingExperianKajimaJefferies FinancialUCBKrung Thai BankNippon PaintShaanxi Construction Engineering GroupDiDi GlobalNational Bank of GreeceHD HYUNDAIKE HoldingsBuilders FirstSourceAldar PropertiesXylemNongfu SpringChunghwa TelecomPaychexVulcan MaterialsNedbankAdani EnterprisesShin Kong FinancialCNPC CapitalAntarChileShanghai ConstructionFirst Financial HoldingIsuzu MotorsZhejiang Zheneng Electric PowerBanco Comercial PortuguesDick's Sporting GoodsHenderson LandBank of ChangshaZimmer BiometUlta BeautyWPPCopartDigital Realty TrustBank Negara IndonesiaTernaCarMaxAvalonBay CommunitiesCarlsbergJabil CircuitHua Nan FinancialMOL Hungarian OilSuncorp GroupSun Pharma IndustriesWorkdayChina National BuildingElectronic ArtsiA Financial CorporationAir CanadaObayashiIngersoll RandChina Huarong Asset ManagementAmadeus IT GroupDollar TreeShriram FinanceGarminKorean AirWEGMitsubishi ChemicalWTWT Rowe PriceUniversal Health ServicesShenzhen Mindray Bio-Medical ElectronicsAlstomEdwards LifesciencesQuinencoQuest DiagnosticsShanxi Xinghuacun Fen Wine FactoryGreentown China HoldingsWuchan Zhongda GroupHydro OneAll Nippon AirwaysVoya FinancialParamountJ SainsburyUnited MicroelectronicsJackson FinancialCadence DesignEquity ResidentialBâloise GroupChina Resources Pharmaceutical GroupAntofagastaCoca-Cola HBCModon Holding PSCAutodeskWolters KluwerTop Frontier Investment HoldingsCathay Pacific AirwaysStoneX GroupTextronAmcorAssurantMetroInternational Flavors & FragrancesKyoceraTaiwan Cooperative FinancialRockwell AutomationHoyaUS FoodsPerformance Food GroupEvergyMonolithic Power SystemsDaVitaAgilent TechnologiesVibra EnergiaBandai Namco HoldingsNiSourceYum China HoldingsCoterra EnergyAsahi KaseiAdani Power LimitedLuzhou Lao JiaoThe Estée Lauder CompaniesBrown & BrownHexagonNARI Technology DevelopmentCrown Castle InternationalGartnerSantosConstellation BrandsChina Southern AirlinesResMedOlam GroupFluorSodexoAir France-KLMPartners Group HoldingMSCIReliance SteelVietin BankKaspi.kz JSCPiraeus Financial HoldingsIndusInd BankAdyenHuadian Power InternationalAdani Ports & Special Economic ZonePan Pacific International HoldingsBooz Allen Hamilton HoldingBCI-Banco CreditoSeagate TechnologyOrstedEQTON SemiconductorWilliams-SonomaVertiv HoldingsAccionaBaxter InternationalKyushu Electric PowerCsc FinancialInterGlobe AviationWistronGrupo CarsoHormel FoodsAmerican Financial GroupMicroStrategyChina CSSC HoldingsSK TelecomThyssenKrupp GroupBJ's Wholesale ClubKaoFirst HorizonDoorDashViatrisHalyk BankJones Lang LaSalleFalabellaCJ CorporationChina International CapitalCellnex TelecomWestlake CorporationEchostarJiangsu Hengrui MedicineAstellas PharmaOld Dominion Freight LineCorpayJapan Exchange GroupA2AOld MutualVerisk AnalyticsNorsk HydroTowngasTeck ResourcesPegatronForviaStorebrandFord OtosanGuangdong Haid GroupOsaka GasJDE Peet'sMarfrig Global FoodsBayan ResourcesIDBI BankToll BrothersLiberty GlobalCasey's General StoresBank AlbiladCarvanaWest Japan RailwayNextLongi Green Energy TechnologyInsurance Australia GroupAdvantestJacobs SolutionsCarlyle GroupSunac China HoldingsPinterestBawag GroupExpeditors InternationalGrupo De Inversiones SuramericanaBank of ChongqingSabespFortiveTerumoIDEXX LaboratoriesBeijing EnterprisesWestern Alliance Bancorp.RaizenPackaging Corp of AmericaDatang International PowerWebster FinancialFortumInvestecJyske BankWSPZions BancorparGEN-XScorTeliaENN Natural GasWuxi ApptecBank Of GuiyangXPOvintivChina Eastern AirlinesLatam AirlinesBorougeSinoPac FinancialSS&C TechnologiesSTRABAGDollaramaFinecoBankFoshan Haitian Flavouring and FoodTelecom ItaliaCarlisle CosAjinomotoBroadridge FinancialNetAppQilu BankShenwan Hongyuan GroupNAURA Technology GroupKirin HoldingsEQT ABGrupo AvalOrigin EnergyKTGlobe LifeShanghai Electric GroupIndustries QatarMirae Asset Financial GroupAres ManagementYamaha MotorAdvanced Info ServiceHBISGoodman GroupDongfeng Motor GroupSojitzCharoen Pokphand GroupTUILindt & SprungliWESCO InternationalBank of SuzhouGold FieldsTBEAMarks & SpencerGoDaddyToray IndustriesOriental LandBank of GreeceBajaj AutoKingspan Group PLCKorea Investment HoldingsYuexiu PropertyJiangsu Eastern ShenghongRede D'Oro LuizHyundai Marine & FireEvolution Gaming Group ABComericaMetropolitan Bank & TrustZoom Video CommunicationsSandoz GroupFanucVeeva SystemsLKQTongweiChina International MarineKobe SteelDongguan Rural Commercial BankHong Leong FinancialMacy'sChina Cinda Asset ManagementHyundai GlovisKawasaki Heavy IndustriesSMCAlliant EnergyTokyo CenturyEvonik IndustriesAutoNationBAIC MotorENN Energy HoldingsShandong Gold MiningAristocrat LeisureZhongyuan BankVipshop HoldingsShenzhen Transsion HoldingTaishin Financial HoldingsTrimbleRHB BankEpirocPalantir TechnologiesIHIUnicaja BancoBanca TransilvaniaIngram Micro HoldingChina Merchants Port GroupVentasICON (Ireland)MTU Aero Engines AGPopularKerry GroupBBMGMcCormickAlpha BankSinotruk Hong KongArrow ElectronicsKlepierreAngloGold AshantiSGSMarvell TechnologyQantas AirwaysBanque Cantonale VaudoiseZTO Express (Cayman)AECOMTechnipFMCTeledyne TechnologiesWintrust FinancialMilitary Commercial Joint Stock BankSeazen GroupBramblesCredito EmilianoVeriSignOld Republic InternationalTaiseiSoFiSmithfield FoodsMettler-Toledo InternationalNorwegian Cruise Line HoldingsCheck Point SoftwareBunzlFirst SolarJ.B. Hunt Transport ServicesOwens CorningUPM-KymmeneFuyao Glass Industry GroupBrenntagVeraltoTourmaline OilBank of TianjinExpand EnergyValeoGapChina Nuclear Engineering CorporationGS HoldingsChina Communications ServicesZIM Integrated Shipping ServicesACWA PowerConcordia Financial GroupFirst PacificGuangzhou Automobile GroupE-martXiamen XiangyuChow Tai Fook JewelleryStanley Black & DeckerFICOBank of QingdaoEl Puerto de LiverpoolAvery DennisonDocuSignUS SteelRoyalty PharmaGalaxy EntertainmentBallSegroSchaefflerMurphy USAChugoku Electric PowerDISCO Corp.SkanskaAxis Capital HoldingsMigdal InsuranceSBA CommunicationsThai BeverageASM InternationalJiangsu Yanghe BreweryBank of East AsiaKPNKinross GoldAmman Mineral InternasionalConagra BrandsTianshan MaterialSamsung SDIShimao Property HoldingsCBOE Global MarketsColoplastLumen TechnologiesSecomEquifaxSnap-onChina Shipbuilding IndustryAurubisLG DisplayUnibail-Rodamco-WestfieldBNK Financial GroupChina Merchants Expressway Network & Technology HoldingsTransurban GroupAlcoaC.H. RobinsonSouth StateVietnam Technological & Commercial Joint Stock BankNingxia Baofeng Energy GroupMascoCommercial Bank of QatarHeicoPhoenix HoldingsHyatt HotelsOoredoo Q.P.S.CKawasaki Kisen KaishaBrown-FormanAPADeckers OutdoorArab BankPGE Polska Grupa EnergetycznaChina Longyuan PowerBanca Popolare di SondrioTerniumCJ CheiljedangRithm CapitalSumitomo ChemicalCF Industries HoldingsShionogiCommercial Bank DubaiShenzhen Inovance TechnologyAGNC InvestmentStifel FinancialSuzanoChina Development Bank Financial LeasingUnited TherapeuticsLennox InternationalST EngineeringFranklin ResourcesPorsche Automobil HoldingCrowdStrikeHubbellBank of GuizhouChiba BankEastmanWuestenrot & WuerttembergischeCovestroJapan AirlinesDr. Sulaiman Al-Habib Medical Services GroupWheaton Precious MetalsScentre GroupFranco-NevadaPradaTapestryMTN GroupVingroupHyundai SteelBrookfield Renewable HoldingsBurlington StoresBrighthouse FinancialFukuoka Financial GroupCleveland-CliffsEndoGoodyearSumitomo ForestryGeberitHunan Valin SteelChina JinmaoPinnacle WestDexcomNews CorpBajaj Holdings & InvestmentLens TechnologyAkzo NobelAnsysGemdaleSuntory Beverage & FoodYang Ming Marine TransportAdmiral GroupZhuhai Huafa PropertiesManila ElectricGerdau (Cosigua)HF SinclairNitto DenkoHyundai EngineeringEmpireSiam CementFormosa PetrochemicalQuilterCholamandalam Investment and FinanceChina Power International DevelopmentShizuoka Financial GroupAnhui Construction Engineering GroupGenmabKeysight TechnologiesLiberty BroadbandGuangzhou Rural Commercial BankSK SquareSynovusBolidenChurch & DwightAlfa LavalSavola GroupBharat ElectronicsChewyChang Hwa BankGrupo BolivarCAPITECGenworth FinancialXiamen International Trade GroupCullen/Frost BankersCaesars EntertainmentMitsubishi MotorsAlexandria Real Estate EquitiesBank OZKTMBThanachart BankS-OilTitan (India)Bank of MaharashtraCencosudElectric Power DevelopmentSamvardhana Motherson InternationalShengjing BankJohnson MattheyMIXUE GroupSamsung SecuritiesAvis Budget GroupMebuki Financial GroupLotte ChemicalEssex Property TrustLearOld National BankRalph LaurenCommercial International BankIron MountainGeneral Insurance Corporation Of IndiaHotai MotorWiseAtlassianThe Mosaic CompanyWorld Fuel ServicesZhejiang Huayou CobaltAvenue SupermartsCampbell SoupWatersJiangsu Changshu Rural Commercial BankAviChina Industry & TechnologyHarbin BankNomura Research InstituteBOK FinancialZhongsheng Group HoldingsRPM InternationalHuaqin TechnologyInvitation HomesBAC Holding InternationalInner Mongolia Baotou SteelChina SteelCosmo Energy HoldingsWatscoIveco GroupTata Power CompanyDaou DataHikari TsushinPTT Global ChemicalEmeraLundbergsChina Tourism Group Duty FreeCapitaLand Integrated Commercial TrustHangzhou Binjiang Real Estate GroupSnowflakeInvescoFlagstar FinancialTradeweb MarketsCTPNesteKnorr-BremseRajesh ExportsMetro GroupHokuhoku Financial GroupComfort Systems USAVietnam Prosperity Joint-sock Commercial BankPBF EnergyAsian PaintsMoncler SpAFar East HorizonCanadian Tire CorporationMomentum Metropolitan HoldingsZhejiang ExpresswayUltrapar ParticipacoesNovonesis A/SCadence BankDaou TechnologyUnited Natural FoodsSonova HoldingAyala CorpTrygAxon EnterpriseAsia Commercial BankMobilyPinnacle Financial PartnersChina Resources Gas GroupWT MicroelectronicsRobloxGroup 1 AutomotiveNEXONShanghai Commercial & Savings BankCompanhia Energetica de Minas GeraisJM SmuckerBank of ZhengzhouPower Assets HoldingsBureau VeritasKraftonDCCHanwha OceanCompal ElectronicsGen DigitalChina Merchants Port HoldingsKiwoom SecuritiesZheshang Development GroupJapan Securities FinanceHachijuni BankCloudflareGlobalfoundriesHansoh Pharmaceutical GroupNishi-nippon Financial HoldingsSecuritasAltice USAHeraWeyerhaeuserAvoltaChailease HoldingWPG HoldingsKyushu Financial GroupTingyi HoldingSofinaChandra Asri PetrochemicalNorth Pacific BankRollinsTake-Two Interactive SoftwareBarry CallebautE-L FinancialLIC Housing FinanceCPFL EnergiaDai Nippon PrintingCambricon TechnologiesColumbia Banking SystemIEIT SystemsYamaguchi FinancialShenzhen OverseasLink REITRexelKongsberg GruppenInternational Container Terminal ServicesInterpublic GroupComputershareHirogin HoldingsJiangxi BankPop Mart International GroupRandstad N.V.Gaming And Leisure PropertiesYunnan CopperErie IndemnityB3Adecco GroupDoosanCeconomyFocus Media Information TechnologyHuntington Ingalls IndustriesHarel Insurance Investments & Financial ServicesToppan PrintingKyoto Financial GroupPublic PowerInterContinental HotelsLatour Ab InvestmentSasolZhongji InnolightDatadogSinotrans Ltd.CoStar GroupClal Insurance EnterprisesBG Financial GroupSBI Sumishin Net BankLotte ShoppingMedipal HoldingsCloroxTaiwan Business BankUnicharmBIM Birlesik MagazalarBank of JiujiangBayWaHologicKION GroupQingdao Rural Commercial BankChugin Financial GroupCoca-Cola Bottling ConsolidatedAramarkOrient SecuritiesZscalerShimizuTaylor MorrisonHygon Information TechnologyVoestalpineDaishi Hokuetsu Financial GroupAlnylam PharmaceuticalsCentral Bank of IndiaBank of LanzhouAmpolCrown HoldingsPentairBausch Health CompaniesEve EnergyZall Smart Commerce GroupHubSpotPermian ResourcesFIBI HoldingsPrioAvnetDomino's PizzaGrupo ElektraOshkoshSaab GroupDaito Trust ConstructionLuzerner KantonalbankRyder SystemAnhui Gujing DistilleryGunma BankNorthern Star ResourcesSaudi Investment BankF.N.B.Microchip Technology77 BankYunnan Baiyao GroupCommerce BancsharesElia System OperatorKeppel LtdMid-america Apartment CommunitiesBeijing ShougangEasyJetJointown Pharmaceutical GroupGoertekAlaska Air GroupUMB FinancialOiBank of Xi'anZhejiang Chint ElectricsiM Financial GroupBank MuscatJB Financial GroupBendigo & Adelaide BankCoreWeaveAVIC CapitalEastroc Beverage (Group)UniqaAutolivSatellite ChemicalStarwood Property TrustBank of QueenslandValley National BancorpBlom BankF5Basler KantonalbankSterisBanque Centrale PopulaireAlmaraiEicher MotorsParklandSLMAGCELMWeihai City Commercial BankWhirlpoolInhibrx BiosciencesAeroports de ParisSiriusXM HoldingsSprouts Farmers MarketsOlympusAsbury Automotive GroupFirst National Of NebraskaTongling Nonferrous MetalsSGHLS CorpInventecIyogin HoldingsEssential UtilitiesARC ResourcesNH Investment & SecuritiesViva Energy GroupMBH Bank Plc.KonamiTrade DeskBeazleyShanghai Tunnel EngineeringKeskoAirports of ThailandXiamen BankCelaneseTech MahindraBeiGeneBank Of GansuChina Mengniu DairyYara InternationalFederal BankAlfresa HoldingsSKF GroupTalen EnergyBuzzi UnicemProsperity BancsharesHengyi PetrochemicalEquatorial EnergiaCiplaNew World DevelopmentShenzhou International Group HoldingsAmericanasFactSet Research SystemsRicohKimco RealtyMasTecSolventumWarner Music GroupEMS-Chemie HoldingAg Anadolu Grubu Holding Anonim SirketiNippon Express HoldingsIndorama VenturesEternalCP AxtraDigital China GroupHaidilao International HoldingWebuildWill SemiconductorShandong Hi-Speed Road & Bridge GroupLion Finance GroupKGHM Polska MiedzWan Hai LinesNavientDLFJinshang BankAmBank GroupSan-In Godo BankBraskemTMX GroupYunnan YuntianhuaPandoraMercuries & AssociatesGrupo Catalana OccidenteAozora BankManpowerNingbo Jintian Copper (Group)InchcapeSt. Galler KantonalbankZalandoSaipemNitori HoldingsStora EnsoAier Eye Hospital GroupYes BankNew Hope LiuheHyakugo BankIHH HealthcareTeleperformanceNova Ljubljanska BankaHuaibei Mining HoldingsAlRayan BankJuroku Financial GroupPT Adaro Energy IndonesiaCelltrionDentsuShiga BankAltaGasHulicFirst Quantum MineralsStraumann HoldingQinghai Salt Lake IndustryCelesticaBangchakDCI IndonesiaJust GroupDelivery HeroGraphic PackagingSSABInternational Distributions ServicesHanwaWärtsiläUbiquitiBidArab BankingAmbuja CementsChina Fortune Land DevelopmentKingfisherSymrisePrologis Property MexicoSpareBank 1 SR-BankSumec CorporationBolsa de Valores de ColombiaJio Financial ServicesTyler TechnologiesDeutsche PfandbriefbankSamsaraElbit SystemsW. P. CareyGFL EnvironmentalSkechers USANational Bank of Ras Al-Khaimah (P.S.C.)RattanIndia PowerChina Gas HoldingsUnisplendourSichuan Biokin PharmaceuticalSigma HealthcareEFG InternationalKohl'sCIFI Holdings GroupBXPGoneo GroupBank of Cyprus HoldingsEva AirwaysBEKB-BCBEAlior BankSime DarbyLiberty Media Corporation Series A Liberty Formula OneUmicoreAVIC Chengdu AircraftChina Resources Beer (Holdings)Hertz Global HoldingsNexi S.p.A.Hancock HoldingAccorSuzukenLogitech InternationalTrentRedditNanto BankNOVBanco DaviviendaLG Innotek Co.Aichi Financial GroupAssociated Banc-CorpU-Haul HoldingHainan Airlines HoldingPt Adaro Andalan IndonesiaBath & Body WorksBerry Global GroupKakaoBankAllegionHisense Kelon Electrical HoldingsJiangxi Zhengbang TechnologyOgaki Kyoritsu BankTokyo Kiraboshi Financial GroupDino PolskaChina Aviation OilJet2Keiyo BankPT Lippo Karawaci\"\n 'United StatesUnited StatesChinaSaudi ArabiaUnited StatesUnited StatesChinaChinaUnited StatesUnited StatesUnited StatesChinaUnited StatesJapanUnited KingdomUnited StatesUnited StatesUnited StatesSouth KoreaUnited StatesUnited StatesUnited StatesUnited KingdomUnited StatesGermanyCanadaChinaChinaSpainUnited StatesUnited StatesHong KongChinaJapanUnited StatesFranceChinaTaiwanChinaGermanyFranceUnited StatesUnited StatesFranceIndiaCanadaUnited StatesSwitzerlandFranceUnited StatesChinaSpainIndiaGermanyIndiaJapanChinaJapanChinaUnited StatesItalyGermanyAustraliaSwitzerlandFranceUnited StatesUnited StatesUnited StatesUnited StatesSwitzerlandUnited StatesGermanyUnited StatesUnited StatesChinaUnited StatesSwitzerlandGermanyJapanSwitzerlandGermanyBrazilIndiaCanadaHong KongUnited StatesChinaItalyChinaJapanUnited StatesBelgiumUnited StatesUnited StatesUnited StatesUnited StatesJapanUnited StatesBrazilSwitzerlandHong KongCanadaUnited StatesUnited StatesUnited StatesNorwayUnited StatesUnited StatesUnited KingdomUnited StatesChinaSpainSingaporeItalyIndiaItalyJapanUnited StatesFranceUnited StatesChinaJapanUnited StatesUnited StatesAustraliaUnited StatesUnited StatesUnited StatesCanadaJapanFranceAustraliaGermanyUnited KingdomUnited KingdomChinaTaiwanUnited StatesFranceAustraliaChinaSouth KoreaUnited KingdomUnited StatesUnited KingdomUnited StatesUnited StatesUnited StatesUnited StatesAustraliaJapanJapanIrelandHong KongSouth KoreaUnited KingdomUnited StatesDenmarkFranceIrelandFranceSpainChinaGermanyNetherlandsCanadaCanadaUnited StatesChinaUnited StatesChinaUnited StatesUnited StatesUnited StatesJapanGermanyUnited KingdomUnited StatesUnited StatesNetherlandsFinlandFranceUnited StatesUnited KingdomChinaUnited StatesUnited StatesBrazilUnited StatesUnited StatesUnited StatesUnited StatesUnited StatesUnited StatesUnited StatesQatarUnited StatesUnited Arab EmiratesUnited StatesChinaUnited KingdomUnited StatesChinaUnited StatesItalyUnited StatesUnited StatesUnited StatesFranceIrelandJapanUnited StatesSingaporeNetherlandsSwitzerlandJapanUnited StatesChinaGermanyIndiaUnited StatesUnited Arab EmiratesSaudi ArabiaUnited StatesUnited StatesBelgiumSingaporeUnited StatesUnited StatesChinaJapanTaiwanUnited StatesJapanSwedenUnited KingdomBrazilUnited StatesUnited StatesUnited Arab EmiratesUnited StatesUnited StatesUnited StatesUnited StatesSaudi ArabiaUnited StatesChinaSouth KoreaBrazilCanadaChinaChinaGermanyDenmarkSpainNorwayUnited StatesGermanyUnited KingdomFranceUnited StatesFranceFranceHong KongUnited StatesFranceUnited StatesDenmarkHong KongUnited StatesAustriaCanadaUnited StatesChinaCanadaUnited StatesCanadaSouth KoreaUnited StatesGermanyGermanyUnited StatesChinaThailandAustraliaUnited StatesUnited StatesSwitzerlandSwitzerlandIrelandCanadaIndiaUnited StatesUnited StatesSwedenUnited StatesTaiwanUnited StatesMexicoUnited StatesJapanUnited StatesCanadaUnited StatesGermanyUnited KingdomUnited StatesSouth KoreaUnited StatesUnited StatesUnited StatesCanadaJapanUnited StatesJapanUnited StatesIndiaUnited StatesUnited StatesUnknownChinaUnited StatesJapanChinaUnited StatesNetherlandsChinaIrelandUnited StatesUnited KingdomUnited StatesUnited StatesUnited StatesUnited StatesChinaIndiaJapanMexicoUnknownUnited StatesItalyCanadaUnited StatesChinaChinaChinaHong KongUnited KingdomIndonesiaJapanUnited StatesBrazilUnited StatesChinaUnited KingdomChinaJapanJapanJapanUnited StatesFranceSwedenUnited StatesSwedenUnited StatesUnited StatesSaudi ArabiaIndiaUnited StatesUnited StatesChinaJapanUnited StatesUnited StatesUnited KingdomUnited StatesUnited StatesChinaUnited StatesPolandBermudaLuxembourgUnited StatesUnited StatesUnited StatesTaiwanIndiaIrelandJapanSwitzerlandColombiaUnited StatesUnited StatesUnited StatesUnited StatesIndiaUnited StatesUnited Arab EmiratesUnited StatesUnited StatesCanadaSouth KoreaChinaUnited StatesJapanUnited StatesUnited StatesIndonesiaIndiaFranceSouth KoreaSwitzerlandIrelandUnited StatesUnited StatesChinaUnited StatesUnited StatesFranceIndiaUnited KingdomUnited StatesMexicoChinaUnited StatesJapanJapanJapanUnited KingdomUnited Arab EmiratesUnited StatesUnited KingdomUnited StatesUnited StatesChinaUnited StatesUnited StatesMalaysiaJapanUnited StatesAustraliaUnited StatesMexicoUnited StatesUnited StatesUnited StatesGermanyUnited StatesUnited StatesUnited StatesUnited KingdomJapanJapanUnited StatesIndiaJapanChinaJapanCanadaCanadaUnited StatesSouth KoreaChinaChinaChinaKuwaitSpainSwedenUnited StatesNetherlandsUnited StatesJapanSouth AfricaBrazilUnited StatesUnited KingdomUnited StatesUnited StatesGermanyGermanyCanadaIndonesiaIsraelGermanyArgentinaUnited StatesUnited StatesCanadaUnited StatesUnited StatesChinaJapanUnited StatesAustraliaJapanFranceJapanSpainUnited StatesUnited StatesChinaUnited KingdomUnited Arab EmiratesUnited StatesUnited StatesUnited StatesTaiwanJapanDenmarkSouth AfricaFranceHong KongChinaFranceSwitzerlandHungaryUnited StatesUnited StatesChinaUnited StatesJapanFranceUnited StatesUnited KingdomPolandAustriaChinaHong KongIndiaIndiaUnited KingdomChinaSingaporeUnited KingdomAustraliaChinaIrelandTaiwanUnited StatesAustraliaIsraelCanadaHong KongIndiaIndiaCayman IslandsJapanSpainJapanChinaChinaUnited KingdomChinaJapanUnited StatesUnited StatesFranceItalySwedenUnited StatesJapanIndiaUnited StatesIndiaUnited StatesUnited Arab EmiratesChinaUnited StatesUnited StatesUnited StatesSaudi ArabiaCanadaSouth KoreaUnited StatesSouth AfricaJapanUnited StatesKuwaitIndiaChinaUnited StatesUnited StatesUnited StatesSwitzerlandFranceUnknownFranceSwitzerlandUnited StatesAustraliaUnited StatesJapanJapanPolandIndiaChinaUnited StatesUnited StatesNetherlandsChinaUnited StatesUnited StatesItalyUnited KingdomUnited StatesUnited KingdomUnited StatesJapanFranceUnited KingdomUnited StatesSouth KoreaSouth KoreaUnited StatesBermudaTurkeyJapanGermanyUnited KingdomCanadaChinaJapanCanadaSpainGermanySpainUnited StatesSpainIndiaIndiaChinaUnited KingdomUnited StatesNetherlandsGermanyJapanUnited StatesChinaUnited StatesUnited StatesUnited StatesIrelandSouth KoreaUnited StatesUnited StatesCzech RepublicChinaFinlandJapanMalaysiaUnited KingdomUnited StatesJapanJapanAustraliaUnited StatesSouth KoreaNetherlandsUnited StatesUnited KingdomJapanJapanUnited StatesChinaChinaFranceUnited StatesSpainSaudi ArabiaNetherlandsChinaUnited StatesChinaUnited StatesUnited StatesGermanyUnited StatesIrelandFranceGermanyUnited StatesNetherlandsItalyUnited StatesTurkeyIrelandUnited StatesAustraliaChinaJapanUnited StatesUnited KingdomJapanChinaJapanSouth KoreaTaiwanJapanUnited KingdomTurkeyBelgiumArgentinaIrelandUnited StatesChinaChinaFranceJapanUnited StatesChinaJapanChinaIndiaPortugalJapanBermudaSwedenHong KongCanadaChinaUnited StatesUnited StatesUnited StatesJapanLuxembourgFranceHong KongColombiaUnited StatesUnited StatesChinaUnited StatesSouth KoreaHong KongMalaysiaGermanyJapanNetherlandsUnited StatesAustriaCanadaUnited StatesUnited StatesHong KongSwitzerlandUnited StatesUnited StatesChinaChinaUnited StatesChinaJapanSaudi ArabiaChinaHong KongUnited StatesIsraelIndiaSingaporeUnited StatesUnited StatesSwitzerlandCanadaSwitzerlandBermudaSouth KoreaUnited StatesChinaItalyUnited StatesBrazilIrelandMalaysiaFinlandUnited StatesChinaThailandUnited StatesUnited StatesChinaUnited StatesChinaUnited StatesJapanChinaJapanUnited StatesUnited StatesCanadaIrelandUnited StatesUnited Arab EmiratesTurkeyUnited StatesChinaChinaSwedenCanadaTaiwanItalyUnited StatesUnited StatesCanadaUnited KingdomUnited StatesMexicoLuxembourgPeruUnited StatesUnited StatesSouth KoreaPhilippinesBermudaUnited StatesSaudi ArabiaUnited Arab EmiratesJapanUnited KingdomChinaItalyIndiaSwedenChinaSouth KoreaChinaUnited StatesUnited StatesJapanUnited StatesChinaIndiaHong KongUnited StatesUnited StatesSwitzerlandUnited StatesTurkeyJapanSaudi ArabiaSwitzerlandVietnamJapanAustriaUnited StatesUnited StatesPhilippinesThailandSouth AfricaUnited StatesTaiwanUnited KingdomUnited StatesIndiaChinaIrelandUnited StatesUnited Arab EmiratesChinaAustriaSouth AfricaUnited StatesTaiwanSwedenChinaUnited StatesSouth KoreaUnited StatesUnited StatesChinaUnited StatesCanadaNetherlandsSouth KoreaSouth KoreaUnited StatesUnited StatesHong KongUnited StatesChinaUnited StatesChinaIndiaPolandJapanTurkeyUnited StatesUnited StatesJapanChinaCanadaUnited StatesChinaUnited StatesUnited StatesSwedenUnited KingdomTaiwanSouth KoreaIndiaThailandGreeceIndiaJapanChinaUnited StatesIndiaUnited StatesUnited StatesJapanSouth KoreaJapanSwitzerlandChinaSwedenChinaSouth KoreaChinaItalyUnited StatesArgentinaUnited StatesChinaChinaSouth KoreaSwitzerlandFrancePortugalIndiaNetherlandsTaiwanChinaThailandFranceIsraelGermanySwitzerlandNetherlandsMexicoUnited StatesJapanChinaGermanyUnited StatesCanadaSpainUnited StatesItalyUnited StatesChinaSouth KoreaSingaporeUnited StatesNorwayChinaAustraliaChinaIndiaFinlandItalyUnited StatesUnited StatesJapanUnited StatesSaudi ArabiaChinaSwitzerlandUnited StatesPortugalJapanSwitzerlandUnited StatesQatarTaiwanCanadaTaiwanUnited StatesUnited StatesUnited StatesMoroccoFranceTaiwanSaudi ArabiaJapanChinaUnited StatesUnited StatesItalyHong KongIsraelUnited StatesUnited StatesCanadaIndiaCanadaChinaUnited StatesChinaVietnamChinaChinaMexicoChinaUnited StatesIndonesiaSpainChinaUnited StatesUnited StatesChinaDenmarkUnited StatesGermanyChinaUnited StatesUnited StatesJapanChinaCanadaUnited KingdomUnited StatesMexicoHong KongUnited StatesUnited StatesUnited StatesBrazilTurkeyIrelandJapanUnited StatesBelgiumThailandJapanChinaChinaGreeceSouth KoreaChinaUnited StatesUnited Arab EmiratesUnited StatesChinaTaiwanUnited StatesUnited StatesSouth AfricaIndiaTaiwanChinaChileChinaTaiwanJapanChinaPortugalUnited StatesHong KongChinaUnited StatesUnited StatesUnited KingdomUnited StatesUnited StatesIndonesiaItalyUnited StatesUnited StatesDenmarkUnited StatesTaiwanHungaryAustraliaIndiaUnited StatesChinaUnited StatesCanadaCanadaJapanUnited StatesChinaSpainUnited StatesIndiaSwitzerlandSouth KoreaBrazilJapanUnited KingdomUnited StatesUnited StatesChinaFranceUnited StatesChileUnited StatesChinaChinaChinaCanadaJapanUnited StatesUnited StatesUnited KingdomTaiwanUnited StatesUnited StatesUnited StatesSwitzerlandHong KongUnited KingdomSwitzerlandUnited Arab EmiratesUnited StatesNetherlandsPhilippinesHong KongUnited StatesUnited StatesUnited KingdomUnited StatesCanadaUnited StatesJapanTaiwanUnited StatesJapanUnited StatesUnited StatesUnited StatesUnited StatesUnited StatesUnited StatesBrazilJapanUnited StatesChinaUnited StatesJapanIndiaChinaUnited StatesUnited StatesSwedenChinaUnited StatesUnited StatesAustraliaUnited StatesChinaUnited StatesSingaporeUnited StatesFranceFranceSwitzerlandUnited StatesUnited StatesVietnamKazakhstanGreeceIndiaNetherlandsChinaIndiaJapanUnited StatesChileIrelandDenmarkUnited StatesUnited StatesUnited StatesUnited StatesSpainUnited StatesJapanChinaIndiaTaiwanMexicoUnited StatesUnited StatesUnited StatesChinaSouth KoreaGermanyUnited StatesJapanUnited StatesUnited StatesUnited StatesKazakhstanUnited StatesChileSouth KoreaChinaSpainUnited StatesUnited StatesChinaJapanUnited StatesUnited StatesJapanItalySouth AfricaUnited StatesNorwayHong KongCanadaTaiwanFranceNorwayTurkeyChinaJapanNetherlandsBrazilIndonesiaIndiaUnited StatesUnited KingdomUnited StatesSaudi ArabiaUnited StatesJapanUnited KingdomChinaAustraliaJapanUnited StatesUnited StatesChinaUnited StatesAustriaUnited StatesColombiaChinaBrazilUnited StatesJapanUnited StatesHong KongUnited StatesBrazilUnited StatesChinaUnited StatesFinlandUnited KingdomDenmarkCanadaUnited StatesNetherlandsFranceSwedenChinaChinaChinaBrazilUnited StatesChinaChileUnited Arab EmiratesTaiwanUnited StatesAustriaCanadaItalyChinaItalyUnited StatesJapanUnited StatesUnited StatesChinaChinaChinaJapanSwedenColombiaAustraliaSouth KoreaUnited StatesChinaQatarSouth KoreaUnited StatesJapanThailandChinaAustraliaChinaJapanThailandGermanySwitzerlandUnited StatesChinaSouth AfricaChinaUnited KingdomUnited StatesJapanJapanGreeceIndiaIrelandSouth KoreaHong KongChinaBrazilSouth KoreaSwedenUnited StatesPhilippinesUnited StatesSwitzerlandJapanUnited StatesUnited StatesChinaChinaJapanChinaMalaysiaUnited StatesChinaSouth KoreaJapanJapanUnited StatesJapanGermanyUnited StatesChinaChinaChinaAustraliaChinaChinaChinaTaiwanUnited StatesMalaysiaSwedenUnited StatesJapanSpainRomaniaUnited StatesChinaUnited StatesIrelandGermanyUnited StatesIrelandChinaUnited StatesGreeceChinaUnited StatesFranceSouth AfricaSwitzerlandUnited StatesAustraliaSwitzerlandChinaUnited StatesUnited KingdomUnited StatesUnited StatesVietnamChinaAustraliaItalyUnited StatesUnited StatesJapanUnited StatesUnited StatesUnited StatesUnited StatesIsraelUnited KingdomUnited StatesUnited StatesUnited StatesFinlandChinaGermanyUnited StatesCanadaChinaUnited StatesFranceUnited StatesChinaSouth KoreaChinaIsraelSaudi ArabiaJapanHong KongChinaSouth KoreaChinaHong KongUnited StatesUnited StatesChinaMexicoUnited StatesUnited StatesUnited StatesUnited StatesHong KongUnited StatesUnited KingdomGermanyUnited StatesJapanJapanSwedenBermudaIsraelUnited StatesThailandNetherlandsChinaHong KongNetherlandsCanadaIndonesiaUnited StatesChinaSouth KoreaHong KongUnited StatesDenmarkUnited StatesJapanUnited StatesUnited StatesChinaGermanySouth KoreaFranceSouth KoreaChinaAustraliaUnited StatesUnited StatesUnited StatesVietnamChinaUnited StatesQatarUnited StatesIsraelUnited StatesQatarJapanUnited StatesUnited StatesUnited StatesJordanPolandChinaItalyLuxembourgSouth KoreaUnited StatesJapanUnited StatesJapanUnited Arab EmiratesChinaUnited StatesUnited StatesBrazilChinaUnited StatesUnited StatesSingaporeUnited StatesGermanyUnited StatesUnited StatesChinaJapanUnited StatesGermanyGermanyJapanSaudi ArabiaCanadaAustraliaCanadaItalyUnited StatesSouth AfricaVietnamSouth KoreaUnited StatesUnited StatesUnited StatesJapanUnited StatesIrelandUnited StatesJapanSwitzerlandChinaHong KongUnited StatesUnited StatesUnited StatesIndiaChinaNetherlandsUnited StatesChinaJapanTaiwanUnited KingdomChinaPhilippinesBrazilUnited StatesJapanSouth KoreaCanadaThailandTaiwanUnited KingdomIndiaHong KongJapanChinaDenmarkUnited StatesUnited StatesChinaSouth KoreaUnited StatesSwedenUnited StatesSwedenSaudi ArabiaIndiaUnited StatesTaiwanColombiaSouth AfricaUnited StatesChinaUnited StatesUnited StatesJapanUnited StatesUnited StatesThailandSouth KoreaIndiaIndiaChileJapanIndiaChinaUnited KingdomChinaSouth KoreaUnited StatesJapanSouth KoreaUnited StatesUnited StatesUnited StatesUnited StatesEgyptUnited StatesIndiaTaiwanUnited KingdomUnited StatesUnited StatesUnited StatesChinaIndiaUnited StatesUnited StatesChinaChinaChinaJapanUnited StatesChinaUnited StatesChinaUnited StatesColombiaChinaTaiwanJapanUnited StatesItalyIndiaSouth KoreaJapanThailandCanadaSwedenChinaSingaporeChinaUnited StatesUnited StatesUnited StatesUnited StatesNetherlandsFinlandGermanyIndiaGermanyJapanUnited StatesVietnamUnited StatesIndiaItalyHong KongCanadaSouth AfricaChinaBrazilDenmarkUnited StatesSouth KoreaUnited StatesSwitzerlandPhilippinesDenmarkUnited StatesVietnamSaudi ArabiaUnited StatesHong KongTaiwanUnited StatesUnited StatesJapanTaiwanBrazilUnited StatesChinaHong KongFranceSouth KoreaIrelandSouth KoreaTaiwanUnited StatesHong KongSouth KoreaChinaJapanJapanUnited StatesUnited StatesChinaJapanSwedenUnited StatesItalyUnited StatesSwitzerlandTaiwanTaiwanJapanChinaBelgiumIndonesiaJapanUnited StatesUnited StatesSwitzerlandCanadaIndiaBrazilJapanChinaUnited StatesChinaJapanChinaHong KongFranceNorwayPhilippinesUnited StatesAustraliaJapanChinaChinaNetherlandsUnited StatesChinaUnited StatesBrazilSwitzerlandSouth KoreaGermanyChinaUnited StatesIsraelJapanJapanGreeceUnited KingdomSwedenSouth AfricaChinaUnited StatesChinaUnited StatesIsraelPanamaJapanSouth KoreaJapanUnited StatesTaiwanJapanTurkeyHong KongGermanyUnited StatesGermanyChinaJapanUnited StatesUnited StatesChinaUnited StatesJapanUnited StatesChinaAustriaJapanUnited StatesIndiaChinaAustraliaUnited StatesUnited KingdomCanadaChinaChinaUnited StatesUnited StatesIsraelBrazilUnited StatesUnited StatesMexicoUnited StatesSwedenJapanSwitzerlandUnited StatesChinaJapanAustraliaSaudi ArabiaUnited StatesUnited StatesJapanChinaUnited StatesBelgiumSingaporeUnited StatesChinaUnited KingdomChinaChinaUnited StatesUnited StatesBrazilChinaChinaSouth KoreaOmanSouth KoreaAustraliaUnited StatesChinaChinaAustriaSwedenChinaUnited StatesAustraliaUnited StatesLebanonUnited StatesSwitzerlandIrelandMoroccoSaudi ArabiaIndiaCanadaUnited StatesJapanSaudi ArabiaChinaUnited StatesUnited StatesFranceUnited StatesUnited StatesJapanUnited StatesUnited StatesChinaAustraliaSouth KoreaTaiwanJapanUnited StatesCanadaSouth KoreaAustraliaHungaryJapanUnited StatesIrelandChinaFinlandThailandChinaUnited StatesIndiaCayman IslandsChinaHong KongNorwayIndiaJapanSwedenUnited StatesItalyUnited StatesChinaBrazilIndiaHong KongChinaBrazilUnited StatesJapanUnited StatesUnited StatesUnited StatesUnited StatesSwitzerlandTurkeyJapanThailandIndiaThailandChinaChinaItalyChinaChinaUnited KingdomPolandTaiwanUnited StatesIndiaChinaMalaysiaJapanBrazilCanadaChinaDenmarkTaiwanSpainJapanUnited StatesChinaUnited KingdomSwitzerlandGermanyItalyJapanFinlandChinaIndiaChinaJapanMalaysiaFranceSloveniaChinaQatarJapanIndonesiaSouth KoreaJapanJapanCanadaJapanCanadaSwitzerlandChinaCanadaThailandIndonesiaUnited KingdomGermanyUnited StatesSwedenUnited KingdomJapanFinlandUnited StatesSouth AfricaBahrainIndiaChinaUnited KingdomGermanyMexicoNorwayChinaColombiaIndiaUnited StatesGermanyUnited StatesIsraelUnited StatesCanadaUnited StatesUnited Arab EmiratesIndiaHong KongChinaChinaAustraliaSwitzerlandUnited StatesChinaUnited StatesChinaCyprusTaiwanSwitzerlandPolandMalaysiaUnited StatesBelgiumChinaHong KongUnited StatesItalyUnited StatesFranceJapanSwitzerlandIndiaUnited StatesJapanUnited StatesColombiaUnknownJapanUnited StatesUnited StatesChinaIndonesiaUnited StatesUnited StatesSouth KoreaIrelandChinaChinaJapanJapanPolandSingaporeUnited KingdomJapanIndonesia'\n 'BankingInsuranceBankingOil & Gas OperationsRetail and WholesaleBankingBankingBankingIT Software & ServicesIT Software & ServicesTechnology Hardware & EquipmentBankingOil & Gas OperationsConsumer DurablesBankingBankingInsuranceRetailingTechnology Hardware & EquipmentDiversified FinancialsIT Software & ServicesBankingOil & Gas OperationsDiversified FinancialsInsuranceBankingInsuranceOil & Gas OperationsBankingOil & Gas OperationsTelecommunications ServicesTelecommunications ServicesRetailingBankingTelecommunications ServicesBankingIT Software & ServicesSemiconductorsBankingTelecommunications ServicesOil & Gas OperationsDrugs & BiotechnologyMediaInsuranceOil & Gas OperationsBankingSemiconductorsFoodHousehold & Personal ProductsBusiness Services & SuppliesOil & Gas OperationsBankingBankingConsumer DurablesBankingBankingBankingTechnology Hardware & EquipmentBankingHousehold & Personal ProductsInsuranceCapital GoodsBankingDiversified FinancialsBankingIT Software & ServicesRetailingSemiconductorsConsumer DurablesInsuranceMediaConsumer DurablesDrugs & BiotechnologyRetailingBankingDrugs & BiotechnologyInsuranceInsuranceTelecommunications ServicesDrugs & BiotechnologyConsumer DurablesBankingInsuranceBankingOil & Gas OperationsFoodConsumer DurablesUtilitiesInsuranceBankingAerospace & DefenseFoodRetailingIT Software & ServicesIT Software & ServicesInsuranceTrading CompaniesDrugs & BiotechnologyOil & Gas OperationsDrugs & BiotechnologyBusiness Services & SuppliesBankingConsumer DurablesFoodOil & Gas OperationsOil & Gas OperationsBankingDrugs & BiotechnologyDrugs & BiotechnologyBankingBankingUtilitiesBankingInsuranceBankingBankingConsumer DurablesEngineeringAerospace & DefenseInsuranceCapital GoodsInsuranceAerospace & DefenseDiversified FinancialsMaterialsBankingConsumer DurablesInsuranceBankingTelecommunications ServicesDrugs & BiotechnologyBankingDiversified FinancialsDiversified FinancialsMaterialsConstructionTechnology Hardware & EquipmentDrugs & BiotechnologyConstructionBankingBankingConsumer DurablesBankingHealth Care Equipment & ServicesHousehold & Personal ProductsBankingIT Software & ServicesDrugs & BiotechnologyCapital GoodsBankingChemicalsFood MarketsRetailingInsuranceSemiconductorsBankingDiversified FinancialsDrugs & BiotechnologyUtilitiesIT Software & ServicesBankingBankingTelecommunications ServicesIT Software & ServicesBankingOil & Gas OperationsInsuranceMediaMaterialsUtilitiesRetailingTransportationDrugs & BiotechnologyUtilitiesCapital GoodsUtilitiesChemicalsDiversified FinancialsFoodConsumer DurablesBankingHousehold & Personal ProductsTechnology Hardware & EquipmentFoodConsumer DurablesInsuranceInsuranceBankingIT Software & ServicesInsuranceDiversified FinancialsTrading CompaniesAerospace & DefenseSemiconductorsHealth Care Equipment & ServicesBankingUtilitiesConglomeratesTransportationInsuranceBankingDrugs & BiotechnologyInsuranceHealth Care Equipment & ServicesOil & Gas OperationsRetailingDiversified FinancialsBankingCapital GoodsHealth Care Equipment & ServicesTelecommunications ServicesTransportationBankingSemiconductorsInsuranceInsuranceBankingBankingTransportationOil & Gas OperationsOil & Gas OperationsBankingBankingHotelsFoodBankingBankingSemiconductorsTransportationTechnology Hardware & EquipmentInsuranceInsuranceDrugs & BiotechnologyInsuranceCapital GoodsDrugs & BiotechnologyBankingInsuranceBusiness Services & SuppliesBankingHealth Care Equipment & ServicesAerospace & DefenseRetailingBusiness Services & SuppliesBankingDrugs & BiotechnologyTransportationBankingMaterialsInsuranceMaterialsBankingBankingTransportationRetailingBankingInsuranceInsuranceUtilitiesConstructionFood MarketsChemicalsTelecommunications ServicesTelecommunications ServicesRetailingHealth Care Equipment & ServicesInsuranceBankingConstructionBankingBankingInsuranceAerospace & DefenseFoodOil & Gas OperationsOil & Gas OperationsOil & Gas OperationsConsumer DurablesHousehold & Personal ProductsUtilitiesConsumer DurablesTransportationBankingOil & Gas OperationsDiversified FinancialsIT Software & ServicesHealth Care Equipment & ServicesCapital GoodsConstructionConstructionBankingBankingUtilitiesDiversified FinancialsBankingOil & Gas OperationsInsuranceOil & Gas OperationsTelecommunications ServicesCapital GoodsInsuranceOil & Gas OperationsInsuranceUtilitiesCapital GoodsTelecommunications ServicesUtilitiesBankingCapital GoodsSemiconductorsUtilitiesDiversified FinancialsTrading CompaniesTransportationFoodDiversified FinancialsTelecommunications ServicesMaterialsCapital GoodsUnknownBankingFoodConsumer DurablesTransportationFoodFood MarketsDiversified FinancialsCapital GoodsOil & Gas OperationsAerospace & DefenseHealth Care Equipment & ServicesHotelsInsuranceConglomeratesConsumer DurablesConsumer DurablesMaterialsBankingUnknownIT Software & ServicesBankingRetailingBusiness Services & SuppliesBankingConstructionCapital GoodsRetailingFood MarketsBankingDrugs & BiotechnologyBusiness Services & SuppliesDiversified FinancialsIT Software & ServicesBankingFoodUtilitiesConsumer DurablesFood MarketsDiversified FinancialsDiversified FinancialsFoodBankingBusiness Services & SuppliesBankingConstructionBusiness Services & SuppliesTelecommunications ServicesUtilitiesCapital GoodsOil & Gas OperationsConstructionAerospace & DefenseHealth Care Equipment & ServicesSemiconductorsInsuranceMaterialsConsumer DurablesBankingIT Software & ServicesOil & Gas OperationsInsuranceMaterialsOil & Gas OperationsFoodUtilitiesBankingBankingInsuranceCapital GoodsConsumer DurablesOil & Gas OperationsHealth Care Equipment & ServicesBusiness Services & SuppliesIT Software & ServicesBankingConstructionOil & Gas OperationsUtilitiesInsuranceConstructionOil & Gas OperationsUtilitiesIT Software & ServicesOil & Gas OperationsBusiness Services & SuppliesBankingHealth Care Equipment & ServicesBankingIT Software & ServicesUtilitiesBankingInsuranceCapital GoodsTechnology Hardware & EquipmentOil & Gas OperationsConsumer DurablesDiversified FinancialsDiversified FinancialsHousehold & Personal ProductsOil & Gas OperationsOil & Gas OperationsTechnology Hardware & EquipmentFoodConstructionDiversified FinancialsCapital GoodsChemicalsTrading CompaniesInsuranceTelecommunications ServicesBankingFoodDrugs & BiotechnologyBankingConstructionTechnology Hardware & EquipmentUtilitiesBankingRetailingDiversified FinancialsDrugs & BiotechnologyTransportationMaterialsHotelsUtilitiesDiversified FinancialsUtilitiesFood MarketsAerospace & DefenseHotelsIT Software & ServicesConsumer DurablesConstructionChemicalsBankingBankingTechnology Hardware & EquipmentFoodTransportationOil & Gas OperationsUtilitiesConsumer DurablesCapital GoodsBankingTelecommunications ServicesBankingOil & Gas OperationsDiversified FinancialsHotelsInsuranceOil & Gas OperationsCapital GoodsBankingFoodConstructionTransportationDiversified FinancialsDiversified FinancialsConstructionDiversified FinancialsTransportationBankingBankingHousehold & Personal ProductsRetailingTransportationAerospace & DefenseInsuranceSemiconductorsBusiness Services & SuppliesMaterialsOil & Gas OperationsOil & Gas OperationsOil & Gas OperationsConsumer DurablesConsumer DurablesCapital GoodsUtilitiesFoodMaterialsIT Software & ServicesHotelsBankingInsuranceBankingCapital GoodsTechnology Hardware & EquipmentUtilitiesTransportationBankingAerospace & DefenseConstructionConstructionConstructionTrading CompaniesBankingFoodUtilitiesChemicalsTechnology Hardware & EquipmentTransportationConsumer DurablesInsuranceDrugs & BiotechnologyBankingOil & Gas OperationsFoodConsumer DurablesMaterialsBankingFoodTransportationFoodHousehold & Personal ProductsMaterialsMaterialsCapital GoodsSemiconductorsHealth Care Equipment & ServicesInsuranceBankingMaterialsTechnology Hardware & EquipmentBusiness Services & SuppliesInsuranceBankingIT Software & ServicesBankingTechnology Hardware & EquipmentMaterialsConsumer DurablesTelecommunications ServicesFoodConstructionBusiness Services & SuppliesSemiconductorsMediaBankingCapital GoodsInsuranceTransportationIT Software & ServicesInsuranceConsumer DurablesFoodConstructionBankingBankingChemicalsHousehold & Personal ProductsBankingFood MarketsBankingUtilitiesIT Software & ServicesHealth Care Equipment & ServicesInsuranceBankingBankingMaterialsRetailingConstructionBankingTelecommunications ServicesIT Software & ServicesUnknownHousehold & Personal ProductsBankingOil & Gas OperationsRetailingInsuranceIT Software & ServicesConsumer DurablesInsuranceBankingUtilitiesUtilitiesRetailingSemiconductorsBankingFoodDiversified FinancialsAerospace & DefenseChemicalsIT Software & ServicesUtilitiesOil & Gas OperationsOil & Gas OperationsAerospace & DefenseFoodUtilitiesConstructionInsuranceInsuranceInsuranceTransportationIT Software & ServicesDrugs & BiotechnologyInsuranceChemicalsTechnology Hardware & EquipmentCapital GoodsMaterialsConstructionCapital GoodsTelecommunications ServicesConsumer DurablesConstructionMaterialsOil & Gas OperationsTrading CompaniesBusiness Services & SuppliesBusiness Services & SuppliesInsuranceSemiconductorsFood MarketsRetailingUtilitiesHousehold & Personal ProductsUtilitiesOil & Gas OperationsSemiconductorsBusiness Services & SuppliesRetailingIT Software & ServicesUtilitiesConstructionTechnology Hardware & EquipmentFoodBankingTrading CompaniesOil & Gas OperationsDrugs & BiotechnologyDrugs & BiotechnologyFood MarketsUtilitiesMaterialsInsuranceDiversified FinancialsCapital GoodsConstructionTransportationInsuranceMediaUtilitiesFoodUtilitiesInsuranceBankingBusiness Services & SuppliesChemicalsMediaConstructionHousehold & Personal ProductsHealth Care Equipment & ServicesTransportationInsuranceBankingRetailingHousehold & Personal ProductsDrugs & BiotechnologyFoodInsuranceInsuranceBankingBusiness Services & SuppliesMediaTelecommunications ServicesUtilitiesCapital GoodsHealth Care Equipment & ServicesMaterialsBankingConstructionInsuranceDiversified FinancialsTransportationConstructionDiversified FinancialsBankingInsuranceOil & Gas OperationsBankingFood MarketsConsumer DurablesBusiness Services & SuppliesConstructionConsumer DurablesTechnology Hardware & EquipmentFoodUtilitiesInsuranceMaterialsUtilitiesIT Software & ServicesDiversified FinancialsConsumer DurablesUtilitiesTelecommunications ServicesMaterialsConstructionConstructionTrading CompaniesTechnology Hardware & EquipmentIT Software & ServicesTransportationDiversified FinancialsBankingDiversified FinancialsBusiness Services & SuppliesConsumer DurablesDiversified FinancialsInsuranceTransportationUtilitiesHealth Care Equipment & ServicesConsumer DurablesDiversified FinancialsIT Software & ServicesBankingUtilitiesUtilitiesChemicalsUtilitiesHealth Care Equipment & ServicesDiversified FinancialsDiversified FinancialsConsumer DurablesHealth Care Equipment & ServicesAerospace & DefenseTrading CompaniesUtilitiesUtilitiesConstructionInsuranceChemicalsBankingIT Software & ServicesTransportationBusiness Services & SuppliesIT Software & ServicesChemicalsTelecommunications ServicesTransportationInsuranceAerospace & DefenseDiversified FinancialsTechnology Hardware & EquipmentBankingFoodUtilitiesCapital GoodsBankingInsuranceMediaIT Software & ServicesBankingIT Software & ServicesUtilitiesBankingDrugs & BiotechnologyDiversified FinancialsUtilitiesCapital GoodsTransportationTransportationRetailingTechnology Hardware & EquipmentIT Software & ServicesTransportationHotelsBankingBankingChemicalsBankingTechnology Hardware & EquipmentConsumer DurablesConsumer DurablesSemiconductorsBankingDrugs & BiotechnologyDiversified FinancialsIT Software & ServicesOil & Gas OperationsHotelsBankingMaterialsBankingBusiness Services & SuppliesTechnology Hardware & EquipmentChemicalsRetailingConglomeratesBusiness Services & SuppliesBankingBankingTechnology Hardware & EquipmentBusiness Services & SuppliesConstructionBankingFoodRetailingInsuranceCapital GoodsDiversified FinancialsMediaConstructionTechnology Hardware & EquipmentUtilitiesTransportationConstructionFoodTechnology Hardware & EquipmentTransportationSemiconductorsHotelsOil & Gas OperationsDiversified FinancialsMaterialsDiversified FinancialsBankingBusiness Services & SuppliesUtilitiesTransportationDrugs & BiotechnologyBankingFood MarketsInsuranceFoodBankingInsuranceTechnology Hardware & EquipmentUtilitiesHousehold & Personal ProductsMaterialsRetailingBankingConstructionInsuranceBankingBankingInsuranceCapital GoodsBankingBusiness Services & SuppliesChemicalsTrading CompaniesFoodBankingOil & Gas OperationsTelecommunications ServicesDiversified FinancialsDiversified FinancialsOil & Gas OperationsIT Software & ServicesUtilitiesConstructionMaterialsSemiconductorsCapital GoodsTransportationMaterialsBankingOil & Gas OperationsBankingMaterialsTechnology Hardware & EquipmentSemiconductorsDiversified FinancialsHousehold & Personal ProductsTechnology Hardware & EquipmentMaterialsTrading CompaniesDiversified FinancialsTechnology Hardware & EquipmentInsuranceTechnology Hardware & EquipmentIT Software & ServicesMaterialsBankingBankingIT Software & ServicesMaterialsConsumer DurablesDiversified FinancialsBankingRetailingUtilitiesRetailingConsumer DurablesConstructionCapital GoodsUtilitiesHousehold & Personal ProductsTrading CompaniesOil & Gas OperationsConstructionConsumer DurablesRetailingBankingIT Software & ServicesSemiconductorsDiversified FinancialsInsuranceInsuranceTechnology Hardware & EquipmentOil & Gas OperationsOil & Gas OperationsHealth Care Equipment & ServicesDiversified FinancialsConstructionBankingAerospace & DefenseBankingAerospace & DefenseChemicalsDiversified FinancialsFoodConstructionConsumer DurablesConstructionConstructionFoodHotelsTransportationUtilitiesCapital GoodsHotelsFoodTransportationTelecommunications ServicesBankingTelecommunications ServicesDiversified FinancialsFood MarketsCapital GoodsBankingConstructionOil & Gas OperationsDrugs & BiotechnologyRetailingDiversified FinancialsDiversified FinancialsBankingTransportationDrugs & BiotechnologyHotelsFood MarketsUtilitiesFoodIT Software & ServicesBankingTechnology Hardware & EquipmentBusiness Services & SuppliesBankingFoodRetailingDiversified FinancialsBankingIT Software & ServicesFood MarketsBankingConsumer DurablesCapital GoodsBankingHotelsBankingConsumer DurablesDrugs & BiotechnologyRetailingConstructionIT Software & ServicesBusiness Services & SuppliesIT Software & ServicesTechnology Hardware & EquipmentCapital GoodsBankingBankingConstructionInsuranceConstructionDiversified FinancialsIT Software & ServicesTelecommunications ServicesBankingInsuranceIT Software & ServicesAerospace & DefenseUtilitiesCapital GoodsHealth Care Equipment & ServicesHousehold & Personal ProductsDiversified FinancialsHotelsBusiness Services & SuppliesOil & Gas OperationsDrugs & BiotechnologyOil & Gas OperationsDiversified FinancialsTrading CompaniesFoodFoodCapital GoodsDiversified FinancialsUtilitiesDiversified FinancialsBankingBusiness Services & SuppliesConstructionDiversified FinancialsDrugs & BiotechnologyBankingChemicalsConstructionIT Software & ServicesBankingCapital GoodsConstructionRetailingConstructionCapital GoodsFoodTelecommunications ServicesBusiness Services & SuppliesConstructionBankingTrading CompaniesInsuranceBankingDiversified FinancialsConstructionBankingConsumer DurablesUtilitiesBankingRetailingConstructionBankingHealth Care Equipment & ServicesRetailingMediaRetailingDiversified FinancialsBankingUtilitiesRetailingDiversified FinancialsFoodCapital GoodsBankingOil & Gas OperationsInsuranceDrugs & BiotechnologyIT Software & ServicesConstructionIT Software & ServicesDiversified FinancialsTransportationConstructionCapital GoodsDiversified FinancialsIT Software & ServicesRetailingBusiness Services & SuppliesTechnology Hardware & EquipmentTransportationCapital GoodsChemicalsInsuranceDiversified FinancialsHealth Care Equipment & ServicesHealth Care Equipment & ServicesCapital GoodsHealth Care Equipment & ServicesBankingHealth Care Equipment & ServicesFoodConstructionTrading CompaniesUtilitiesTransportationInsuranceMediaFood MarketsSemiconductorsInsuranceIT Software & ServicesDiversified FinancialsInsuranceDrugs & BiotechnologyMaterialsFoodDiversified FinancialsIT Software & ServicesBusiness Services & SuppliesOil & Gas OperationsTransportationDiversified FinancialsAerospace & DefenseMaterialsInsuranceFood MarketsFoodSemiconductorsBankingCapital GoodsHealth Care Equipment & ServicesFood MarketsTransportationUtilitiesSemiconductorsHealth Care Equipment & ServicesHealth Care Equipment & ServicesRetailingConsumer DurablesOil & Gas OperationsHotelsOil & Gas OperationsChemicalsUtilitiesFoodHousehold & Personal ProductsInsuranceTechnology Hardware & EquipmentCapital GoodsDiversified FinancialsIT Software & ServicesOil & Gas OperationsFoodTransportationHealth Care Equipment & ServicesFoodConstructionHotelsTransportationDiversified FinancialsBusiness Services & SuppliesMaterialsBankingBusiness Services & SuppliesBankingBankingBankingUtilitiesTransportationRetailingBusiness Services & SuppliesBankingTechnology Hardware & EquipmentUtilitiesOil & Gas OperationsSemiconductorsRetailingTechnology Hardware & EquipmentConstructionHealth Care Equipment & ServicesUtilitiesDiversified FinancialsTransportationTechnology Hardware & EquipmentRetailingFoodInsuranceIT Software & ServicesCapital GoodsTelecommunications ServicesMaterialsRetailingHousehold & Personal ProductsBankingTransportationDrugs & BiotechnologyBankingConstructionRetailingFoodDiversified FinancialsTelecommunications ServicesChemicalsTelecommunications ServicesDrugs & BiotechnologyDrugs & BiotechnologyTransportationBusiness Services & SuppliesDiversified FinancialsUtilitiesInsuranceBusiness Services & SuppliesMaterialsOil & Gas OperationsMaterialsTechnology Hardware & EquipmentConsumer DurablesBankingConsumer DurablesFoodOil & Gas OperationsFoodFoodMaterialsBankingConstructionTelecommunications ServicesRetailingBankingRetailingTransportationRetailingSemiconductorsInsuranceTechnology Hardware & EquipmentBusiness Services & SuppliesDiversified FinancialsConstructionIT Software & ServicesBankingTransportationInsuranceBankingUtilitiesTechnology Hardware & EquipmentHealth Care Equipment & ServicesHealth Care Equipment & ServicesOil & Gas OperationsBankingRetailingMaterialsUtilitiesBankingUtilitiesDiversified FinancialsBankingConstructionBankingDrugs & BiotechnologyInsuranceTelecommunications ServicesOil & Gas OperationsDrugs & BiotechnologyBankingDiversified FinancialsOil & Gas OperationsTransportationTransportationChemicalsBankingIT Software & ServicesConstructionRetailingBankingFoodTelecommunications ServicesConstructionFoodIT Software & ServicesTechnology Hardware & EquipmentBankingDiversified FinancialsCapital GoodsFoodDiversified FinancialsBankingOil & Gas OperationsTelecommunications ServicesInsuranceCapital GoodsMaterialsDiversified FinancialsDiversified FinancialsConsumer DurablesTelecommunications ServicesMaterialsDiversified FinancialsConsumer DurablesMaterialsFoodBusiness Services & SuppliesFoodTrading CompaniesBankingMaterialsCapital GoodsRetailingBusiness Services & SuppliesHousehold & Personal ProductsMediaBankingConsumer DurablesConstructionDiversified FinancialsConstructionUtilitiesHealth Care Equipment & ServicesInsuranceIT Software & ServicesBankingBankingIT Software & ServicesDrugs & BiotechnologyCapital GoodsIT Software & ServicesConsumer DurablesFoodMaterialsMaterialsBankingBankingRetailingDiversified FinancialsTransportationConsumer DurablesCapital GoodsUtilitiesBusiness Services & SuppliesChemicalsRetailingConsumer DurablesOil & Gas OperationsMaterialsHotelsBankingRetailingTechnology Hardware & EquipmentDiversified FinancialsIT Software & ServicesBankingCapital GoodsIT Software & ServicesCapital GoodsBankingBankingIT Software & ServicesTransportationDiversified FinancialsBusiness Services & SuppliesAerospace & DefenseBankingFoodConstructionFoodBankingCapital GoodsTrading CompaniesConstructionMaterialsBusiness Services & SuppliesSemiconductorsTransportationBankingTransportationConstructionOil & Gas OperationsAerospace & DefenseBankingBankingConstructionTransportationBankingIT Software & ServicesInsuranceConstructionBusiness Services & SuppliesFoodHealth Care Equipment & ServicesHotelsIT Software & ServicesTrading CompaniesSemiconductorsTransportationMaterialsMaterialsConsumer DurablesTrading CompaniesCapital GoodsOil & Gas OperationsBankingOil & Gas OperationsConsumer DurablesRetailingConstructionConglomeratesConstructionTransportationUtilitiesBankingFoodConsumer DurablesRetailingTransportationConsumer DurablesConsumer DurablesIT Software & ServicesBankingRetailingMaterialsIT Software & ServicesMaterialsDiversified FinancialsHotelsMaterialsDiversified FinancialsConsumer DurablesRetailingUtilitiesCapital GoodsConstructionInsuranceInsuranceDiversified FinancialsFoodCapital GoodsFoodBankingTelecommunications ServicesMaterialsMaterialsFoodConstructionCapital GoodsConstructionDiversified FinancialsHealth Care Equipment & ServicesTelecommunications ServicesBusiness Services & SuppliesBusiness Services & SuppliesConsumer DurablesCapital GoodsMaterialsTechnology Hardware & EquipmentDiversified FinancialsBankingTransportationTransportationMaterialsBusiness Services & SuppliesBankingBankingChemicalsConstructionDiversified FinancialsAerospace & DefenseInsuranceHotelsTelecommunications ServicesTransportationFoodOil & Gas OperationsHousehold & Personal ProductsBankingUtilitiesUtilitiesBankingMaterialsTransportationDiversified FinancialsChemicalsChemicalsDrugs & BiotechnologyBankingCapital GoodsDiversified FinancialsDiversified FinancialsMaterialsBusiness Services & SuppliesDrugs & BiotechnologyCapital GoodsAerospace & DefenseDiversified FinancialsConsumer DurablesIT Software & ServicesCapital GoodsBankingBankingChemicalsInsuranceChemicalsTransportationHealth Care Equipment & ServicesMaterialsDiversified FinancialsMaterialsHousehold & Personal ProductsRetailingTelecommunications ServicesConstructionMaterialsUtilitiesRetailingInsuranceBankingMaterialsDrugs & BiotechnologyConsumer DurablesConstructionConstructionMaterialsConstructionUtilitiesHealth Care Equipment & ServicesMediaDiversified FinancialsConsumer DurablesChemicalsIT Software & ServicesConstructionFoodTransportationInsuranceConstructionUtilitiesMaterialsOil & Gas OperationsTechnology Hardware & EquipmentConstructionFood MarketsChemicalsOil & Gas OperationsDiversified FinancialsBusiness Services & SuppliesUtilitiesBankingConstructionDrugs & BiotechnologyTechnology Hardware & EquipmentTelecommunications ServicesBankingDiversified FinancialsBankingMaterialsHousehold & Personal ProductsCapital GoodsFoodAerospace & DefenseRetailingBankingBankingInsuranceInsuranceTransportationBankingHotelsConsumer DurablesDiversified FinancialsBankingBankingOil & Gas OperationsConsumer DurablesBankingRetailingUtilitiesConsumer DurablesBankingChemicalsFood MarketsDiversified FinancialsBusiness Services & SuppliesBankingChemicalsDiversified FinancialsAutomotive (Automotive and Suppliers)BankingHousehold & Personal ProductsBankingDiversified FinancialsInsuranceTrading CompaniesBusiness Services & SuppliesIT Software & ServicesChemicalsTrading CompaniesMaterialsRetailingFoodHealth Care Equipment & ServicesBankingAerospace & DefenseBankingIT Software & ServicesBankingRetailingChemicalsTechnology Hardware & EquipmentDiversified FinancialsBusiness Services & SuppliesMaterialsMaterialsOil & Gas OperationsConstructionConsumer DurablesUtilitiesTrading CompaniesUtilitiesOil & Gas OperationsUtilitiesDiversified FinancialsRetailingDiversified FinancialsConstructionIT Software & ServicesDiversified FinancialsBankingDiversified FinancialsConstructionOil & Gas OperationsConsumer DurablesConsumer DurablesFood MarketsBankingConstructionBankingOil & Gas OperationsChemicalsHousehold & Personal ProductsBusiness Services & SuppliesRetailingInsuranceTransportationRetailingChemicalsBankingDiversified FinancialsFood MarketsHealth Care Equipment & ServicesConstructionInsuranceAerospace & DefenseBankingTelecommunications ServicesBankingOil & Gas OperationsTrading CompaniesIT Software & ServicesRetailingIT Software & ServicesBankingUtilitiesFoodBankingUtilitiesBusiness Services & SuppliesIT Software & ServicesOil & Gas OperationsCapital GoodsTechnology Hardware & EquipmentIT Software & ServicesTransportationDiversified FinancialsTrading CompaniesDiversified FinancialsBankingIT Software & ServicesSemiconductorsDrugs & BiotechnologyBankingBusiness Services & SuppliesTelecommunications ServicesUtilitiesDiversified FinancialsRetailingBusiness Services & SuppliesTrading CompaniesBankingFoodDiversified FinancialsChemicalsBankingBusiness Services & SuppliesIT Software & ServicesFoodInsuranceBusiness Services & SuppliesUtilitiesBusiness Services & SuppliesSemiconductorsBankingTechnology Hardware & EquipmentBankingMediaDiversified FinancialsTrading CompaniesCapital GoodsTransportationMediaIT Software & ServicesBankingBankingMediaBusiness Services & SuppliesDiversified FinancialsMaterialsInsuranceDiversified FinancialsBusiness Services & SuppliesTechnology Hardware & EquipmentRetailingConglomeratesAerospace & DefenseInsuranceBusiness Services & SuppliesBankingUtilitiesHotelsDiversified FinancialsChemicalsSemiconductorsIT Software & ServicesTransportationIT Software & ServicesInsuranceBankingBankingRetailingHealth Care Equipment & ServicesHousehold & Personal ProductsBankingHousehold & Personal ProductsFood MarketsBankingTrading CompaniesHealth Care Equipment & ServicesCapital GoodsBankingBankingFoodHotelsDiversified FinancialsBusiness Services & SuppliesConstructionConstructionIT Software & ServicesMaterialsBankingDrugs & BiotechnologyBankingBankingOil & Gas OperationsMaterialsCapital GoodsDrugs & BiotechnologyCapital GoodsTransportationIT Software & ServicesOil & Gas OperationsBankingOil & Gas OperationsTrading CompaniesHotelsRetailingConsumer DurablesAerospace & DefenseConstructionBankingTransportationFoodBankingMaterialsBankingBankingSemiconductorsBankingDrugs & BiotechnologyBankingUtilitiesConstructionDiversified FinancialsMaterialsTransportationHealth Care Equipment & ServicesTechnology Hardware & EquipmentTransportationBankingTelecommunications ServicesBankingCapital GoodsBankingBankingBankingBankingIT Software & ServicesBusiness Services & SuppliesFoodInsuranceConsumer DurablesChemicalsDiversified FinancialsBankingBankingBankingIT Software & ServicesBankingHealth Care Equipment & ServicesBankingFoodConsumer DurablesTrading CompaniesBusiness Services & SuppliesConsumer DurablesIT Software & ServicesBankingConsumer DurablesDrugs & BiotechnologyTransportationMediaFood MarketsHealth Care Equipment & ServicesRetailingBankingMaterialsTrading CompaniesCapital GoodsTechnology Hardware & EquipmentBankingUtilitiesOil & Gas OperationsDiversified FinancialsOil & Gas OperationsBankingIT Software & ServicesIT Software & ServicesInsuranceConstructionFood MarketsTransportationBankingChemicalsIT Software & ServicesDrugs & BiotechnologyBankingFoodChemicalsBankingHealth Care Equipment & ServicesMaterialsUtilitiesConstructionBankingHousehold & Personal ProductsUtilitiesDrugs & BiotechnologyConstructionHousehold & Personal ProductsRetailingBusiness Services & SuppliesTechnology Hardware & EquipmentDiversified FinancialsConstructionHealth Care Equipment & ServicesBusiness Services & SuppliesChemicalsFoodTransportationChemicalsTransportationFood MarketsTechnology Hardware & EquipmentHotelsConstructionSemiconductorsConstructionBankingMaterialsTransportationBusiness Services & SuppliesConstructionBankingBankingBankingChemicalsDiversified FinancialsTransportationConsumer DurablesInsuranceInsuranceDiversified FinancialsBusiness Services & SuppliesMaterialsTrading CompaniesBankingRetailingConstructionRetailingMaterialsHealth Care Equipment & ServicesBankingFoodBankingHealth Care Equipment & ServicesBusiness Services & SuppliesBankingMaterialsDiversified FinancialsBankingMaterialsDrugs & BiotechnologyMediaBankingOil & Gas OperationsConstructionMaterialsHealth Care Equipment & ServicesChemicalsTechnology Hardware & EquipmentRetailingBusiness Services & SuppliesInsuranceIT Software & ServicesMaterialsMaterialsTransportationTrading CompaniesCapital GoodsTechnology Hardware & EquipmentHotelsBankingConstructionConstructionRetailingChemicalsDiversified FinancialsBankingCapital GoodsDiversified FinancialsDiversified FinancialsIT Software & ServicesBankingIT Software & ServicesAerospace & DefenseDiversified FinancialsBusiness Services & SuppliesHousehold & Personal ProductsBankingUtilitiesOil & Gas OperationsTechnology Hardware & EquipmentDrugs & BiotechnologyDrugs & BiotechnologyDiversified FinancialsRetailingConstructionDiversified FinancialsCapital GoodsBankingTransportationBankingBankingTrading CompaniesMediaMaterialsTechnology Hardware & EquipmentFoodBusiness Services & SuppliesBankingBankingHotelsDrugs & BiotechnologyTechnology Hardware & EquipmentRetailingIT Software & ServicesBankingOil & Gas OperationsBankingUnknownBankingBankingBusiness Services & SuppliesTransportationMaterialsRetailingConglomeratesBankingConsumer DurablesConsumer DurablesFoodBankingBankingFood MarketsTrading CompaniesBusiness Services & SuppliesBankingConstruction'] to numeric"
     ]
    }
   ],
   "source": [
    "df.mean()"
   ]
  },
  {
   "cell_type": "code",
   "execution_count": null,
   "id": "1db333ff-7205-4c5d-bfb0-1a580623b7e9",
   "metadata": {},
   "outputs": [],
   "source": [
    "df"
   ]
  },
  {
   "cell_type": "code",
   "execution_count": null,
   "id": "3622c85d-ef65-44da-8afd-063e1413d8df",
   "metadata": {},
   "outputs": [],
   "source": [
    "df.head()"
   ]
  },
  {
   "cell_type": "code",
   "execution_count": null,
   "id": "854ee14c-6799-4eda-8f96-6cd5070e1c33",
   "metadata": {},
   "outputs": [],
   "source": [
    "#Top 10 by sale"
   ]
  },
  {
   "cell_type": "code",
   "execution_count": null,
   "id": "6a5fb2e6-6a62-4fb4-bbb2-a07d9e5167ae",
   "metadata": {},
   "outputs": [],
   "source": [
    "top_sales = df.nlargest(10, \"Sales ($B)\")"
   ]
  },
  {
   "cell_type": "code",
   "execution_count": null,
   "id": "3d66ffcc-e107-4228-a98e-a260328c47a3",
   "metadata": {},
   "outputs": [],
   "source": [
    "top_sales"
   ]
  },
  {
   "cell_type": "code",
   "execution_count": null,
   "id": "4536f7ac-7acc-4629-a7a5-8b6b411ca3ab",
   "metadata": {},
   "outputs": [],
   "source": [
    "plt.figure(figsize=(10,6))\n",
    "plt.bar(top_sales[\"Company\"], top_sales[\"Sales ($B)\"])\n",
    "plt.title(\"Top 10 Companies by Sales\")\n",
    "plt.xticks(rotation=75, ha=\"right\")\n",
    "plt.xlabel(\"Company\")\n",
    "plt.ylabel(\"Sales ($B)\")\n",
    "plt.show()"
   ]
  },
  {
   "cell_type": "code",
   "execution_count": null,
   "id": "c2b4ede4-02d1-49c5-9a9c-7b20dd5e4f26",
   "metadata": {},
   "outputs": [],
   "source": [
    "plt.figure(figsize=(10,6))\n",
    "df[\"Industry\"].value_counts().plot(kind=\"bar\", color=\"skyblue\")\n",
    "plt.title(\"Number of Companies by Industry\")\n",
    "plt.xlabel(\"Industry\")\n",
    "plt.ylabel(\"Count\")\n",
    "plt.xticks(rotation=75, ha=\"right\")\n",
    "plt.show()\n"
   ]
  },
  {
   "cell_type": "code",
   "execution_count": null,
   "id": "b24c87d5-b906-4817-bb83-c731d5d065b8",
   "metadata": {},
   "outputs": [],
   "source": [
    "plt.figure(figsize=(10,6))\n",
    "df[\"Headquarters\"].value_counts().head(10).plot(kind=\"bar\", color=\"orange\")\n",
    "plt.title(\"Top 10 countries by Number of Companies\")\n",
    "plt.xlabel(\"Country\")\n",
    "plt.ylabel(\"Count\")\n",
    "plt.show()"
   ]
  },
  {
   "cell_type": "code",
   "execution_count": null,
   "id": "da6a3a5f-bb4c-466f-8732-3ad48fac02b3",
   "metadata": {},
   "outputs": [],
   "source": [
    "plt.figure(figsize=(10, 8))\n",
    "plt.scatter(df[\"Sales ($B)\"], df[\"Profit ($B)\"], alpha=0.7, color=\"green\")\n",
    "plt.title(\"Profit VS Sales\")\n",
    "plt.xlabel(\"Sales ($B)\")\n",
    "plt.ylabel(\"Profit ($B)\")\n",
    "plt.show()"
   ]
  },
  {
   "cell_type": "code",
   "execution_count": null,
   "id": "e72c6ad1-d89a-4d05-87be-77573c285b04",
   "metadata": {},
   "outputs": [],
   "source": [
    "top_market = df.nlargest(10, \"Market Value ($B)\")\n",
    "plt.figure(figsize=(10,6))\n",
    "plt.bar(top_market[\"Company\"], top_market[\"Market Value ($B)\"], color=\"purple\")\n",
    "plt.title(\"Top 10 Companies by Market Value\")\n",
    "plt.xticks(rotation=75, ha=\"right\")\n",
    "plt.xlabel(\"Company Name\")\n",
    "plt.ylabel(\"Market Value ($B)\")\n",
    "plt.show()"
   ]
  },
  {
   "cell_type": "code",
   "execution_count": null,
   "id": "fdc54a5e-84a8-4c21-bfdf-12cc1ce246cb",
   "metadata": {},
   "outputs": [],
   "source": [
    "plt.figure(figsize=(10,6))\n",
    "plt.scatter(df[\"Assets ($B)\"], df[\"Market Value ($B)\"], \n",
    "            s=df[\"Profit ($B)\"]*10, alpha=0.6, c=\"red\")\n",
    "plt.title(\"Assets vs Market Value (Bubble size = Profit)\")\n",
    "plt.xlabel(\"Assets ($B)\")\n",
    "plt.ylabel(\"Market Value ($B)\")\n",
    "plt.show()"
   ]
  },
  {
   "cell_type": "code",
   "execution_count": null,
   "id": "a61df692-9ad7-44e3-8d71-dbfbaac2cfd4",
   "metadata": {},
   "outputs": [],
   "source": [
    "df[\"Profit Margin (%)\"] = (df[\"Profit ($B)\"] / df[\"Sales ($B)\"]) * 100\n",
    "\n",
    "plt.figure(figsize=(8,6))\n",
    "sns.heatmap(df[[\"Sales ($B)\", \"Profit ($B)\", \"Assets ($B)\"]].corr(), annot=True, cmap=\"coolwarm\")\n",
    "plt.title(\"Correlation Heatmap of Financial Metrics\")\n",
    "plt.show()"
   ]
  },
  {
   "cell_type": "raw",
   "id": "9dc3a74e-7ad1-437f-ab59-c79e84d342f8",
   "metadata": {},
   "source": [
    "# Pairwise Relationship of Financial Metrics"
   ]
  },
  {
   "cell_type": "code",
   "execution_count": null,
   "id": "6472c050-60b6-4ad4-8937-d517bed9e565",
   "metadata": {},
   "outputs": [],
   "source": [
    "sns.pairplot(df[[\"Sales ($B)\", \"Profit ($B)\", \"Assets ($B)\", \"Market Value ($B)\"]])\n",
    "plt.show()"
   ]
  },
  {
   "cell_type": "code",
   "execution_count": null,
   "id": "a0d6b4cd-dbf1-45b2-8dc7-3e6a60de83e7",
   "metadata": {},
   "outputs": [],
   "source": [
    "import plotly.express as px \n",
    "fig = px.treemap(df, path=[\"Industry\"], values=\"Sales ($B)\", color=\"Profit ($B)\", color_continuous_scale=\"RdYlGn\") \n",
    "fig.show()"
   ]
  },
  {
   "cell_type": "code",
   "execution_count": null,
   "id": "dca7743f-aa15-4e4b-8f29-697e79cb1ae9",
   "metadata": {},
   "outputs": [],
   "source": []
  },
  {
   "cell_type": "code",
   "execution_count": null,
   "id": "631c8e39-3810-477e-92de-23cdf616427e",
   "metadata": {},
   "outputs": [],
   "source": []
  }
 ],
 "metadata": {
  "kernelspec": {
   "display_name": "Python 3 (ipykernel)",
   "language": "python",
   "name": "python3"
  },
  "language_info": {
   "codemirror_mode": {
    "name": "ipython",
    "version": 3
   },
   "file_extension": ".py",
   "mimetype": "text/x-python",
   "name": "python",
   "nbconvert_exporter": "python",
   "pygments_lexer": "ipython3",
   "version": "3.12.4"
  }
 },
 "nbformat": 4,
 "nbformat_minor": 5
}
